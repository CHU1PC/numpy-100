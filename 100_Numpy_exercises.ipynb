{
 "cells": [
  {
   "cell_type": "markdown",
   "id": "52249554",
   "metadata": {},
   "source": [
    "# 100 numpy exercises\n",
    "\n",
    "This is a collection of exercises that have been collected in the numpy mailing list, on stack overflow\n",
    "and in the numpy documentation. The goal of this collection is to offer a quick reference for both old\n",
    "and new users but also to provide a set of exercises for those who teach.\n",
    "\n",
    "\n",
    "If you find an error or think you've a better way to solve some of them, feel\n",
    "free to open an issue at <https://github.com/rougier/numpy-100>."
   ]
  },
  {
   "cell_type": "markdown",
   "id": "9f0e56c3",
   "metadata": {},
   "source": [
    "File automatically generated. See the documentation to update questions/answers/hints programmatically."
   ]
  },
  {
   "cell_type": "markdown",
   "id": "04b078a1",
   "metadata": {},
   "source": [
    "Run the `initialize.py` module, then for each question you can query the\n",
    "answer or an hint with `hint(n)` or `answer(n)` for `n` question number."
   ]
  },
  {
   "cell_type": "code",
   "execution_count": 1,
   "id": "63ebbf77",
   "metadata": {},
   "outputs": [],
   "source": [
    "%run initialise.py"
   ]
  },
  {
   "cell_type": "markdown",
   "id": "e1672806",
   "metadata": {},
   "source": [
    "#### 1. Import the numpy package under the name `np` (★☆☆)"
   ]
  },
  {
   "cell_type": "code",
   "execution_count": 2,
   "id": "c39a5917",
   "metadata": {},
   "outputs": [],
   "source": [
    "import numpy as np"
   ]
  },
  {
   "cell_type": "markdown",
   "id": "1d2a0271",
   "metadata": {},
   "source": [
    "#### 2. Print the numpy version and the configuration (★☆☆)"
   ]
  },
  {
   "cell_type": "code",
   "execution_count": 3,
   "id": "d4160594",
   "metadata": {},
   "outputs": [
    {
     "name": "stdout",
     "output_type": "stream",
     "text": [
      "1.26.4\n"
     ]
    }
   ],
   "source": [
    "print(np.__version__)"
   ]
  },
  {
   "cell_type": "markdown",
   "id": "4490d971",
   "metadata": {},
   "source": [
    "#### 3. Create a null vector of size 10 (★☆☆)"
   ]
  },
  {
   "cell_type": "code",
   "execution_count": 4,
   "id": "9b383fcc",
   "metadata": {},
   "outputs": [],
   "source": [
    "a = np.zeros(10)"
   ]
  },
  {
   "cell_type": "markdown",
   "id": "4a217c03",
   "metadata": {},
   "source": [
    "#### 4. How to find the memory size of any array (★☆☆)"
   ]
  },
  {
   "cell_type": "code",
   "execution_count": 5,
   "id": "7f7c6497",
   "metadata": {},
   "outputs": [
    {
     "name": "stdout",
     "output_type": "stream",
     "text": [
      "Z = np.zeros((10,10))\n",
      "print(\"%d bytes\" % (Z.size * Z.itemsize))\n"
     ]
    }
   ],
   "source": [
    "a.nbytes\n",
    "answer(4)"
   ]
  },
  {
   "cell_type": "markdown",
   "id": "4a412447",
   "metadata": {},
   "source": [
    "#### 5. How to get the documentation of the numpy add function from the command line? (★☆☆)"
   ]
  },
  {
   "cell_type": "code",
   "execution_count": 6,
   "id": "9b19b55d",
   "metadata": {},
   "outputs": [
    {
     "name": "stdout",
     "output_type": "stream",
     "text": [
      "%run `python -c \"import numpy; numpy.info(numpy.add)\"`\n"
     ]
    }
   ],
   "source": [
    "# help(np.add)\n",
    "answer(5)"
   ]
  },
  {
   "cell_type": "markdown",
   "id": "8e890e32",
   "metadata": {},
   "source": [
    "#### 6. Create a null vector of size 10 but the fifth value which is 1 (★☆☆)"
   ]
  },
  {
   "cell_type": "code",
   "execution_count": 7,
   "id": "032ba316",
   "metadata": {},
   "outputs": [
    {
     "data": {
      "text/plain": [
       "array([0., 0., 0., 0., 1., 0., 0., 0., 0., 0.])"
      ]
     },
     "execution_count": 7,
     "metadata": {},
     "output_type": "execute_result"
    }
   ],
   "source": [
    "a = np.zeros(10)\n",
    "a[4] = 1\n",
    "a"
   ]
  },
  {
   "cell_type": "code",
   "execution_count": 8,
   "id": "52ba2ada",
   "metadata": {},
   "outputs": [
    {
     "name": "stdout",
     "output_type": "stream",
     "text": [
      "Z = np.zeros(10)\n",
      "Z[4] = 1\n",
      "print(Z)\n"
     ]
    }
   ],
   "source": [
    "answer(6)"
   ]
  },
  {
   "cell_type": "markdown",
   "id": "36562b7f",
   "metadata": {},
   "source": [
    "#### 7. Create a vector with values ranging from 10 to 49 (★☆☆)"
   ]
  },
  {
   "cell_type": "code",
   "execution_count": 9,
   "id": "2f1ae242",
   "metadata": {},
   "outputs": [
    {
     "data": {
      "text/plain": [
       "array([17, 32, 25, 33, 27, 44, 31, 33, 17, 25])"
      ]
     },
     "execution_count": 9,
     "metadata": {},
     "output_type": "execute_result"
    }
   ],
   "source": [
    "a = np.random.randint(10, 50, 10)\n",
    "a\n"
   ]
  },
  {
   "cell_type": "code",
   "execution_count": 10,
   "id": "db6290a8",
   "metadata": {},
   "outputs": [
    {
     "name": "stdout",
     "output_type": "stream",
     "text": [
      "Z = np.arange(10,50)\n",
      "print(Z)\n"
     ]
    }
   ],
   "source": [
    "answer(7)"
   ]
  },
  {
   "cell_type": "markdown",
   "id": "d7d0e7ff",
   "metadata": {},
   "source": [
    "#### 8. Reverse a vector (first element becomes last) (★☆☆)"
   ]
  },
  {
   "cell_type": "code",
   "execution_count": 11,
   "id": "5a07c5c1",
   "metadata": {},
   "outputs": [
    {
     "data": {
      "text/plain": [
       "array([25, 17, 33, 31, 44, 27, 33, 25, 32, 17])"
      ]
     },
     "execution_count": 11,
     "metadata": {},
     "output_type": "execute_result"
    }
   ],
   "source": [
    "a[::-1]"
   ]
  },
  {
   "cell_type": "code",
   "execution_count": 12,
   "id": "7a27a04c",
   "metadata": {},
   "outputs": [
    {
     "name": "stdout",
     "output_type": "stream",
     "text": [
      "Z = np.arange(50)\n",
      "Z = Z[::-1]\n",
      "print(Z)\n"
     ]
    }
   ],
   "source": [
    "answer(8)"
   ]
  },
  {
   "cell_type": "markdown",
   "id": "1fb509ab",
   "metadata": {},
   "source": [
    "#### 9. Create a 3x3 matrix with values ranging from 0 to 8 (★☆☆)"
   ]
  },
  {
   "cell_type": "code",
   "execution_count": 13,
   "id": "b4702eb8",
   "metadata": {},
   "outputs": [
    {
     "data": {
      "text/plain": [
       "array([[3, 2, 7],\n",
       "       [4, 7, 8],\n",
       "       [5, 3, 6]])"
      ]
     },
     "execution_count": 13,
     "metadata": {},
     "output_type": "execute_result"
    }
   ],
   "source": [
    "a = np.random.randint(0, 9, 9).reshape(3, 3)\n",
    "a"
   ]
  },
  {
   "cell_type": "code",
   "execution_count": 14,
   "id": "bfc9ce19",
   "metadata": {},
   "outputs": [
    {
     "name": "stdout",
     "output_type": "stream",
     "text": [
      "Z = np.arange(9).reshape(3, 3)\n",
      "print(Z)\n"
     ]
    }
   ],
   "source": [
    "answer(9)"
   ]
  },
  {
   "cell_type": "markdown",
   "id": "0d0120c4",
   "metadata": {},
   "source": [
    "#### 10. Find indices of non-zero elements from [1,2,0,0,4,0] (★☆☆)"
   ]
  },
  {
   "cell_type": "code",
   "execution_count": 15,
   "id": "ead69303",
   "metadata": {},
   "outputs": [
    {
     "data": {
      "text/plain": [
       "(array([2, 3, 5], dtype=int64),)"
      ]
     },
     "execution_count": 15,
     "metadata": {},
     "output_type": "execute_result"
    }
   ],
   "source": [
    "a = np.array([1, 2, 0, 0, 4, 0])\n",
    "a = np.where(a == 0)\n",
    "a"
   ]
  },
  {
   "cell_type": "markdown",
   "id": "c001c117",
   "metadata": {},
   "source": [
    "#### 11. Create a 3x3 identity matrix (★☆☆)"
   ]
  },
  {
   "cell_type": "code",
   "execution_count": 16,
   "id": "e7f9417c",
   "metadata": {},
   "outputs": [
    {
     "data": {
      "text/plain": [
       "array([[1., 0., 0.],\n",
       "       [0., 1., 0.],\n",
       "       [0., 0., 1.]])"
      ]
     },
     "execution_count": 16,
     "metadata": {},
     "output_type": "execute_result"
    }
   ],
   "source": [
    "a = np.eye(3)\n",
    "a"
   ]
  },
  {
   "cell_type": "markdown",
   "id": "5f75e7a8",
   "metadata": {},
   "source": [
    "#### 12. Create a 3x3x3 array with random values (★☆☆)"
   ]
  },
  {
   "cell_type": "code",
   "execution_count": 17,
   "id": "ec3c59bb",
   "metadata": {},
   "outputs": [
    {
     "data": {
      "text/plain": [
       "array([[[0.52011275, 0.72759061, 0.76566468],\n",
       "        [0.5169392 , 0.96677112, 0.49608316],\n",
       "        [0.75843179, 0.31305731, 0.58535126]],\n",
       "\n",
       "       [[0.00503931, 0.51009483, 0.43079739],\n",
       "        [0.69877621, 0.63741861, 0.92035099],\n",
       "        [0.07392463, 0.73105247, 0.54480213]],\n",
       "\n",
       "       [[0.83007137, 0.74502807, 0.90727634],\n",
       "        [0.432556  , 0.79167062, 0.1287495 ],\n",
       "        [0.58371011, 0.18693577, 0.62480734]]])"
      ]
     },
     "execution_count": 17,
     "metadata": {},
     "output_type": "execute_result"
    }
   ],
   "source": [
    "np.random.random([3, 3, 3])"
   ]
  },
  {
   "cell_type": "code",
   "execution_count": 18,
   "id": "35f678ae",
   "metadata": {},
   "outputs": [
    {
     "name": "stdout",
     "output_type": "stream",
     "text": [
      "Z = np.random.random((3,3,3))\n",
      "print(Z)\n"
     ]
    }
   ],
   "source": [
    "answer(12)"
   ]
  },
  {
   "cell_type": "markdown",
   "id": "7f012f49",
   "metadata": {},
   "source": [
    "#### 13. Create a 10x10 array with random values and find the minimum and maximum values (★☆☆)"
   ]
  },
  {
   "cell_type": "code",
   "execution_count": 19,
   "id": "8247cae0",
   "metadata": {},
   "outputs": [
    {
     "name": "stdout",
     "output_type": "stream",
     "text": [
      "0.0033458799879105827 0.9983444924919938\n"
     ]
    }
   ],
   "source": [
    "a = np.random.random([10, 10])\n",
    "print(a.min(), a.max())"
   ]
  },
  {
   "cell_type": "code",
   "execution_count": 20,
   "id": "289c042a",
   "metadata": {},
   "outputs": [
    {
     "name": "stdout",
     "output_type": "stream",
     "text": [
      "Z = np.random.random((10,10))\n",
      "Zmin, Zmax = Z.min(), Z.max()\n",
      "print(Zmin, Zmax)\n"
     ]
    }
   ],
   "source": [
    "answer(13)"
   ]
  },
  {
   "cell_type": "markdown",
   "id": "7d976fd0",
   "metadata": {},
   "source": [
    "#### 14. Create a random vector of size 30 and find the mean value (★☆☆)"
   ]
  },
  {
   "cell_type": "code",
   "execution_count": 21,
   "id": "1d5c77fd",
   "metadata": {},
   "outputs": [
    {
     "name": "stdout",
     "output_type": "stream",
     "text": [
      "0.5517816898856301\n"
     ]
    }
   ],
   "source": [
    "a = np.random.random(30).mean()\n",
    "print(a)"
   ]
  },
  {
   "cell_type": "code",
   "execution_count": 22,
   "id": "6bb2fcda",
   "metadata": {},
   "outputs": [
    {
     "name": "stdout",
     "output_type": "stream",
     "text": [
      "Z = np.random.random(30)\n",
      "m = Z.mean()\n",
      "print(m)\n"
     ]
    }
   ],
   "source": [
    "answer(14)"
   ]
  },
  {
   "cell_type": "markdown",
   "id": "c5266946",
   "metadata": {},
   "source": [
    "#### 15. Create a 2d array with 1 on the border and 0 inside (★☆☆)"
   ]
  },
  {
   "cell_type": "code",
   "execution_count": 23,
   "id": "140eff80",
   "metadata": {},
   "outputs": [
    {
     "data": {
      "text/plain": [
       "array([[1., 1., 1., 1.],\n",
       "       [1., 0., 0., 1.],\n",
       "       [1., 0., 0., 1.],\n",
       "       [1., 1., 1., 1.]])"
      ]
     },
     "execution_count": 23,
     "metadata": {},
     "output_type": "execute_result"
    }
   ],
   "source": [
    "a = np.ones([4, 4])\n",
    "a[1:-1, 1:-1] = 0\n",
    "a"
   ]
  },
  {
   "cell_type": "code",
   "execution_count": 24,
   "id": "9840d217",
   "metadata": {},
   "outputs": [
    {
     "name": "stdout",
     "output_type": "stream",
     "text": [
      "Z = np.ones((10,10))\n",
      "Z[1:-1,1:-1] = 0\n",
      "print(Z)\n"
     ]
    }
   ],
   "source": [
    "answer(15)"
   ]
  },
  {
   "cell_type": "markdown",
   "id": "2dd11b32",
   "metadata": {},
   "source": [
    "#### 16. How to add a border (filled with 0's) around an existing array? (★☆☆)"
   ]
  },
  {
   "cell_type": "code",
   "execution_count": 25,
   "id": "ab1d50a8",
   "metadata": {},
   "outputs": [
    {
     "data": {
      "text/plain": [
       "array([[0., 0., 0., 0., 0.],\n",
       "       [0., 1., 1., 1., 0.],\n",
       "       [0., 1., 1., 1., 0.],\n",
       "       [0., 1., 1., 1., 0.],\n",
       "       [0., 0., 0., 0., 0.]])"
      ]
     },
     "execution_count": 25,
     "metadata": {},
     "output_type": "execute_result"
    }
   ],
   "source": [
    "a = np.ones([3, 3])\n",
    "a = np.pad(a, pad_width=1, mode=\"constant\")  # padding\n",
    "a"
   ]
  },
  {
   "cell_type": "code",
   "execution_count": 26,
   "id": "73e67756",
   "metadata": {},
   "outputs": [
    {
     "name": "stdout",
     "output_type": "stream",
     "text": [
      "Z = np.ones((5,5))\n",
      "Z = np.pad(Z, pad_width=1, mode='constant', constant_values=0)\n",
      "print(Z)\n",
      "\n",
      "# Using fancy indexing\n",
      "Z[:, [0, -1]] = 0\n",
      "Z[[0, -1], :] = 0\n",
      "print(Z)\n"
     ]
    }
   ],
   "source": [
    "answer(16)"
   ]
  },
  {
   "cell_type": "markdown",
   "id": "a7c39246",
   "metadata": {},
   "source": [
    "#### 17. What is the result of the following expression? (★☆☆)\n",
    "```python\n",
    "0 * np.nan\n",
    "np.nan == np.nan\n",
    "np.inf > np.nan\n",
    "np.nan - np.nan\n",
    "np.nan in set([np.nan])\n",
    "0.3 == 3 * 0.1\n",
    "```"
   ]
  },
  {
   "cell_type": "code",
   "execution_count": 27,
   "id": "3a3964cf",
   "metadata": {},
   "outputs": [
    {
     "data": {
      "text/plain": [
       "False"
      ]
     },
     "execution_count": 27,
     "metadata": {},
     "output_type": "execute_result"
    }
   ],
   "source": [
    "0.3 == 3 * 0.1"
   ]
  },
  {
   "cell_type": "code",
   "execution_count": 28,
   "id": "d960e10f",
   "metadata": {},
   "outputs": [
    {
     "name": "stdout",
     "output_type": "stream",
     "text": [
      "nan\n",
      "False\n",
      "False\n",
      "nan\n",
      "True\n",
      "False\n"
     ]
    }
   ],
   "source": [
    "print(0 * np.nan)\n",
    "print(np.nan == np.nan)\n",
    "print(np.inf > np.nan)\n",
    "print(np.nan - np.nan)\n",
    "print(np.nan in set([np.nan]))\n",
    "print(0.3 == 3 * 0.1)"
   ]
  },
  {
   "cell_type": "code",
   "execution_count": 29,
   "id": "848ac6f0",
   "metadata": {},
   "outputs": [
    {
     "name": "stdout",
     "output_type": "stream",
     "text": [
      "print(0 * np.nan)\n",
      "print(np.nan == np.nan)\n",
      "print(np.inf > np.nan)\n",
      "print(np.nan - np.nan)\n",
      "print(np.nan in set([np.nan]))\n",
      "print(0.3 == 3 * 0.1)\n"
     ]
    }
   ],
   "source": [
    "answer(17)"
   ]
  },
  {
   "cell_type": "markdown",
   "id": "757aff7a",
   "metadata": {},
   "source": [
    "#### 18. Create a 5x5 matrix with values 1,2,3,4 just below the diagonal (★☆☆)"
   ]
  },
  {
   "cell_type": "code",
   "execution_count": 30,
   "id": "fc9309c9",
   "metadata": {},
   "outputs": [
    {
     "data": {
      "text/plain": [
       "array([[1, 0, 0, 0],\n",
       "       [0, 2, 0, 0],\n",
       "       [0, 0, 3, 0],\n",
       "       [0, 0, 0, 4]])"
      ]
     },
     "execution_count": 30,
     "metadata": {},
     "output_type": "execute_result"
    }
   ],
   "source": [
    "np.diag([1, 2, 3, 4], k=0)"
   ]
  },
  {
   "cell_type": "markdown",
   "id": "ae259b07",
   "metadata": {},
   "source": [
    "#### 19. Create a 8x8 matrix and fill it with a checkerboard pattern (★☆☆)"
   ]
  },
  {
   "cell_type": "code",
   "execution_count": 31,
   "id": "ceccc277",
   "metadata": {},
   "outputs": [
    {
     "data": {
      "text/plain": [
       "array([[1., 0., 1., 0., 1., 0., 1., 0.],\n",
       "       [0., 1., 0., 1., 0., 1., 0., 1.],\n",
       "       [1., 0., 1., 0., 1., 0., 1., 0.],\n",
       "       [0., 1., 0., 1., 0., 1., 0., 1.],\n",
       "       [1., 0., 1., 0., 1., 0., 1., 0.],\n",
       "       [0., 1., 0., 1., 0., 1., 0., 1.],\n",
       "       [1., 0., 1., 0., 1., 0., 1., 0.],\n",
       "       [0., 1., 0., 1., 0., 1., 0., 1.]])"
      ]
     },
     "execution_count": 31,
     "metadata": {},
     "output_type": "execute_result"
    }
   ],
   "source": [
    "a = np.zeros([8, 8])\n",
    "a[::2, ::2] = 1\n",
    "a[1::2, 1::2] = 1\n",
    "a"
   ]
  },
  {
   "cell_type": "markdown",
   "id": "9f5d548e",
   "metadata": {},
   "source": [
    "#### 20. Consider a (6,7,8) shape array, what is the index (x,y,z) of the 100th element? (★☆☆)"
   ]
  },
  {
   "cell_type": "code",
   "execution_count": 32,
   "id": "ebf6fa3c",
   "metadata": {},
   "outputs": [
    {
     "data": {
      "text/plain": [
       "99"
      ]
     },
     "execution_count": 32,
     "metadata": {},
     "output_type": "execute_result"
    }
   ],
   "source": [
    "a = np.array(np.arange(336).reshape(6, 7, 8))\n",
    "a[1, 5, 3]"
   ]
  },
  {
   "cell_type": "code",
   "execution_count": 33,
   "id": "e87dc815",
   "metadata": {},
   "outputs": [
    {
     "name": "stdout",
     "output_type": "stream",
     "text": [
      "(1, 5, 3)\n"
     ]
    }
   ],
   "source": [
    "print(np.unravel_index(99,(6,7,8)))  # 1次元のインデックスを多次元インデックスに変換してくれる"
   ]
  },
  {
   "cell_type": "code",
   "execution_count": 34,
   "id": "1d6f5165",
   "metadata": {},
   "outputs": [
    {
     "name": "stdout",
     "output_type": "stream",
     "text": [
      "print(np.unravel_index(99,(6,7,8)))\n"
     ]
    }
   ],
   "source": [
    "answer(20)"
   ]
  },
  {
   "cell_type": "markdown",
   "id": "e1fe826b",
   "metadata": {},
   "source": [
    "#### 21. Create a checkerboard 8x8 matrix using the tile function (★☆☆)"
   ]
  },
  {
   "cell_type": "code",
   "execution_count": 35,
   "id": "7cbd262a",
   "metadata": {},
   "outputs": [
    {
     "data": {
      "text/plain": [
       "array([[0, 1, 0, 1, 0, 1, 0, 1],\n",
       "       [1, 0, 1, 0, 1, 0, 1, 0],\n",
       "       [0, 1, 0, 1, 0, 1, 0, 1],\n",
       "       [1, 0, 1, 0, 1, 0, 1, 0],\n",
       "       [0, 1, 0, 1, 0, 1, 0, 1],\n",
       "       [1, 0, 1, 0, 1, 0, 1, 0],\n",
       "       [0, 1, 0, 1, 0, 1, 0, 1],\n",
       "       [1, 0, 1, 0, 1, 0, 1, 0]])"
      ]
     },
     "execution_count": 35,
     "metadata": {},
     "output_type": "execute_result"
    }
   ],
   "source": [
    "a = [[0, 1], [1, 0]]\n",
    "b = np.tile(a, (4, 4))\n",
    "b"
   ]
  },
  {
   "cell_type": "code",
   "execution_count": 36,
   "id": "56b2b1d5",
   "metadata": {},
   "outputs": [
    {
     "name": "stdout",
     "output_type": "stream",
     "text": [
      "Z = np.tile( np.array([[0,1],[1,0]]), (4,4))\n",
      "print(Z)\n"
     ]
    }
   ],
   "source": [
    "answer(21)"
   ]
  },
  {
   "cell_type": "markdown",
   "id": "3cc99a9e",
   "metadata": {},
   "source": [
    "#### 22. Normalize a 5x5 random matrix (★☆☆)"
   ]
  },
  {
   "cell_type": "code",
   "execution_count": 37,
   "id": "96ec3796",
   "metadata": {},
   "outputs": [
    {
     "data": {
      "text/plain": [
       "array([[0.88276825, 0.35384307, 0.03598913, 0.93645836, 0.50520827],\n",
       "       [0.99886966, 0.72506601, 0.71484714, 0.52531031, 1.        ],\n",
       "       [0.87186431, 0.53284458, 0.35501373, 0.        , 0.30585208],\n",
       "       [0.52417304, 0.12381182, 0.70310985, 0.16736073, 0.83897911],\n",
       "       [0.09948148, 0.01275824, 0.94415853, 0.46920113, 0.82041269]])"
      ]
     },
     "execution_count": 37,
     "metadata": {},
     "output_type": "execute_result"
    }
   ],
   "source": [
    "a = np.array(np.random.random((5, 5)))\n",
    "a_min = a.min()\n",
    "a_max = a.max()\n",
    "a = (a - a_min) / (a_max - a_min)\n",
    "a\n"
   ]
  },
  {
   "cell_type": "markdown",
   "id": "3cefb279",
   "metadata": {},
   "source": [
    "#### 23. Create a custom dtype that describes a color as four unsigned bytes (RGBA) (★☆☆)"
   ]
  },
  {
   "cell_type": "code",
   "execution_count": 38,
   "id": "06231cc7",
   "metadata": {},
   "outputs": [],
   "source": [
    "color = np.dtype([(\"r\", np.ubyte),\n",
    "                 (\"g\", np.ubyte),\n",
    "                 (\"b\", np.ubyte),\n",
    "                 (\"a\", np.ubyte)])"
   ]
  },
  {
   "cell_type": "code",
   "execution_count": 39,
   "id": "3701a796",
   "metadata": {},
   "outputs": [
    {
     "name": "stdout",
     "output_type": "stream",
     "text": [
      "color = np.dtype([(\"r\", np.ubyte),\n",
      "                  (\"g\", np.ubyte),\n",
      "                  (\"b\", np.ubyte),\n",
      "                  (\"a\", np.ubyte)])\n"
     ]
    }
   ],
   "source": [
    "answer(23)"
   ]
  },
  {
   "cell_type": "markdown",
   "id": "04177bf2",
   "metadata": {},
   "source": [
    "#### 24. Multiply a 5x3 matrix by a 3x2 matrix (real matrix product) (★☆☆)"
   ]
  },
  {
   "cell_type": "code",
   "execution_count": 40,
   "id": "25c78847",
   "metadata": {},
   "outputs": [
    {
     "data": {
      "text/plain": [
       "array([[1.09079407, 1.31751034],\n",
       "       [0.536819  , 1.2586748 ],\n",
       "       [0.56970907, 1.00973645],\n",
       "       [0.83771859, 0.91528917],\n",
       "       [0.51646344, 1.02413552]])"
      ]
     },
     "execution_count": 40,
     "metadata": {},
     "output_type": "execute_result"
    }
   ],
   "source": [
    "a = np.array(np.random.random([5, 3]))\n",
    "b = np.array(np.random.random([3, 2]))\n",
    "np.matmul(a, b)"
   ]
  },
  {
   "cell_type": "markdown",
   "id": "14a38540",
   "metadata": {},
   "source": [
    "#### 25. Given a 1D array, negate all elements which are between 3 and 8, in place. (★☆☆)"
   ]
  },
  {
   "cell_type": "code",
   "execution_count": 41,
   "id": "85a57a73",
   "metadata": {},
   "outputs": [
    {
     "data": {
      "text/plain": [
       "array([ 0,  1,  2,  3, -4, -5, -6, -7,  8,  9, 10])"
      ]
     },
     "execution_count": 41,
     "metadata": {},
     "output_type": "execute_result"
    }
   ],
   "source": [
    "a = np.array(np.arange(11))\n",
    "a[((3 < a) & (a < 8))] *= -1\n",
    "a"
   ]
  },
  {
   "cell_type": "code",
   "execution_count": 42,
   "id": "5ae41b86",
   "metadata": {},
   "outputs": [
    {
     "name": "stdout",
     "output_type": "stream",
     "text": [
      "# Author: Evgeni Burovski\n",
      "\n",
      "Z = np.arange(11)\n",
      "Z[(3 < Z) & (Z < 8)] *= -1\n",
      "print(Z)\n"
     ]
    }
   ],
   "source": [
    "answer(25)"
   ]
  },
  {
   "cell_type": "code",
   "execution_count": 43,
   "id": "4f05c259",
   "metadata": {},
   "outputs": [
    {
     "name": "stdout",
     "output_type": "stream",
     "text": [
      "[ 0  1  2  3 -4 -5 -6 -7  8  9 10]\n"
     ]
    }
   ],
   "source": [
    "Z = np.arange(11)\n",
    "Z[(3 < Z) & (Z < 8)] *= -1\n",
    "print(Z)"
   ]
  },
  {
   "cell_type": "markdown",
   "id": "bb586fda",
   "metadata": {},
   "source": [
    "#### 26. What is the output of the following script? (★☆☆)\n",
    "```python\n",
    "# Author: Jake VanderPlas\n",
    "\n",
    "print(sum(range(5),-1))\n",
    "from numpy import *\n",
    "print(sum(range(5),-1))\n",
    "```"
   ]
  },
  {
   "cell_type": "code",
   "execution_count": 44,
   "id": "5094a699",
   "metadata": {},
   "outputs": [
    {
     "data": {
      "text/plain": [
       "9"
      ]
     },
     "execution_count": 44,
     "metadata": {},
     "output_type": "execute_result"
    }
   ],
   "source": [
    "sum(range(5), -1)"
   ]
  },
  {
   "cell_type": "markdown",
   "id": "198cdc05",
   "metadata": {},
   "source": [
    "#### 27. Consider an integer vector Z, which of these expressions are legal? (★☆☆)\n",
    "```python\n",
    "Z**Z\n",
    "2 << Z >> 2\n",
    "Z <- Z\n",
    "1j*Z\n",
    "Z/1/1\n",
    "Z<Z>Z\n",
    "```"
   ]
  },
  {
   "cell_type": "code",
   "execution_count": 45,
   "id": "a4195583",
   "metadata": {},
   "outputs": [
    {
     "data": {
      "text/plain": [
       "'python\\n1. ok\\n2. no\\n3. ok\\n4. ok\\n5. ok\\n6. no\\n'"
      ]
     },
     "execution_count": 45,
     "metadata": {},
     "output_type": "execute_result"
    }
   ],
   "source": [
    "####\n",
    "\"\"\"python\n",
    "1. ok\n",
    "2. no\n",
    "3. ok\n",
    "4. ok\n",
    "5. ok\n",
    "6. no\n",
    "\"\"\""
   ]
  },
  {
   "cell_type": "code",
   "execution_count": 46,
   "id": "2ef75b28",
   "metadata": {},
   "outputs": [
    {
     "data": {
      "text/plain": [
       "array([0.+1.j, 0.+2.j, 0.+3.j])"
      ]
     },
     "execution_count": 46,
     "metadata": {},
     "output_type": "execute_result"
    }
   ],
   "source": [
    "Z = np.array([1, 2, 3])\n",
    "1j*Z  # jは虚数単位"
   ]
  },
  {
   "cell_type": "markdown",
   "id": "d83bb54b",
   "metadata": {},
   "source": [
    "#### 28. What are the result of the following expressions? (★☆☆)\n",
    "```python\n",
    "np.array(0) / np.array(0)\n",
    "np.array(0) // np.array(0)\n",
    "np.array([np.nan]).astype(int).astype(float)\n",
    "```"
   ]
  },
  {
   "cell_type": "code",
   "execution_count": 47,
   "id": "be03647f",
   "metadata": {},
   "outputs": [
    {
     "name": "stderr",
     "output_type": "stream",
     "text": [
      "C:\\Users\\CHU1P\\AppData\\Local\\Temp\\ipykernel_3656\\941235769.py:1: RuntimeWarning: invalid value encountered in divide\n",
      "  np.array(0) / np.array(0)  # numpyはエラーが出たときに中断せずに、nanを返す\n"
     ]
    },
    {
     "data": {
      "text/plain": [
       "nan"
      ]
     },
     "execution_count": 47,
     "metadata": {},
     "output_type": "execute_result"
    }
   ],
   "source": [
    "np.array(0) / np.array(0)  # numpyはエラーが出たときに中断せずに、nanを返す"
   ]
  },
  {
   "cell_type": "code",
   "execution_count": 48,
   "id": "5367280c",
   "metadata": {},
   "outputs": [
    {
     "name": "stderr",
     "output_type": "stream",
     "text": [
      "C:\\Users\\CHU1P\\AppData\\Local\\Temp\\ipykernel_3656\\2018018105.py:1: RuntimeWarning: divide by zero encountered in floor_divide\n",
      "  np.array(0) // np.array(0)\n"
     ]
    },
    {
     "data": {
      "text/plain": [
       "0"
      ]
     },
     "execution_count": 48,
     "metadata": {},
     "output_type": "execute_result"
    }
   ],
   "source": [
    "np.array(0) // np.array(0)"
   ]
  },
  {
   "cell_type": "code",
   "execution_count": 49,
   "id": "277bd109",
   "metadata": {},
   "outputs": [
    {
     "name": "stderr",
     "output_type": "stream",
     "text": [
      "C:\\Users\\CHU1P\\AppData\\Local\\Temp\\ipykernel_3656\\2424127791.py:1: RuntimeWarning: invalid value encountered in cast\n",
      "  np.array([np.nan]).astype(int).astype(float)  # np.nanはint型に変えるとその方の最小値になる\n"
     ]
    },
    {
     "data": {
      "text/plain": [
       "array([-2.14748365e+09])"
      ]
     },
     "execution_count": 49,
     "metadata": {},
     "output_type": "execute_result"
    }
   ],
   "source": [
    "np.array([np.nan]).astype(int).astype(float)  # np.nanはint型に変えるとその方の最小値になる"
   ]
  },
  {
   "cell_type": "markdown",
   "id": "415d2d18",
   "metadata": {},
   "source": [
    "#### 29. How to round away from zero a float array ? (★☆☆)"
   ]
  },
  {
   "cell_type": "code",
   "execution_count": 50,
   "id": "63df40b7",
   "metadata": {},
   "outputs": [
    {
     "name": "stdout",
     "output_type": "stream",
     "text": [
      "[ 8.66478784 -4.78130065  3.72655256 -9.1748464   2.46570814]\n",
      "[  9.  -5.   4. -10.   3.]\n"
     ]
    }
   ],
   "source": [
    "a = np.array(np.random.uniform(-10, 10, 5))\n",
    "print(a)\n",
    "a = np.where(a >= 0, np.ceil(a), np.floor(a))\n",
    "print(a)"
   ]
  },
  {
   "cell_type": "code",
   "execution_count": 51,
   "id": "be31a670",
   "metadata": {},
   "outputs": [
    {
     "name": "stdout",
     "output_type": "stream",
     "text": [
      "# Author: Charles R Harris\n",
      "\n",
      "Z = np.random.uniform(-10,+10,10)\n",
      "print(np.copysign(np.ceil(np.abs(Z)), Z))\n",
      "\n",
      "# More readable but less efficient\n",
      "print(np.where(Z>0, np.ceil(Z), np.floor(Z)))\n"
     ]
    }
   ],
   "source": [
    "answer(29)"
   ]
  },
  {
   "cell_type": "markdown",
   "id": "40ddc32c",
   "metadata": {},
   "source": [
    "#### 30. How to find common values between two arrays? (★☆☆)"
   ]
  },
  {
   "cell_type": "code",
   "execution_count": 52,
   "id": "e4e221c3",
   "metadata": {},
   "outputs": [
    {
     "name": "stdout",
     "output_type": "stream",
     "text": [
      "[5 8 5 3 6] [7 5 4 7 2]\n"
     ]
    },
    {
     "data": {
      "text/plain": [
       "array([5])"
      ]
     },
     "execution_count": 52,
     "metadata": {},
     "output_type": "execute_result"
    }
   ],
   "source": [
    "a = np.random.randint(1, 9, 5)\n",
    "b = np.random.randint(1, 9, 5)\n",
    "print(a, b)\n",
    "np.intersect1d(a, b)  # 共通の値を出力する, 出力はsortされている"
   ]
  },
  {
   "cell_type": "markdown",
   "id": "96a2b00a",
   "metadata": {},
   "source": [
    "#### 31. How to ignore all numpy warnings (not recommended)? (★☆☆)"
   ]
  },
  {
   "cell_type": "code",
   "execution_count": 53,
   "id": "97517a73",
   "metadata": {},
   "outputs": [
    {
     "name": "stdout",
     "output_type": "stream",
     "text": [
      "# Suicide mode on\n",
      "defaults = np.seterr(all=\"ignore\")\n",
      "Z = np.ones(1) / 0\n",
      "\n",
      "# Back to sanity\n",
      "_ = np.seterr(**defaults)\n",
      "\n",
      "# Equivalently with a context manager\n",
      "with np.errstate(all=\"ignore\"):\n",
      "    np.arange(3) / 0\n"
     ]
    }
   ],
   "source": [
    "answer(31)"
   ]
  },
  {
   "cell_type": "code",
   "execution_count": 54,
   "id": "56419ba4",
   "metadata": {},
   "outputs": [],
   "source": [
    "defaults = np.seterr(all=\"ignore\")\n",
    "z = np.ones(1) / 0"
   ]
  },
  {
   "cell_type": "markdown",
   "id": "5164e541",
   "metadata": {},
   "source": [
    "#### 32. Is the following expressions true? (★☆☆)\n",
    "```python\n",
    "np.sqrt(-1) == np.emath.sqrt(-1)\n",
    "```"
   ]
  },
  {
   "cell_type": "code",
   "execution_count": 55,
   "id": "c05aab40",
   "metadata": {},
   "outputs": [
    {
     "data": {
      "text/plain": [
       "1j"
      ]
     },
     "execution_count": 55,
     "metadata": {},
     "output_type": "execute_result"
    }
   ],
   "source": [
    "np.emath.sqrt(-1)  # emathは複素数が答えの場合は複素数に変える"
   ]
  },
  {
   "cell_type": "markdown",
   "id": "6ff7fdf8",
   "metadata": {},
   "source": [
    "#### 33. How to get the dates of yesterday, today and tomorrow? (★☆☆)"
   ]
  },
  {
   "cell_type": "code",
   "execution_count": 56,
   "id": "6156213d",
   "metadata": {},
   "outputs": [
    {
     "name": "stdout",
     "output_type": "stream",
     "text": [
      "2025-06-25\n",
      "2025-06-26\n",
      "2025-06-27\n"
     ]
    }
   ],
   "source": [
    "print(np.datetime64(\"today\", \"D\") - np.timedelta64(1, \"D\"))\n",
    "print(np.datetime64(\"today\", \"D\"))\n",
    "print(np.datetime64(\"today\", \"D\") + np.timedelta64(1, \"D\"))"
   ]
  },
  {
   "cell_type": "code",
   "execution_count": 57,
   "id": "19e007b5",
   "metadata": {},
   "outputs": [
    {
     "name": "stdout",
     "output_type": "stream",
     "text": [
      "2025-06-25 2025-06-26 2025-06-27\n"
     ]
    }
   ],
   "source": [
    "import pandas as pd\n",
    "\n",
    "today = pd.Timestamp(\"today\")\n",
    "yesterday = (today - pd.Timedelta(days=1)).strftime(\"%Y-%m-%d\")\n",
    "tomorrow = (today + pd.Timedelta(days=1)).strftime(\"%Y-%m-%d\")\n",
    "today = today.strftime(\"%Y-%m-%d\")\n",
    "print(yesterday, today, tomorrow)"
   ]
  },
  {
   "cell_type": "markdown",
   "id": "97dde2a7",
   "metadata": {},
   "source": [
    "#### 34. How to get all the dates corresponding to the month of July 2016? (★★☆)"
   ]
  },
  {
   "cell_type": "code",
   "execution_count": 58,
   "id": "b8775358",
   "metadata": {},
   "outputs": [
    {
     "data": {
      "text/plain": [
       "DatetimeIndex(['2016-07-01', '2016-07-02', '2016-07-03', '2016-07-04',\n",
       "               '2016-07-05', '2016-07-06', '2016-07-07', '2016-07-08',\n",
       "               '2016-07-09', '2016-07-10', '2016-07-11', '2016-07-12',\n",
       "               '2016-07-13', '2016-07-14', '2016-07-15', '2016-07-16',\n",
       "               '2016-07-17', '2016-07-18', '2016-07-19', '2016-07-20',\n",
       "               '2016-07-21', '2016-07-22', '2016-07-23', '2016-07-24',\n",
       "               '2016-07-25', '2016-07-26', '2016-07-27', '2016-07-28',\n",
       "               '2016-07-29', '2016-07-30', '2016-07-31'],\n",
       "              dtype='datetime64[ns]', freq='D')"
      ]
     },
     "execution_count": 58,
     "metadata": {},
     "output_type": "execute_result"
    }
   ],
   "source": [
    "a = pd.date_range(start=\"2016-07-01\", end=\"2016-07-31\", freq=\"D\")\n",
    "a"
   ]
  },
  {
   "cell_type": "code",
   "execution_count": 59,
   "id": "3f18f265",
   "metadata": {},
   "outputs": [
    {
     "data": {
      "text/plain": [
       "array(['2016-07-01', '2016-07-02', '2016-07-03', '2016-07-04',\n",
       "       '2016-07-05', '2016-07-06', '2016-07-07', '2016-07-08',\n",
       "       '2016-07-09', '2016-07-10', '2016-07-11', '2016-07-12',\n",
       "       '2016-07-13', '2016-07-14', '2016-07-15', '2016-07-16',\n",
       "       '2016-07-17', '2016-07-18', '2016-07-19', '2016-07-20',\n",
       "       '2016-07-21', '2016-07-22', '2016-07-23', '2016-07-24',\n",
       "       '2016-07-25', '2016-07-26', '2016-07-27', '2016-07-28',\n",
       "       '2016-07-29', '2016-07-30', '2016-07-31'], dtype='datetime64[D]')"
      ]
     },
     "execution_count": 59,
     "metadata": {},
     "output_type": "execute_result"
    }
   ],
   "source": [
    "np.arange(\"2016-07\", \"2016-08\", dtype=\"datetime64[D]\")"
   ]
  },
  {
   "cell_type": "code",
   "execution_count": 60,
   "id": "249806a3",
   "metadata": {},
   "outputs": [
    {
     "name": "stdout",
     "output_type": "stream",
     "text": [
      "Z = np.arange('2016-07', '2016-08', dtype='datetime64[D]')\n",
      "print(Z)\n"
     ]
    }
   ],
   "source": [
    "answer(34)"
   ]
  },
  {
   "cell_type": "markdown",
   "id": "78f4ad65",
   "metadata": {},
   "source": [
    "#### 35. How to compute ((A+B)*(-A/2)) in place (without copy)? (★★☆)"
   ]
  },
  {
   "cell_type": "code",
   "execution_count": 61,
   "id": "d9bee25c",
   "metadata": {},
   "outputs": [
    {
     "name": "stdout",
     "output_type": "stream",
     "text": [
      "A = np.ones(3)*1\n",
      "B = np.ones(3)*2\n",
      "np.add(A,B,out=B)\n",
      "np.divide(A,2,out=A)\n",
      "np.negative(A,out=A)\n",
      "np.multiply(A,B,out=A)\n"
     ]
    }
   ],
   "source": [
    "answer(35)"
   ]
  },
  {
   "cell_type": "code",
   "execution_count": 62,
   "id": "56d474e2",
   "metadata": {},
   "outputs": [
    {
     "name": "stdout",
     "output_type": "stream",
     "text": [
      "[2. 2. 2.]\n",
      "[3. 3. 3.]\n",
      "[-0.5 -0.5 -0.5]\n"
     ]
    }
   ],
   "source": [
    "A = np.ones(3) * 1\n",
    "B = np.ones(3) * 2\n",
    "print(B)\n",
    "print(np.add(A, B, out=B))  # numpyのaddやnegativeを使うことによってメモリの使用を削減できる\n",
    "np.negative(A, out=A)\n",
    "print(np.divide(A, 2, out=A))"
   ]
  },
  {
   "cell_type": "markdown",
   "id": "1a194d91",
   "metadata": {},
   "source": [
    "#### 36. Extract the integer part of a random array of positive numbers using 4 different methods (★★☆)"
   ]
  },
  {
   "cell_type": "code",
   "execution_count": 63,
   "id": "46a4ab0a",
   "metadata": {},
   "outputs": [
    {
     "name": "stdout",
     "output_type": "stream",
     "text": [
      "[ 9  5 -8 -4 -1]\n",
      "[ 9.  5. -8. -4. -1.]\n",
      "[ 9.  5. -9. -5. -2.]\n",
      "[ 9.  5. -8. -4. -1.]\n"
     ]
    }
   ],
   "source": [
    "a = np.array([9.43702508, 5.44392995, -8.80030341, -4.46399976, -1.06240269])\n",
    "print(a.astype(int))\n",
    "print(np.where(a >= 0, np.floor(a), np.ceil(a)))\n",
    "print(a // 1)\n",
    "print(np.trunc(a))  # np.where(a >= 0, np.floor(a), np.ceil(a))これと同じ"
   ]
  },
  {
   "cell_type": "code",
   "execution_count": 64,
   "id": "03d28319",
   "metadata": {},
   "outputs": [
    {
     "name": "stdout",
     "output_type": "stream",
     "text": [
      "Z = np.random.uniform(0,10,10)\n",
      "\n",
      "print(Z - Z%1)\n",
      "print(Z // 1)\n",
      "print(np.floor(Z))\n",
      "print(Z.astype(int))\n",
      "print(np.trunc(Z))\n"
     ]
    }
   ],
   "source": [
    "answer(36)"
   ]
  },
  {
   "cell_type": "markdown",
   "id": "23a9130d",
   "metadata": {},
   "source": [
    "#### 37. Create a 5x5 matrix with row values ranging from 0 to 4 (★★☆)"
   ]
  },
  {
   "cell_type": "code",
   "execution_count": 65,
   "id": "8a08a042",
   "metadata": {},
   "outputs": [
    {
     "data": {
      "text/plain": [
       "array([[0, 1, 2, 3, 4],\n",
       "       [0, 1, 2, 3, 4],\n",
       "       [0, 1, 2, 3, 4],\n",
       "       [0, 1, 2, 3, 4],\n",
       "       [0, 1, 2, 3, 4]])"
      ]
     },
     "execution_count": 65,
     "metadata": {},
     "output_type": "execute_result"
    }
   ],
   "source": [
    "np.array(np.tile([0, 1, 2, 3, 4], (5, 1)))"
   ]
  },
  {
   "cell_type": "code",
   "execution_count": 66,
   "id": "b79e85d6",
   "metadata": {},
   "outputs": [
    {
     "name": "stdout",
     "output_type": "stream",
     "text": [
      "Z = np.zeros((5,5))\n",
      "Z += np.arange(5)\n",
      "print(Z)\n",
      "\n",
      "# without broadcasting\n",
      "Z = np.tile(np.arange(0, 5), (5,1))\n",
      "print(Z)\n"
     ]
    }
   ],
   "source": [
    "answer(37)"
   ]
  },
  {
   "cell_type": "markdown",
   "id": "e225eafa",
   "metadata": {},
   "source": [
    "#### 38. Consider a generator function that generates 10 integers and use it to build an array (★☆☆)"
   ]
  },
  {
   "cell_type": "code",
   "execution_count": 67,
   "id": "7c2acc82",
   "metadata": {},
   "outputs": [
    {
     "name": "stdout",
     "output_type": "stream",
     "text": [
      "[0 1 2 3 4 5 6 7 8 9]\n"
     ]
    }
   ],
   "source": [
    "def int_generator():\n",
    "    for i in range(10):\n",
    "        yield i\n",
    "\n",
    "print(np.fromiter(int_generator(), dtype=int))"
   ]
  },
  {
   "cell_type": "code",
   "execution_count": 68,
   "id": "76093f83",
   "metadata": {},
   "outputs": [
    {
     "name": "stdout",
     "output_type": "stream",
     "text": [
      "def generate():\n",
      "    for x in range(10):\n",
      "        yield x\n",
      "Z = np.fromiter(generate(),dtype=float,count=-1)\n",
      "print(Z)\n"
     ]
    }
   ],
   "source": [
    "answer(38)"
   ]
  },
  {
   "cell_type": "markdown",
   "id": "2f61a8f5",
   "metadata": {},
   "source": [
    "#### 39. Create a vector of size 10 with values ranging from 0 to 1, both excluded (★★☆)"
   ]
  },
  {
   "cell_type": "code",
   "execution_count": 69,
   "id": "ef7bc11c",
   "metadata": {},
   "outputs": [
    {
     "data": {
      "text/plain": [
       "5e-324"
      ]
     },
     "execution_count": 69,
     "metadata": {},
     "output_type": "execute_result"
    }
   ],
   "source": [
    "np.nextafter(0, 1)"
   ]
  },
  {
   "cell_type": "code",
   "execution_count": 70,
   "id": "a035d358",
   "metadata": {},
   "outputs": [
    {
     "data": {
      "text/plain": [
       "array([0.4516397 , 0.89607411, 0.03066312, 0.07868227, 0.80537714,\n",
       "       0.52639725, 0.43278191, 0.26175988, 0.4152044 , 0.64751615])"
      ]
     },
     "execution_count": 70,
     "metadata": {},
     "output_type": "execute_result"
    }
   ],
   "source": [
    "np.random.uniform(np.nextafter(0, 1), 1, 10)"
   ]
  },
  {
   "cell_type": "code",
   "execution_count": 71,
   "id": "27af1fb7",
   "metadata": {},
   "outputs": [
    {
     "data": {
      "text/plain": [
       "array([0.09090909, 0.18181818, 0.27272727, 0.36363636, 0.45454545,\n",
       "       0.54545455, 0.63636364, 0.72727273, 0.81818182, 0.90909091])"
      ]
     },
     "execution_count": 71,
     "metadata": {},
     "output_type": "execute_result"
    }
   ],
   "source": [
    "np.linspace(0, 1, 11, endpoint=False)[1:]"
   ]
  },
  {
   "cell_type": "code",
   "execution_count": 72,
   "id": "b818e62d",
   "metadata": {},
   "outputs": [
    {
     "name": "stdout",
     "output_type": "stream",
     "text": [
      "Z = np.linspace(0,1,11,endpoint=False)[1:]\n",
      "print(Z)\n"
     ]
    }
   ],
   "source": [
    "answer(39)"
   ]
  },
  {
   "cell_type": "markdown",
   "id": "d5ae0694",
   "metadata": {},
   "source": [
    "#### 40. Create a random vector of size 10 and sort it (★★☆)"
   ]
  },
  {
   "cell_type": "code",
   "execution_count": 73,
   "id": "0b5a407d",
   "metadata": {},
   "outputs": [
    {
     "name": "stdout",
     "output_type": "stream",
     "text": [
      "[0.07831157 0.13776577 0.27410351 0.33664053 0.37203922 0.51557351\n",
      " 0.5535723  0.56134189 0.7972836  0.94325591]\n"
     ]
    }
   ],
   "source": [
    "a = np.random.random(10)\n",
    "a.sort()\n",
    "print(a)"
   ]
  },
  {
   "cell_type": "markdown",
   "id": "1a355962",
   "metadata": {},
   "source": [
    "#### 41. How to sum a small array faster than np.sum? (★★☆)"
   ]
  },
  {
   "cell_type": "code",
   "execution_count": 74,
   "id": "70917f47",
   "metadata": {},
   "outputs": [
    {
     "name": "stdout",
     "output_type": "stream",
     "text": [
      "# Author: Evgeni Burovski\n",
      "\n",
      "Z = np.arange(10)\n",
      "np.add.reduce(Z)\n"
     ]
    }
   ],
   "source": [
    "answer(41)"
   ]
  },
  {
   "cell_type": "code",
   "execution_count": 75,
   "id": "44f862a0",
   "metadata": {},
   "outputs": [
    {
     "data": {
      "text/plain": [
       "45"
      ]
     },
     "execution_count": 75,
     "metadata": {},
     "output_type": "execute_result"
    }
   ],
   "source": [
    "a = np.arange(10)\n",
    "np.add.reduce(a)"
   ]
  },
  {
   "cell_type": "markdown",
   "id": "42e65d4e",
   "metadata": {},
   "source": [
    "#### 42. Consider two random arrays A and B, check if they are equal (★★☆)"
   ]
  },
  {
   "cell_type": "code",
   "execution_count": 76,
   "id": "c4ae0c00",
   "metadata": {},
   "outputs": [
    {
     "name": "stdout",
     "output_type": "stream",
     "text": [
      "False\n"
     ]
    }
   ],
   "source": [
    "A = np.random.randint(0, 2, 5)\n",
    "B = np.random.randint(0, 2, 5)\n",
    "equal = np.allclose(A, B)\n",
    "print(equal)"
   ]
  },
  {
   "cell_type": "code",
   "execution_count": 77,
   "id": "1e74f6af",
   "metadata": {},
   "outputs": [
    {
     "name": "stdout",
     "output_type": "stream",
     "text": [
      "A = np.random.randint(0,2,5)\n",
      "B = np.random.randint(0,2,5)\n",
      "\n",
      "# Assuming identical shape of the arrays and a tolerance for the comparison of values\n",
      "equal = np.allclose(A,B)\n",
      "print(equal)\n",
      "\n",
      "# Checking both the shape and the element values, no tolerance (values have to be exactly equal)\n",
      "equal = np.array_equal(A,B)\n",
      "print(equal)\n"
     ]
    }
   ],
   "source": [
    "answer(42)"
   ]
  },
  {
   "cell_type": "markdown",
   "id": "37c295dd",
   "metadata": {},
   "source": [
    "#### 43. Make an array immutable (read-only) (★★☆)"
   ]
  },
  {
   "cell_type": "code",
   "execution_count": 78,
   "id": "5a2cf158",
   "metadata": {},
   "outputs": [
    {
     "data": {
      "text/plain": [
       "array([1, 2, 3])"
      ]
     },
     "execution_count": 78,
     "metadata": {},
     "output_type": "execute_result"
    }
   ],
   "source": [
    "a = np.array([1, 2, 3])\n",
    "a.flags.writeable = False\n",
    "a"
   ]
  },
  {
   "cell_type": "code",
   "execution_count": 79,
   "id": "ab0bd3b6",
   "metadata": {},
   "outputs": [
    {
     "name": "stdout",
     "output_type": "stream",
     "text": [
      "Z = np.zeros(10)\n",
      "Z.flags.writeable = False\n",
      "Z[0] = 1\n"
     ]
    }
   ],
   "source": [
    "answer(43)"
   ]
  },
  {
   "cell_type": "markdown",
   "id": "e92096de",
   "metadata": {},
   "source": [
    "#### 44. Consider a random 10x2 matrix representing cartesian coordinates, convert them to polar coordinates (★★☆)"
   ]
  },
  {
   "cell_type": "code",
   "execution_count": 80,
   "id": "7d4f2602",
   "metadata": {},
   "outputs": [
    {
     "name": "stdout",
     "output_type": "stream",
     "text": [
      "[0.24427017 1.14814851 0.75075672 0.63510986 0.46289736 0.52020734\n",
      " 0.96147149 0.89726943 0.65527359 0.99730344]\n",
      "[0.81790403 0.95718855 0.44867724 1.16870473 1.45138613 0.33406354\n",
      " 0.45500367 0.98909295 0.56966557 1.22908521]\n"
     ]
    }
   ],
   "source": [
    "A = np.array([[0.16702026, 0.17824744],\n",
    " [0.66112783, 0.93869856],\n",
    " [0.67644807, 0.3256588 ],\n",
    " [0.24854642, 0.58445634],\n",
    " [0.0551434, 0.4596011 ],\n",
    " [0.49144912, 0.17056799],\n",
    " [0.86365082, 0.42253366],\n",
    " [0.49300285, 0.74969368],\n",
    " [0.5517937, 0.35342211],\n",
    " [0.33419615, 0.939642]])\n",
    "sheta = np.arctan2(A[:, 1] ,A[:, 0])\n",
    "np.square(A, out=A)\n",
    "A = np.sum(A, axis=1)\n",
    "R = np.sqrt(A)\n",
    "print(R)\n",
    "print(sheta)\n"
   ]
  },
  {
   "cell_type": "code",
   "execution_count": 81,
   "id": "82dd730f",
   "metadata": {},
   "outputs": [
    {
     "name": "stdout",
     "output_type": "stream",
     "text": [
      "[[0.56288738 0.3288837 ]\n",
      " [0.16095967 0.6705789 ]\n",
      " [0.35902706 0.66354454]\n",
      " [0.59073947 0.65023066]\n",
      " [0.00849414 0.81755104]\n",
      " [0.13975356 0.07347506]\n",
      " [0.8382981  0.39514962]\n",
      " [0.63006588 0.06845681]\n",
      " [0.93802814 0.42583526]\n",
      " [0.07915645 0.1668943 ]]\n",
      "[0.65192537 0.68962604 0.754448   0.87850613 0.81759517 0.15789123\n",
      " 0.92676152 0.63377389 1.03016137 0.18471451]\n",
      "[0.5287803  1.33522211 1.07483149 0.83330075 1.56040696 0.48403266\n",
      " 0.44048344 0.10822571 0.42614925 1.12792673]\n"
     ]
    }
   ],
   "source": [
    "Z = np.random.random((10,2))\n",
    "print(Z)\n",
    "X,Y = Z[:,0], Z[:,1]\n",
    "R = np.sqrt(X**2+Y**2)\n",
    "T = np.arctan2(Y,X)\n",
    "print(R)\n",
    "print(T)"
   ]
  },
  {
   "cell_type": "code",
   "execution_count": 82,
   "id": "dae53403",
   "metadata": {},
   "outputs": [
    {
     "name": "stdout",
     "output_type": "stream",
     "text": [
      "Z = np.random.random((10,2))\n",
      "X,Y = Z[:,0], Z[:,1]\n",
      "R = np.sqrt(X**2+Y**2)\n",
      "T = np.arctan2(Y,X)\n",
      "print(R)\n",
      "print(T)\n"
     ]
    }
   ],
   "source": [
    "answer(44)"
   ]
  },
  {
   "cell_type": "markdown",
   "id": "a71d88ea",
   "metadata": {},
   "source": [
    "#### 45. Create random vector of size 10 and replace the maximum value by 0 (★★☆)"
   ]
  },
  {
   "cell_type": "code",
   "execution_count": 83,
   "id": "1298225a",
   "metadata": {},
   "outputs": [
    {
     "data": {
      "text/plain": [
       "array([0.37202623, 0.50394137, 0.40645342, 0.51594729, 0.26869654,\n",
       "       0.33819655, 0.33458392, 0.22521119, 0.37914126, 0.        ])"
      ]
     },
     "execution_count": 83,
     "metadata": {},
     "output_type": "execute_result"
    }
   ],
   "source": [
    "a = np.random.random(10)\n",
    "a[a.argmax()] = 0\n",
    "a"
   ]
  },
  {
   "cell_type": "markdown",
   "id": "261c253c",
   "metadata": {},
   "source": [
    "#### 46. Create a structured array with `x` and `y` coordinates covering the [0,1]x[0,1] area (★★☆)"
   ]
  },
  {
   "cell_type": "code",
   "execution_count": 84,
   "id": "9150a4a1",
   "metadata": {},
   "outputs": [
    {
     "data": {
      "text/plain": [
       "array([[(0.90924839, 0.55778438)],\n",
       "       [(0.91149015, 0.4635815 )],\n",
       "       [(0.67481474, 0.94151274)],\n",
       "       [(0.41858061, 0.608662  )],\n",
       "       [(0.84440059, 0.85945322)]], dtype=[('x', '<f8'), ('y', '<f8')])"
      ]
     },
     "execution_count": 84,
     "metadata": {},
     "output_type": "execute_result"
    }
   ],
   "source": [
    "structed_dtype = np.dtype([(\"x\", float), (\"y\", float)])\n",
    "a = np.array(np.random.uniform(0, np.nextafter(1, 2), 10).reshape(-1, 2))\n",
    "a.dtype = structed_dtype\n",
    "a"
   ]
  },
  {
   "cell_type": "code",
   "execution_count": 85,
   "id": "9b79e9b3",
   "metadata": {},
   "outputs": [
    {
     "name": "stdout",
     "output_type": "stream",
     "text": [
      "Z = np.zeros((5,5), [('x',float),('y',float)])\n",
      "Z['x'], Z['y'] = np.meshgrid(np.linspace(0,1,5),\n",
      "                             np.linspace(0,1,5))\n",
      "print(Z)\n"
     ]
    }
   ],
   "source": [
    "answer(46)"
   ]
  },
  {
   "cell_type": "markdown",
   "id": "265deebd",
   "metadata": {},
   "source": [
    "#### 47. Given two arrays, X and Y, construct the Cauchy matrix C (Cij =1/(xi - yj)) (★★☆)"
   ]
  },
  {
   "cell_type": "code",
   "execution_count": 86,
   "id": "9fad2a0d",
   "metadata": {},
   "outputs": [
    {
     "name": "stdout",
     "output_type": "stream",
     "text": [
      "[[  -3.30483469   -5.44101747   -2.43711332   -1.10154607   -1.21126206]\n",
      " [   1.92471016    1.56652257    2.42822035  -11.67280434 -290.74533593]\n",
      " [  10.78482643    4.72766956  -66.6149588    -1.9512001    -2.32409333]\n",
      " [   3.16271783    2.29894784    4.79733084   -3.45967838   -4.83525258]\n",
      " [  -4.68274137  -10.55383542   -3.11250493   -1.22133215   -1.3576842 ]]\n"
     ]
    }
   ],
   "source": [
    "X = np.array(np.random.random(5))\n",
    "Y = np.array(np.random.random(5))\n",
    "C = 1 / np.subtract.outer(X, Y)\n",
    "print(C)"
   ]
  },
  {
   "cell_type": "code",
   "execution_count": 87,
   "id": "c02603f4",
   "metadata": {},
   "outputs": [
    {
     "name": "stdout",
     "output_type": "stream",
     "text": [
      "# Author: Evgeni Burovski\n",
      "\n",
      "X = np.arange(8)\n",
      "Y = X + 0.5\n",
      "C = 1.0 / np.subtract.outer(X, Y)\n",
      "print(np.linalg.det(C))\n"
     ]
    }
   ],
   "source": [
    "answer(47)"
   ]
  },
  {
   "cell_type": "code",
   "execution_count": 88,
   "id": "9e82895d",
   "metadata": {},
   "outputs": [
    {
     "data": {
      "text/plain": [
       "array([[11,  7, 12],\n",
       "       [11,  7, 12],\n",
       "       [17, 13, 18],\n",
       "       [11,  7, 12],\n",
       "       [13,  9, 14],\n",
       "       [11,  7, 12],\n",
       "       [13,  9, 14],\n",
       "       [13,  9, 14],\n",
       "       [15, 11, 16],\n",
       "       [10,  6, 11]])"
      ]
     },
     "execution_count": 88,
     "metadata": {},
     "output_type": "execute_result"
    }
   ],
   "source": [
    "a = np.array(np.random.randint(1, 10, 10))\n",
    "b = np.array(np.random.randint(1, 10, 3))\n",
    "np.add.outer(a, b)"
   ]
  },
  {
   "cell_type": "markdown",
   "id": "f9007f53",
   "metadata": {},
   "source": [
    "#### 48. Print the minimum and maximum representable values for each numpy scalar type (★★☆)"
   ]
  },
  {
   "cell_type": "code",
   "execution_count": 89,
   "id": "2a97c51a",
   "metadata": {},
   "outputs": [
    {
     "name": "stdout",
     "output_type": "stream",
     "text": [
      "Machine parameters for int8\n",
      "---------------------------------------------------------------\n",
      "min = -128\n",
      "max = 127\n",
      "---------------------------------------------------------------\n",
      "\n",
      "Machine parameters for float16\n",
      "---------------------------------------------------------------\n",
      "precision =   3   resolution = 1.00040e-03\n",
      "machep =    -10   eps =        9.76562e-04\n",
      "negep =     -11   epsneg =     4.88281e-04\n",
      "minexp =    -14   tiny =       6.10352e-05\n",
      "maxexp =     16   max =        6.55040e+04\n",
      "nexp =        5   min =        -max\n",
      "smallest_normal = 6.10352e-05   smallest_subnormal = 5.96046e-08\n",
      "---------------------------------------------------------------\n",
      "\n"
     ]
    }
   ],
   "source": [
    "print(np.iinfo(np.int8))\n",
    "print(np.finfo(np.float16))"
   ]
  },
  {
   "cell_type": "code",
   "execution_count": 90,
   "id": "687423a8",
   "metadata": {},
   "outputs": [
    {
     "name": "stdout",
     "output_type": "stream",
     "text": [
      "hint: np.iinfo, np.finfo, eps\n"
     ]
    }
   ],
   "source": [
    "hint(48)"
   ]
  },
  {
   "cell_type": "markdown",
   "id": "5130ea82",
   "metadata": {},
   "source": [
    "#### 49. How to print all the values of an array? (★★☆)"
   ]
  },
  {
   "cell_type": "code",
   "execution_count": 91,
   "id": "4636aa7a",
   "metadata": {},
   "outputs": [
    {
     "name": "stdout",
     "output_type": "stream",
     "text": [
      "[[0. 0. 0. 0. 0. 0. 0. 0. 0. 0. 0. 0. 0. 0. 0. 0. 0. 0. 0. 0. 0. 0. 0. 0.\n",
      "  0. 0. 0. 0. 0. 0. 0. 0. 0. 0. 0. 0. 0. 0. 0. 0.]\n",
      " [0. 0. 0. 0. 0. 0. 0. 0. 0. 0. 0. 0. 0. 0. 0. 0. 0. 0. 0. 0. 0. 0. 0. 0.\n",
      "  0. 0. 0. 0. 0. 0. 0. 0. 0. 0. 0. 0. 0. 0. 0. 0.]\n",
      " [0. 0. 0. 0. 0. 0. 0. 0. 0. 0. 0. 0. 0. 0. 0. 0. 0. 0. 0. 0. 0. 0. 0. 0.\n",
      "  0. 0. 0. 0. 0. 0. 0. 0. 0. 0. 0. 0. 0. 0. 0. 0.]\n",
      " [0. 0. 0. 0. 0. 0. 0. 0. 0. 0. 0. 0. 0. 0. 0. 0. 0. 0. 0. 0. 0. 0. 0. 0.\n",
      "  0. 0. 0. 0. 0. 0. 0. 0. 0. 0. 0. 0. 0. 0. 0. 0.]\n",
      " [0. 0. 0. 0. 0. 0. 0. 0. 0. 0. 0. 0. 0. 0. 0. 0. 0. 0. 0. 0. 0. 0. 0. 0.\n",
      "  0. 0. 0. 0. 0. 0. 0. 0. 0. 0. 0. 0. 0. 0. 0. 0.]\n",
      " [0. 0. 0. 0. 0. 0. 0. 0. 0. 0. 0. 0. 0. 0. 0. 0. 0. 0. 0. 0. 0. 0. 0. 0.\n",
      "  0. 0. 0. 0. 0. 0. 0. 0. 0. 0. 0. 0. 0. 0. 0. 0.]\n",
      " [0. 0. 0. 0. 0. 0. 0. 0. 0. 0. 0. 0. 0. 0. 0. 0. 0. 0. 0. 0. 0. 0. 0. 0.\n",
      "  0. 0. 0. 0. 0. 0. 0. 0. 0. 0. 0. 0. 0. 0. 0. 0.]\n",
      " [0. 0. 0. 0. 0. 0. 0. 0. 0. 0. 0. 0. 0. 0. 0. 0. 0. 0. 0. 0. 0. 0. 0. 0.\n",
      "  0. 0. 0. 0. 0. 0. 0. 0. 0. 0. 0. 0. 0. 0. 0. 0.]\n",
      " [0. 0. 0. 0. 0. 0. 0. 0. 0. 0. 0. 0. 0. 0. 0. 0. 0. 0. 0. 0. 0. 0. 0. 0.\n",
      "  0. 0. 0. 0. 0. 0. 0. 0. 0. 0. 0. 0. 0. 0. 0. 0.]\n",
      " [0. 0. 0. 0. 0. 0. 0. 0. 0. 0. 0. 0. 0. 0. 0. 0. 0. 0. 0. 0. 0. 0. 0. 0.\n",
      "  0. 0. 0. 0. 0. 0. 0. 0. 0. 0. 0. 0. 0. 0. 0. 0.]\n",
      " [0. 0. 0. 0. 0. 0. 0. 0. 0. 0. 0. 0. 0. 0. 0. 0. 0. 0. 0. 0. 0. 0. 0. 0.\n",
      "  0. 0. 0. 0. 0. 0. 0. 0. 0. 0. 0. 0. 0. 0. 0. 0.]\n",
      " [0. 0. 0. 0. 0. 0. 0. 0. 0. 0. 0. 0. 0. 0. 0. 0. 0. 0. 0. 0. 0. 0. 0. 0.\n",
      "  0. 0. 0. 0. 0. 0. 0. 0. 0. 0. 0. 0. 0. 0. 0. 0.]\n",
      " [0. 0. 0. 0. 0. 0. 0. 0. 0. 0. 0. 0. 0. 0. 0. 0. 0. 0. 0. 0. 0. 0. 0. 0.\n",
      "  0. 0. 0. 0. 0. 0. 0. 0. 0. 0. 0. 0. 0. 0. 0. 0.]\n",
      " [0. 0. 0. 0. 0. 0. 0. 0. 0. 0. 0. 0. 0. 0. 0. 0. 0. 0. 0. 0. 0. 0. 0. 0.\n",
      "  0. 0. 0. 0. 0. 0. 0. 0. 0. 0. 0. 0. 0. 0. 0. 0.]\n",
      " [0. 0. 0. 0. 0. 0. 0. 0. 0. 0. 0. 0. 0. 0. 0. 0. 0. 0. 0. 0. 0. 0. 0. 0.\n",
      "  0. 0. 0. 0. 0. 0. 0. 0. 0. 0. 0. 0. 0. 0. 0. 0.]\n",
      " [0. 0. 0. 0. 0. 0. 0. 0. 0. 0. 0. 0. 0. 0. 0. 0. 0. 0. 0. 0. 0. 0. 0. 0.\n",
      "  0. 0. 0. 0. 0. 0. 0. 0. 0. 0. 0. 0. 0. 0. 0. 0.]\n",
      " [0. 0. 0. 0. 0. 0. 0. 0. 0. 0. 0. 0. 0. 0. 0. 0. 0. 0. 0. 0. 0. 0. 0. 0.\n",
      "  0. 0. 0. 0. 0. 0. 0. 0. 0. 0. 0. 0. 0. 0. 0. 0.]\n",
      " [0. 0. 0. 0. 0. 0. 0. 0. 0. 0. 0. 0. 0. 0. 0. 0. 0. 0. 0. 0. 0. 0. 0. 0.\n",
      "  0. 0. 0. 0. 0. 0. 0. 0. 0. 0. 0. 0. 0. 0. 0. 0.]\n",
      " [0. 0. 0. 0. 0. 0. 0. 0. 0. 0. 0. 0. 0. 0. 0. 0. 0. 0. 0. 0. 0. 0. 0. 0.\n",
      "  0. 0. 0. 0. 0. 0. 0. 0. 0. 0. 0. 0. 0. 0. 0. 0.]\n",
      " [0. 0. 0. 0. 0. 0. 0. 0. 0. 0. 0. 0. 0. 0. 0. 0. 0. 0. 0. 0. 0. 0. 0. 0.\n",
      "  0. 0. 0. 0. 0. 0. 0. 0. 0. 0. 0. 0. 0. 0. 0. 0.]\n",
      " [0. 0. 0. 0. 0. 0. 0. 0. 0. 0. 0. 0. 0. 0. 0. 0. 0. 0. 0. 0. 0. 0. 0. 0.\n",
      "  0. 0. 0. 0. 0. 0. 0. 0. 0. 0. 0. 0. 0. 0. 0. 0.]\n",
      " [0. 0. 0. 0. 0. 0. 0. 0. 0. 0. 0. 0. 0. 0. 0. 0. 0. 0. 0. 0. 0. 0. 0. 0.\n",
      "  0. 0. 0. 0. 0. 0. 0. 0. 0. 0. 0. 0. 0. 0. 0. 0.]\n",
      " [0. 0. 0. 0. 0. 0. 0. 0. 0. 0. 0. 0. 0. 0. 0. 0. 0. 0. 0. 0. 0. 0. 0. 0.\n",
      "  0. 0. 0. 0. 0. 0. 0. 0. 0. 0. 0. 0. 0. 0. 0. 0.]\n",
      " [0. 0. 0. 0. 0. 0. 0. 0. 0. 0. 0. 0. 0. 0. 0. 0. 0. 0. 0. 0. 0. 0. 0. 0.\n",
      "  0. 0. 0. 0. 0. 0. 0. 0. 0. 0. 0. 0. 0. 0. 0. 0.]\n",
      " [0. 0. 0. 0. 0. 0. 0. 0. 0. 0. 0. 0. 0. 0. 0. 0. 0. 0. 0. 0. 0. 0. 0. 0.\n",
      "  0. 0. 0. 0. 0. 0. 0. 0. 0. 0. 0. 0. 0. 0. 0. 0.]\n",
      " [0. 0. 0. 0. 0. 0. 0. 0. 0. 0. 0. 0. 0. 0. 0. 0. 0. 0. 0. 0. 0. 0. 0. 0.\n",
      "  0. 0. 0. 0. 0. 0. 0. 0. 0. 0. 0. 0. 0. 0. 0. 0.]\n",
      " [0. 0. 0. 0. 0. 0. 0. 0. 0. 0. 0. 0. 0. 0. 0. 0. 0. 0. 0. 0. 0. 0. 0. 0.\n",
      "  0. 0. 0. 0. 0. 0. 0. 0. 0. 0. 0. 0. 0. 0. 0. 0.]\n",
      " [0. 0. 0. 0. 0. 0. 0. 0. 0. 0. 0. 0. 0. 0. 0. 0. 0. 0. 0. 0. 0. 0. 0. 0.\n",
      "  0. 0. 0. 0. 0. 0. 0. 0. 0. 0. 0. 0. 0. 0. 0. 0.]\n",
      " [0. 0. 0. 0. 0. 0. 0. 0. 0. 0. 0. 0. 0. 0. 0. 0. 0. 0. 0. 0. 0. 0. 0. 0.\n",
      "  0. 0. 0. 0. 0. 0. 0. 0. 0. 0. 0. 0. 0. 0. 0. 0.]\n",
      " [0. 0. 0. 0. 0. 0. 0. 0. 0. 0. 0. 0. 0. 0. 0. 0. 0. 0. 0. 0. 0. 0. 0. 0.\n",
      "  0. 0. 0. 0. 0. 0. 0. 0. 0. 0. 0. 0. 0. 0. 0. 0.]\n",
      " [0. 0. 0. 0. 0. 0. 0. 0. 0. 0. 0. 0. 0. 0. 0. 0. 0. 0. 0. 0. 0. 0. 0. 0.\n",
      "  0. 0. 0. 0. 0. 0. 0. 0. 0. 0. 0. 0. 0. 0. 0. 0.]\n",
      " [0. 0. 0. 0. 0. 0. 0. 0. 0. 0. 0. 0. 0. 0. 0. 0. 0. 0. 0. 0. 0. 0. 0. 0.\n",
      "  0. 0. 0. 0. 0. 0. 0. 0. 0. 0. 0. 0. 0. 0. 0. 0.]\n",
      " [0. 0. 0. 0. 0. 0. 0. 0. 0. 0. 0. 0. 0. 0. 0. 0. 0. 0. 0. 0. 0. 0. 0. 0.\n",
      "  0. 0. 0. 0. 0. 0. 0. 0. 0. 0. 0. 0. 0. 0. 0. 0.]\n",
      " [0. 0. 0. 0. 0. 0. 0. 0. 0. 0. 0. 0. 0. 0. 0. 0. 0. 0. 0. 0. 0. 0. 0. 0.\n",
      "  0. 0. 0. 0. 0. 0. 0. 0. 0. 0. 0. 0. 0. 0. 0. 0.]\n",
      " [0. 0. 0. 0. 0. 0. 0. 0. 0. 0. 0. 0. 0. 0. 0. 0. 0. 0. 0. 0. 0. 0. 0. 0.\n",
      "  0. 0. 0. 0. 0. 0. 0. 0. 0. 0. 0. 0. 0. 0. 0. 0.]\n",
      " [0. 0. 0. 0. 0. 0. 0. 0. 0. 0. 0. 0. 0. 0. 0. 0. 0. 0. 0. 0. 0. 0. 0. 0.\n",
      "  0. 0. 0. 0. 0. 0. 0. 0. 0. 0. 0. 0. 0. 0. 0. 0.]\n",
      " [0. 0. 0. 0. 0. 0. 0. 0. 0. 0. 0. 0. 0. 0. 0. 0. 0. 0. 0. 0. 0. 0. 0. 0.\n",
      "  0. 0. 0. 0. 0. 0. 0. 0. 0. 0. 0. 0. 0. 0. 0. 0.]\n",
      " [0. 0. 0. 0. 0. 0. 0. 0. 0. 0. 0. 0. 0. 0. 0. 0. 0. 0. 0. 0. 0. 0. 0. 0.\n",
      "  0. 0. 0. 0. 0. 0. 0. 0. 0. 0. 0. 0. 0. 0. 0. 0.]\n",
      " [0. 0. 0. 0. 0. 0. 0. 0. 0. 0. 0. 0. 0. 0. 0. 0. 0. 0. 0. 0. 0. 0. 0. 0.\n",
      "  0. 0. 0. 0. 0. 0. 0. 0. 0. 0. 0. 0. 0. 0. 0. 0.]\n",
      " [0. 0. 0. 0. 0. 0. 0. 0. 0. 0. 0. 0. 0. 0. 0. 0. 0. 0. 0. 0. 0. 0. 0. 0.\n",
      "  0. 0. 0. 0. 0. 0. 0. 0. 0. 0. 0. 0. 0. 0. 0. 0.]]\n"
     ]
    }
   ],
   "source": [
    "np.set_printoptions(threshold=float(\"inf\"))\n",
    "# np.set_printoptions(threshold=1000)\n",
    "Z = np.zeros((40,40))\n",
    "print(Z)"
   ]
  },
  {
   "cell_type": "code",
   "execution_count": 92,
   "id": "f75aab0b",
   "metadata": {},
   "outputs": [
    {
     "name": "stdout",
     "output_type": "stream",
     "text": [
      "hint: np.set_printoptions\n"
     ]
    }
   ],
   "source": [
    "hint(49)"
   ]
  },
  {
   "cell_type": "code",
   "execution_count": 93,
   "id": "ce8aa03e",
   "metadata": {},
   "outputs": [
    {
     "name": "stdout",
     "output_type": "stream",
     "text": [
      "np.set_printoptions(threshold=float(\"inf\"))\n",
      "Z = np.zeros((40,40))\n",
      "print(Z)\n"
     ]
    }
   ],
   "source": [
    "answer(49)"
   ]
  },
  {
   "cell_type": "markdown",
   "id": "56edae30",
   "metadata": {},
   "source": [
    "#### 50. How to find the closest value (to a given scalar) in a vector? (★★☆)"
   ]
  },
  {
   "cell_type": "code",
   "execution_count": 94,
   "id": "b34f3cf0",
   "metadata": {},
   "outputs": [
    {
     "data": {
      "text/plain": [
       "97"
      ]
     },
     "execution_count": 94,
     "metadata": {},
     "output_type": "execute_result"
    }
   ],
   "source": [
    "a = np.arange(100)\n",
    "v = np.random.uniform(0, 100)\n",
    "index = np.abs(np.subtract(a, v)).argmin()\n",
    "a[index]"
   ]
  },
  {
   "cell_type": "code",
   "execution_count": 95,
   "id": "0fc85527",
   "metadata": {},
   "outputs": [
    {
     "name": "stdout",
     "output_type": "stream",
     "text": [
      "Z = np.arange(100)\n",
      "v = np.random.uniform(0,100)\n",
      "index = (np.abs(Z-v)).argmin()\n",
      "print(Z[index])\n"
     ]
    }
   ],
   "source": [
    "answer(50)"
   ]
  },
  {
   "cell_type": "markdown",
   "id": "a8f3578d",
   "metadata": {},
   "source": [
    "#### 51. Create a structured array representing a position (x,y) and a color (r,g,b) (★★☆)"
   ]
  },
  {
   "cell_type": "code",
   "execution_count": 96,
   "id": "4e9c2e30",
   "metadata": {},
   "outputs": [
    {
     "name": "stdout",
     "output_type": "stream",
     "text": [
      "[((0., 0.), (0., 0., 0.)) ((0., 0.), (0., 0., 0.))]\n"
     ]
    },
    {
     "name": "stderr",
     "output_type": "stream",
     "text": [
      "C:\\Users\\CHU1P\\AppData\\Local\\Temp\\ipykernel_3656\\4134159954.py:1: FutureWarning: Passing (type, 1) or '1type' as a synonym of type is deprecated; in a future version of numpy, it will be understood as (type, (1,)) / '(1,)type'.\n",
      "  a = np.zeros(2, dtype=[(\"position\", [(\"x\", float, 1),\n"
     ]
    }
   ],
   "source": [
    "a = np.zeros(2, dtype=[(\"position\", [(\"x\", float, 1),\n",
    "                                      (\"y\", float, 1)]),\n",
    "                        (\"color\", [(\"r\", float, 1),\n",
    "                                   (\"g\", float, 1),\n",
    "                                   (\"b\", float, 1)])])\n",
    "print(a)"
   ]
  },
  {
   "cell_type": "code",
   "execution_count": 97,
   "id": "bb818e2a",
   "metadata": {},
   "outputs": [
    {
     "name": "stdout",
     "output_type": "stream",
     "text": [
      "Z = np.zeros(10, [ ('position', [ ('x', float, 1),\n",
      "                                  ('y', float, 1)]),\n",
      "                   ('color',    [ ('r', float, 1),\n",
      "                                  ('g', float, 1),\n",
      "                                  ('b', float, 1)])])\n",
      "print(Z)\n"
     ]
    }
   ],
   "source": [
    "answer(51)"
   ]
  },
  {
   "cell_type": "markdown",
   "id": "cd41c4dc",
   "metadata": {},
   "source": [
    "#### 52. Consider a random vector with shape (100,2) representing coordinates, find point by point distances (★★☆)"
   ]
  },
  {
   "cell_type": "code",
   "execution_count": 98,
   "id": "53f15c5d",
   "metadata": {},
   "outputs": [
    {
     "name": "stdout",
     "output_type": "stream",
     "text": [
      "[[0.         0.47947706 0.44580002 0.33652612 0.39884291 0.46687703\n",
      "  0.19773141 0.39909143 0.5216423  0.23777757]\n",
      " [0.47947706 0.         0.31391337 0.57984182 0.13306874 0.73208514\n",
      "  0.6720607  0.8434196  0.46497326 0.4723343 ]\n",
      " [0.44580002 0.31391337 0.         0.34116338 0.1922995  0.46967788\n",
      "  0.58217975 0.68357727 0.1520175  0.58242573]\n",
      " [0.33652612 0.57984182 0.34116338 0.         0.44971225 0.15662275\n",
      "  0.34557124 0.36392623 0.30491855 0.56792303]\n",
      " [0.39884291 0.13306874 0.1922995  0.44971225 0.         0.60035787\n",
      "  0.5792303  0.73294967 0.34402108 0.45634816]]\n"
     ]
    }
   ],
   "source": [
    "a = np.random.random((10,2))\n",
    "delta_coords = a[:, np.newaxis, :] - a[np.newaxis, :, :]\n",
    "r = np.sqrt(np.sum(np.square(delta_coords), axis=2))\n",
    "print(r[:5])"
   ]
  },
  {
   "cell_type": "code",
   "execution_count": 99,
   "id": "ebf75830",
   "metadata": {},
   "outputs": [
    {
     "data": {
      "text/plain": [
       "array([[[ 0.        ,  0.        ],\n",
       "        [ 0.27991251, -0.38929068],\n",
       "        [-0.02904452, -0.44485287],\n",
       "        [-0.26894507, -0.20228293],\n",
       "        [ 0.14820821, -0.37028366],\n",
       "        [-0.42527193, -0.19266019],\n",
       "        [-0.15425781,  0.12370222],\n",
       "        [-0.37101823,  0.14703551],\n",
       "        [-0.17359541, -0.49190987],\n",
       "        [ 0.22401387,  0.07972428]],\n",
       "\n",
       "       [[-0.27991251,  0.38929068],\n",
       "        [ 0.        ,  0.        ],\n",
       "        [-0.30895703, -0.05556219],\n",
       "        [-0.54885757,  0.18700776],\n",
       "        [-0.1317043 ,  0.01900702],\n",
       "        [-0.70518444,  0.1966305 ],\n",
       "        [-0.43417032,  0.5129929 ],\n",
       "        [-0.65093074,  0.5363262 ],\n",
       "        [-0.45350792, -0.10261919],\n",
       "        [-0.05589864,  0.46901496]],\n",
       "\n",
       "       [[ 0.02904452,  0.44485287],\n",
       "        [ 0.30895703,  0.05556219],\n",
       "        [ 0.        ,  0.        ],\n",
       "        [-0.23990055,  0.24256995],\n",
       "        [ 0.17725273,  0.07456921],\n",
       "        [-0.39622741,  0.25219269],\n",
       "        [-0.12521329,  0.56855509],\n",
       "        [-0.34197371,  0.59188838],\n",
       "        [-0.14455089, -0.047057  ],\n",
       "        [ 0.25305838,  0.52457715]],\n",
       "\n",
       "       [[ 0.26894507,  0.20228293],\n",
       "        [ 0.54885757, -0.18700776],\n",
       "        [ 0.23990055, -0.24256995],\n",
       "        [ 0.        ,  0.        ],\n",
       "        [ 0.41715328, -0.16800074],\n",
       "        [-0.15632686,  0.00962274],\n",
       "        [ 0.11468726,  0.32598515],\n",
       "        [-0.10207317,  0.34931844],\n",
       "        [ 0.09534966, -0.28962695],\n",
       "        [ 0.49295893,  0.2820072 ]],\n",
       "\n",
       "       [[-0.14820821,  0.37028366],\n",
       "        [ 0.1317043 , -0.01900702],\n",
       "        [-0.17725273, -0.07456921],\n",
       "        [-0.41715328,  0.16800074],\n",
       "        [ 0.        ,  0.        ],\n",
       "        [-0.57348014,  0.17762348],\n",
       "        [-0.30246602,  0.49398588],\n",
       "        [-0.51922644,  0.51731917],\n",
       "        [-0.32180362, -0.12162621],\n",
       "        [ 0.07580565,  0.45000794]],\n",
       "\n",
       "       [[ 0.42527193,  0.19266019],\n",
       "        [ 0.70518444, -0.1966305 ],\n",
       "        [ 0.39622741, -0.25219269],\n",
       "        [ 0.15632686, -0.00962274],\n",
       "        [ 0.57348014, -0.17762348],\n",
       "        [ 0.        ,  0.        ],\n",
       "        [ 0.27101412,  0.31636241],\n",
       "        [ 0.0542537 ,  0.3396957 ],\n",
       "        [ 0.25167652, -0.29924969],\n",
       "        [ 0.6492858 ,  0.27238446]],\n",
       "\n",
       "       [[ 0.15425781, -0.12370222],\n",
       "        [ 0.43417032, -0.5129929 ],\n",
       "        [ 0.12521329, -0.56855509],\n",
       "        [-0.11468726, -0.32598515],\n",
       "        [ 0.30246602, -0.49398588],\n",
       "        [-0.27101412, -0.31636241],\n",
       "        [ 0.        ,  0.        ],\n",
       "        [-0.21676042,  0.02333329],\n",
       "        [-0.0193376 , -0.61561209],\n",
       "        [ 0.37827168, -0.04397794]],\n",
       "\n",
       "       [[ 0.37101823, -0.14703551],\n",
       "        [ 0.65093074, -0.5363262 ],\n",
       "        [ 0.34197371, -0.59188838],\n",
       "        [ 0.10207317, -0.34931844],\n",
       "        [ 0.51922644, -0.51731917],\n",
       "        [-0.0542537 , -0.3396957 ],\n",
       "        [ 0.21676042, -0.02333329],\n",
       "        [ 0.        ,  0.        ],\n",
       "        [ 0.19742282, -0.63894538],\n",
       "        [ 0.5950321 , -0.06731123]],\n",
       "\n",
       "       [[ 0.17359541,  0.49190987],\n",
       "        [ 0.45350792,  0.10261919],\n",
       "        [ 0.14455089,  0.047057  ],\n",
       "        [-0.09534966,  0.28962695],\n",
       "        [ 0.32180362,  0.12162621],\n",
       "        [-0.25167652,  0.29924969],\n",
       "        [ 0.0193376 ,  0.61561209],\n",
       "        [-0.19742282,  0.63894538],\n",
       "        [ 0.        ,  0.        ],\n",
       "        [ 0.39760928,  0.57163415]],\n",
       "\n",
       "       [[-0.22401387, -0.07972428],\n",
       "        [ 0.05589864, -0.46901496],\n",
       "        [-0.25305838, -0.52457715],\n",
       "        [-0.49295893, -0.2820072 ],\n",
       "        [-0.07580565, -0.45000794],\n",
       "        [-0.6492858 , -0.27238446],\n",
       "        [-0.37827168,  0.04397794],\n",
       "        [-0.5950321 ,  0.06731123],\n",
       "        [-0.39760928, -0.57163415],\n",
       "        [ 0.        ,  0.        ]]])"
      ]
     },
     "execution_count": 99,
     "metadata": {},
     "output_type": "execute_result"
    }
   ],
   "source": [
    "a[:, np.newaxis, :] - a[np.newaxis, :, :]"
   ]
  },
  {
   "cell_type": "code",
   "execution_count": 100,
   "id": "952377a6",
   "metadata": {},
   "outputs": [
    {
     "name": "stdout",
     "output_type": "stream",
     "text": [
      "[[0.         0.62416682 1.05613595 1.09617822 0.7454198  0.85817342\n",
      "  0.50609978 0.88114402 0.85909009 0.84935095]\n",
      " [0.62416682 0.         0.64728763 0.51843182 0.12146226 0.4647686\n",
      "  0.12779171 0.31332547 0.40875742 0.56136159]\n",
      " [1.05613595 0.64728763 0.         0.36928486 0.61925019 0.20296025\n",
      "  0.66454393 0.81035933 0.98599909 0.23546761]\n",
      " [1.09617822 0.51843182 0.36928486 0.         0.42710095 0.37199536\n",
      "  0.60393871 0.53369776 0.72436337 0.50597916]\n",
      " [0.7454198  0.12146226 0.61925019 0.42710095 0.         0.46087092\n",
      "  0.24668946 0.23146371 0.37505001 0.57912144]\n",
      " [0.85817342 0.4647686  0.20296025 0.37199536 0.46087092 0.\n",
      "  0.46654262 0.67614302 0.8358358  0.14184242]\n",
      " [0.50609978 0.12779171 0.66454393 0.60393871 0.24668946 0.46654262\n",
      "  0.         0.43427261 0.50188672 0.53412775]\n",
      " [0.88114402 0.31332547 0.81035933 0.53369776 0.23146371 0.67614302\n",
      "  0.43427261 0.         0.19105579 0.8027642 ]\n",
      " [0.85909009 0.40875742 0.98599909 0.72436337 0.37505001 0.8358358\n",
      "  0.50188672 0.19105579 0.         0.95244801]\n",
      " [0.84935095 0.56136159 0.23546761 0.50597916 0.57912144 0.14184242\n",
      "  0.53412775 0.8027642  0.95244801 0.        ]]\n"
     ]
    }
   ],
   "source": [
    "Z = np.random.random((10,2))\n",
    "X,Y = Z[:, np.newaxis, 0], Z[:, np.newaxis, 1]\n",
    "D = np.sqrt((X - X.T)**2 + (Y - Y.T)**2)\n",
    "print(D)"
   ]
  },
  {
   "cell_type": "markdown",
   "id": "0e2990a0",
   "metadata": {},
   "source": [
    "#### 53. How to convert a float (32 bits) array into an integer (32 bits) array in place?"
   ]
  },
  {
   "cell_type": "code",
   "execution_count": 101,
   "id": "8d7e441e",
   "metadata": {},
   "outputs": [
    {
     "name": "stdout",
     "output_type": "stream",
     "text": [
      "[ 2.34244076 -0.82157813 -0.20028363  1.62370904 -0.23519879 -1.52175673\n",
      "  1.77639716 -0.03960987 -1.29833893  0.6721043 ]\n",
      "[ 2.  0.  0.  1.  0. -1.  1.  0. -1.  0.]\n"
     ]
    }
   ],
   "source": [
    "A = np.random.randn(10)\n",
    "print(A)\n",
    "# A[:]とすることでAの要素だけを書き換えれる\n",
    "A[:] = A.astype(np.int32)\n",
    "print(A)"
   ]
  },
  {
   "cell_type": "code",
   "execution_count": 102,
   "id": "0b77e511",
   "metadata": {},
   "outputs": [
    {
     "name": "stdout",
     "output_type": "stream",
     "text": [
      "# Thanks Vikas (https://stackoverflow.com/a/10622758/5989906)\n",
      "# & unutbu (https://stackoverflow.com/a/4396247/5989906)\n",
      "Z = (np.random.rand(10)*100).astype(np.float32)\n",
      "Y = Z.view(np.int32)\n",
      "Y[:] = Z\n",
      "print(Y)\n"
     ]
    }
   ],
   "source": [
    "answer(53)"
   ]
  },
  {
   "cell_type": "markdown",
   "id": "9e3fae09",
   "metadata": {},
   "source": [
    "#### 54. How to read the following file? (★★☆)\n",
    "```\n",
    "1, 2, 3, 4, 5\n",
    "6,  ,  , 7, 8\n",
    " ,  , 9,10,11\n",
    "```"
   ]
  },
  {
   "cell_type": "code",
   "execution_count": 103,
   "id": "5ce8d677",
   "metadata": {},
   "outputs": [
    {
     "name": "stdout",
     "output_type": "stream",
     "text": [
      "hint: np.genfromtxt\n"
     ]
    }
   ],
   "source": [
    "hint(54)"
   ]
  },
  {
   "cell_type": "code",
   "execution_count": 104,
   "id": "166e1051",
   "metadata": {},
   "outputs": [
    {
     "data": {
      "text/plain": [
       "array([[ 1.,  2.,  3.,  4.,  5.],\n",
       "       [ 6., nan, nan,  7.,  8.],\n",
       "       [nan, nan,  9., 10., 11.]])"
      ]
     },
     "execution_count": 104,
     "metadata": {},
     "output_type": "execute_result"
    }
   ],
   "source": [
    "from io import StringIO\n",
    "s = StringIO(\"\"\"1, 2, 3, 4, 5\n",
    "             6, , , 7, 8\n",
    "              , , 9,10,11\"\"\")\n",
    "data = np.genfromtxt(s, delimiter=\",\", dtype=float)\n",
    "data\n"
   ]
  },
  {
   "cell_type": "code",
   "execution_count": 105,
   "id": "528ff2f2",
   "metadata": {},
   "outputs": [
    {
     "name": "stdout",
     "output_type": "stream",
     "text": [
      "     0    1    2   3   4\n",
      "0  1.0  2.0  3.0   4   5\n",
      "1  6.0  NaN  NaN   7   8\n",
      "2  NaN  NaN  9.0  10  11\n"
     ]
    }
   ],
   "source": [
    "from io import StringIO\n",
    "import pandas as pd\n",
    "\n",
    "s = StringIO(\"\"\"1, 2, 3, 4, 5\n",
    "6, , , 7, 8\n",
    " , , 9,10,11\"\"\")\n",
    "data = pd.read_csv(s, sep=\",\", header=None, na_values=[\" \"])\n",
    "print(data)"
   ]
  },
  {
   "cell_type": "code",
   "execution_count": 106,
   "id": "cc3b11f9",
   "metadata": {},
   "outputs": [
    {
     "name": "stdout",
     "output_type": "stream",
     "text": [
      "from io import StringIO\n",
      "\n",
      "# Fake file\n",
      "s = StringIO('''1, 2, 3, 4, 5\n",
      "\n",
      "                6,  ,  , 7, 8\n",
      "\n",
      "                 ,  , 9,10,11\n",
      "''')\n",
      "Z = np.genfromtxt(s, delimiter=\",\", dtype=np.int)\n",
      "print(Z)\n"
     ]
    }
   ],
   "source": [
    "answer(54)"
   ]
  },
  {
   "cell_type": "markdown",
   "id": "dc8e013a",
   "metadata": {},
   "source": [
    "#### 55. What is the equivalent of enumerate for numpy arrays? (★★☆)"
   ]
  },
  {
   "cell_type": "code",
   "execution_count": 107,
   "id": "6b46c440",
   "metadata": {},
   "outputs": [
    {
     "name": "stdout",
     "output_type": "stream",
     "text": [
      "(0, 0) 1\n",
      "(0, 1) 2\n",
      "(1, 0) 3\n",
      "(1, 1) 4\n"
     ]
    }
   ],
   "source": [
    "A = np.array([[1, 2], [3, 4]])\n",
    "for idx, val in np.ndenumerate(A):\n",
    "    print(idx, val)\n"
   ]
  },
  {
   "cell_type": "markdown",
   "id": "acdcd8d9",
   "metadata": {},
   "source": [
    "#### 56. Generate a generic 2D Gaussian-like array (★★☆)"
   ]
  },
  {
   "cell_type": "code",
   "execution_count": 108,
   "id": "c00f8b49",
   "metadata": {},
   "outputs": [
    {
     "name": "stdout",
     "output_type": "stream",
     "text": [
      "hint: np.meshgrid, np.exp\n"
     ]
    }
   ],
   "source": [
    "hint(56)"
   ]
  },
  {
   "cell_type": "code",
   "execution_count": 109,
   "id": "c1fa5741",
   "metadata": {},
   "outputs": [
    {
     "name": "stdout",
     "output_type": "stream",
     "text": [
      "X, Y = np.meshgrid(np.linspace(-1,1,10), np.linspace(-1,1,10))\n",
      "D = np.sqrt(X*X+Y*Y)\n",
      "sigma, mu = 1.0, 0.0\n",
      "G = np.exp(-( (D-mu)**2 / ( 2.0 * sigma**2 ) ) )\n",
      "print(G)\n"
     ]
    }
   ],
   "source": [
    "answer(56)"
   ]
  },
  {
   "cell_type": "code",
   "execution_count": 110,
   "id": "97d932dd",
   "metadata": {},
   "outputs": [
    {
     "name": "stdout",
     "output_type": "stream",
     "text": [
      "[[0.24311673 0.28171437 0.31855539 0.34850854 0.3656225  0.3656225\n",
      "  0.34850854 0.31855539 0.28171437 0.24311673]\n",
      " [0.28171437 0.33288976 0.38449907 0.42904348 0.45581229 0.45581229\n",
      "  0.42904348 0.38449907 0.33288976 0.28171437]\n",
      " [0.31855539 0.38449907 0.45581229 0.52315183 0.56747549 0.56747549\n",
      "  0.52315183 0.45581229 0.38449907 0.31855539]\n",
      " [0.34850854 0.42904348 0.52315183 0.62412506 0.70372742 0.70372742\n",
      "  0.62412506 0.52315183 0.42904348 0.34850854]\n",
      " [0.3656225  0.45581229 0.56747549 0.70372742 0.85458882 0.85458882\n",
      "  0.70372742 0.56747549 0.45581229 0.3656225 ]\n",
      " [0.3656225  0.45581229 0.56747549 0.70372742 0.85458882 0.85458882\n",
      "  0.70372742 0.56747549 0.45581229 0.3656225 ]\n",
      " [0.34850854 0.42904348 0.52315183 0.62412506 0.70372742 0.70372742\n",
      "  0.62412506 0.52315183 0.42904348 0.34850854]\n",
      " [0.31855539 0.38449907 0.45581229 0.52315183 0.56747549 0.56747549\n",
      "  0.52315183 0.45581229 0.38449907 0.31855539]\n",
      " [0.28171437 0.33288976 0.38449907 0.42904348 0.45581229 0.45581229\n",
      "  0.42904348 0.38449907 0.33288976 0.28171437]\n",
      " [0.24311673 0.28171437 0.31855539 0.34850854 0.3656225  0.3656225\n",
      "  0.34850854 0.31855539 0.28171437 0.24311673]]\n"
     ]
    }
   ],
   "source": [
    "X, Y = np.meshgrid(np.linspace(-1, 1, 10), np.linspace(-1, 1, 10))\n",
    "D = np.sqrt(X*X + Y*Y)\n",
    "sigma, mu = 1.0, 0.0\n",
    "y = (np.exp(-(D - mu) / (2 * sigma)) ** 2)\n",
    "print(y)"
   ]
  },
  {
   "cell_type": "markdown",
   "id": "3f0bf645",
   "metadata": {},
   "source": [
    "#### 57. How to randomly place p elements in a 2D array? (★★☆)"
   ]
  },
  {
   "cell_type": "code",
   "execution_count": 111,
   "id": "bac7ed71",
   "metadata": {},
   "outputs": [
    {
     "name": "stdout",
     "output_type": "stream",
     "text": [
      "[[0. 0. 0. 1. 1.]\n",
      " [0. 0. 0. 0. 0.]\n",
      " [0. 0. 0. 0. 0.]\n",
      " [0. 0. 0. 0. 0.]\n",
      " [0. 1. 0. 0. 0.]]\n"
     ]
    }
   ],
   "source": [
    "A = np.zeros((5, 5))\n",
    "p = 3\n",
    "idx = np.unravel_index(np.random.randint(0, 25, p, ), (5, 5))\n",
    "A[idx] = 1\n",
    "print(A)"
   ]
  },
  {
   "cell_type": "code",
   "execution_count": 112,
   "id": "bfcfff69",
   "metadata": {},
   "outputs": [
    {
     "name": "stdout",
     "output_type": "stream",
     "text": [
      "[[0. 0. 0. 0. 0.]\n",
      " [0. 0. 0. 0. 0.]\n",
      " [0. 0. 0. 0. 1.]\n",
      " [0. 0. 0. 1. 0.]\n",
      " [0. 0. 1. 0. 0.]]\n"
     ]
    }
   ],
   "source": [
    "A = np.zeros((5, 5))\n",
    "# choiceが重複のない選択をできる\n",
    "np.put(A, np.random.choice(25, p, replace=False), 1)\n",
    "print(A)"
   ]
  },
  {
   "cell_type": "code",
   "execution_count": 113,
   "id": "26da2081",
   "metadata": {},
   "outputs": [
    {
     "name": "stdout",
     "output_type": "stream",
     "text": [
      "# Author: Divakar\n",
      "\n",
      "n = 10\n",
      "p = 3\n",
      "Z = np.zeros((n,n))\n",
      "np.put(Z, np.random.choice(range(n*n), p, replace=False),1)\n",
      "print(Z)\n"
     ]
    }
   ],
   "source": [
    "answer(57)"
   ]
  },
  {
   "cell_type": "markdown",
   "id": "b9ac42fc",
   "metadata": {},
   "source": [
    "#### 58. Subtract the mean of each row of a matrix (★★☆)"
   ]
  },
  {
   "cell_type": "code",
   "execution_count": 114,
   "id": "0cac0138",
   "metadata": {},
   "outputs": [
    {
     "name": "stdout",
     "output_type": "stream",
     "text": [
      "[[-0.6  1.4  3.4 -2.6 -1.6]\n",
      " [-4.6 -0.6  3.4  1.4  0.4]\n",
      " [-2.4 -3.4  3.6  4.6 -2.4]\n",
      " [ 3.   2.  -6.  -2.   3. ]\n",
      " [ 0.2  3.2 -0.8 -1.8 -0.8]\n",
      " [-1.8  1.2  4.2 -0.8 -2.8]\n",
      " [ 2.6 -2.4 -1.4 -3.4  4.6]\n",
      " [ 1.  -3.   2.  -3.   3. ]\n",
      " [-1.8 -2.8 -1.8  5.2  1.2]\n",
      " [-3.  -1.  -4.   3.   5. ]]\n"
     ]
    }
   ],
   "source": [
    "A = np.random.randint(0, 10, (10, 5)).astype(np.float64)\n",
    "# keepdimsをしないとテンソルとして残らないため\n",
    "A[:] -= np.mean(A, axis=1, keepdims=True)\n",
    "print(A)"
   ]
  },
  {
   "cell_type": "markdown",
   "id": "f2c2e314",
   "metadata": {},
   "source": [
    "#### 59. How to sort an array by the nth column? (★★☆)"
   ]
  },
  {
   "cell_type": "code",
   "execution_count": 115,
   "id": "61739197",
   "metadata": {},
   "outputs": [
    {
     "name": "stdout",
     "output_type": "stream",
     "text": [
      "[[8 6 8 6 8]\n",
      " [3 8 4 0 6]\n",
      " [6 7 7 4 2]\n",
      " [6 9 6 6 8]\n",
      " [4 4 0 1 7]]\n"
     ]
    },
    {
     "data": {
      "text/plain": [
       "array([[4, 4, 0, 1, 7],\n",
       "       [8, 6, 8, 6, 8],\n",
       "       [6, 7, 7, 4, 2],\n",
       "       [3, 8, 4, 0, 6],\n",
       "       [6, 9, 6, 6, 8]])"
      ]
     },
     "execution_count": 115,
     "metadata": {},
     "output_type": "execute_result"
    }
   ],
   "source": [
    "A = np.random.randint(0, 10, (5, 5))\n",
    "print(A)\n",
    "A.argsort()\n",
    "A[A[:, 1].argsort()]"
   ]
  },
  {
   "cell_type": "code",
   "execution_count": 116,
   "id": "436605e6",
   "metadata": {},
   "outputs": [
    {
     "name": "stdout",
     "output_type": "stream",
     "text": [
      "[[6 7 4 6 7]\n",
      " [3 9 9 3 3]\n",
      " [9 7 6 9 7]\n",
      " [0 9 9 4 7]\n",
      " [4 7 9 0 6]]\n"
     ]
    },
    {
     "data": {
      "text/html": [
       "<div>\n",
       "<style scoped>\n",
       "    .dataframe tbody tr th:only-of-type {\n",
       "        vertical-align: middle;\n",
       "    }\n",
       "\n",
       "    .dataframe tbody tr th {\n",
       "        vertical-align: top;\n",
       "    }\n",
       "\n",
       "    .dataframe thead th {\n",
       "        text-align: right;\n",
       "    }\n",
       "</style>\n",
       "<table border=\"1\" class=\"dataframe\">\n",
       "  <thead>\n",
       "    <tr style=\"text-align: right;\">\n",
       "      <th></th>\n",
       "      <th>0</th>\n",
       "      <th>3</th>\n",
       "      <th>4</th>\n",
       "      <th>1</th>\n",
       "      <th>2</th>\n",
       "    </tr>\n",
       "  </thead>\n",
       "  <tbody>\n",
       "    <tr>\n",
       "      <th>0</th>\n",
       "      <td>6</td>\n",
       "      <td>6</td>\n",
       "      <td>7</td>\n",
       "      <td>7</td>\n",
       "      <td>4</td>\n",
       "    </tr>\n",
       "    <tr>\n",
       "      <th>1</th>\n",
       "      <td>3</td>\n",
       "      <td>3</td>\n",
       "      <td>3</td>\n",
       "      <td>9</td>\n",
       "      <td>9</td>\n",
       "    </tr>\n",
       "    <tr>\n",
       "      <th>2</th>\n",
       "      <td>9</td>\n",
       "      <td>9</td>\n",
       "      <td>7</td>\n",
       "      <td>7</td>\n",
       "      <td>6</td>\n",
       "    </tr>\n",
       "    <tr>\n",
       "      <th>3</th>\n",
       "      <td>0</td>\n",
       "      <td>4</td>\n",
       "      <td>7</td>\n",
       "      <td>9</td>\n",
       "      <td>9</td>\n",
       "    </tr>\n",
       "    <tr>\n",
       "      <th>4</th>\n",
       "      <td>4</td>\n",
       "      <td>0</td>\n",
       "      <td>6</td>\n",
       "      <td>7</td>\n",
       "      <td>9</td>\n",
       "    </tr>\n",
       "  </tbody>\n",
       "</table>\n",
       "</div>"
      ],
      "text/plain": [
       "   0  3  4  1  2\n",
       "0  6  6  7  7  4\n",
       "1  3  3  3  9  9\n",
       "2  9  9  7  7  6\n",
       "3  0  4  7  9  9\n",
       "4  4  0  6  7  9"
      ]
     },
     "execution_count": 116,
     "metadata": {},
     "output_type": "execute_result"
    }
   ],
   "source": [
    "A = np.random.randint(0, 10, (5, 5))\n",
    "print(A)\n",
    "A = pd.DataFrame(A)\n",
    "A.sort_values(by=1, axis=1)"
   ]
  },
  {
   "cell_type": "code",
   "execution_count": 117,
   "id": "eb0f87d7",
   "metadata": {},
   "outputs": [
    {
     "name": "stdout",
     "output_type": "stream",
     "text": [
      "# Author: Steve Tjoa\n",
      "\n",
      "Z = np.random.randint(0,10,(3,3))\n",
      "print(Z)\n",
      "print(Z[Z[:,1].argsort()])\n"
     ]
    }
   ],
   "source": [
    "answer(59)"
   ]
  },
  {
   "cell_type": "markdown",
   "id": "e8311ecb",
   "metadata": {},
   "source": [
    "#### 60. How to tell if a given 2D array has null columns? (★★☆)"
   ]
  },
  {
   "cell_type": "code",
   "execution_count": 118,
   "id": "a3fd8a79",
   "metadata": {},
   "outputs": [
    {
     "name": "stdout",
     "output_type": "stream",
     "text": [
      "hint: any, ~\n"
     ]
    }
   ],
   "source": [
    "hint(60)"
   ]
  },
  {
   "cell_type": "code",
   "execution_count": 119,
   "id": "829d4da4",
   "metadata": {},
   "outputs": [
    {
     "name": "stdout",
     "output_type": "stream",
     "text": [
      "# Author: Warren Weckesser\n",
      "\n",
      "# null : 0 \n",
      "Z = np.random.randint(0,3,(3,10))\n",
      "print((~Z.any(axis=0)).any())\n",
      "\n",
      "# null : np.nan\n",
      "Z=np.array([\n",
      "    [0,1,np.nan],\n",
      "    [1,2,np.nan],\n",
      "    [4,5,np.nan]\n",
      "])\n",
      "print(np.isnan(Z).all(axis=0))\n"
     ]
    }
   ],
   "source": [
    "answer(60)"
   ]
  },
  {
   "cell_type": "code",
   "execution_count": 120,
   "id": "2c429362",
   "metadata": {},
   "outputs": [
    {
     "name": "stdout",
     "output_type": "stream",
     "text": [
      "[False False  True]\n",
      "[[ 0.  1. nan]\n",
      " [ 1.  2. nan]\n",
      " [ 4.  5. nan]]\n"
     ]
    }
   ],
   "source": [
    "Z=np.array([\n",
    "    [0,1,np.nan],\n",
    "    [1,2,np.nan],\n",
    "    [4,5,np.nan]\n",
    "])\n",
    "print(np.isnan(Z).all(axis=0))\n",
    "print(Z)"
   ]
  },
  {
   "cell_type": "code",
   "execution_count": 121,
   "id": "b7af0179",
   "metadata": {},
   "outputs": [
    {
     "data": {
      "text/plain": [
       "0    False\n",
       "1    False\n",
       "2     True\n",
       "dtype: bool"
      ]
     },
     "execution_count": 121,
     "metadata": {},
     "output_type": "execute_result"
    }
   ],
   "source": [
    "Z = pd.DataFrame(Z)\n",
    "# axis=Noneとすればdf全体で見てくれる\n",
    "Z.isna().any(axis=0)\n"
   ]
  },
  {
   "cell_type": "markdown",
   "id": "e9617f44",
   "metadata": {},
   "source": [
    "#### 61. Find the nearest value from a given value in an array (★★☆)"
   ]
  },
  {
   "cell_type": "code",
   "execution_count": 122,
   "id": "2fb40d45",
   "metadata": {},
   "outputs": [
    {
     "data": {
      "text/plain": [
       "array([0.98822379, 0.07435446, 0.87764013])"
      ]
     },
     "execution_count": 122,
     "metadata": {},
     "output_type": "execute_result"
    }
   ],
   "source": [
    "A = np.random.rand(3, 3)\n",
    "v = 7\n",
    "idx = np.abs(A - v).argmin()\n",
    "A[idx]"
   ]
  },
  {
   "cell_type": "code",
   "execution_count": 123,
   "id": "e7daa169",
   "metadata": {},
   "outputs": [
    {
     "data": {
      "text/html": [
       "<div>\n",
       "<style scoped>\n",
       "    .dataframe tbody tr th:only-of-type {\n",
       "        vertical-align: middle;\n",
       "    }\n",
       "\n",
       "    .dataframe tbody tr th {\n",
       "        vertical-align: top;\n",
       "    }\n",
       "\n",
       "    .dataframe thead th {\n",
       "        text-align: right;\n",
       "    }\n",
       "</style>\n",
       "<table border=\"1\" class=\"dataframe\">\n",
       "  <thead>\n",
       "    <tr style=\"text-align: right;\">\n",
       "      <th></th>\n",
       "      <th>0</th>\n",
       "      <th>1</th>\n",
       "      <th>2</th>\n",
       "    </tr>\n",
       "  </thead>\n",
       "  <tbody>\n",
       "    <tr>\n",
       "      <th>1</th>\n",
       "      <td>0.911823</td>\n",
       "      <td>0.074380</td>\n",
       "      <td>0.382479</td>\n",
       "    </tr>\n",
       "    <tr>\n",
       "      <th>2</th>\n",
       "      <td>0.804492</td>\n",
       "      <td>0.504122</td>\n",
       "      <td>0.437735</td>\n",
       "    </tr>\n",
       "    <tr>\n",
       "      <th>0</th>\n",
       "      <td>0.311121</td>\n",
       "      <td>0.438654</td>\n",
       "      <td>0.674509</td>\n",
       "    </tr>\n",
       "  </tbody>\n",
       "</table>\n",
       "</div>"
      ],
      "text/plain": [
       "          0         1         2\n",
       "1  0.911823  0.074380  0.382479\n",
       "2  0.804492  0.504122  0.437735\n",
       "0  0.311121  0.438654  0.674509"
      ]
     },
     "execution_count": 123,
     "metadata": {},
     "output_type": "execute_result"
    }
   ],
   "source": [
    "A = pd.DataFrame(np.random.rand(3, 3))\n",
    "v = 7\n",
    "A.iloc[(A - v).abs().idxmin()]"
   ]
  },
  {
   "cell_type": "code",
   "execution_count": 124,
   "id": "c59bea13",
   "metadata": {},
   "outputs": [
    {
     "name": "stdout",
     "output_type": "stream",
     "text": [
      "Z = np.random.uniform(0,1,10)\n",
      "z = 0.5\n",
      "m = Z.flat[np.abs(Z - z).argmin()]\n",
      "print(m)\n"
     ]
    }
   ],
   "source": [
    "answer(61)"
   ]
  },
  {
   "cell_type": "markdown",
   "id": "892813ba",
   "metadata": {},
   "source": [
    "#### 62. Considering two arrays with shape (1,3) and (3,1), how to compute their sum using an iterator? (★★☆)"
   ]
  },
  {
   "cell_type": "code",
   "execution_count": 125,
   "id": "0ec3c1ee",
   "metadata": {},
   "outputs": [
    {
     "name": "stdout",
     "output_type": "stream",
     "text": [
      "[[0 1 2]\n",
      " [1 2 3]\n",
      " [2 3 4]]\n"
     ]
    }
   ],
   "source": [
    "A = np.arange(3).reshape(1, 3)\n",
    "B = np.arange(3).reshape(3, 1)\n",
    "\n",
    "it = np.nditer([A, B, None])\n",
    "for x, y, z in it:\n",
    "    z[...] = x + y\n",
    "result = it.operands[2].reshape(3, 3)\n",
    "print(result)"
   ]
  },
  {
   "cell_type": "markdown",
   "id": "467ff234",
   "metadata": {},
   "source": [
    "#### 63. Create an array class that has a name attribute (★★☆)"
   ]
  },
  {
   "cell_type": "code",
   "execution_count": 126,
   "id": "43d6ba35",
   "metadata": {},
   "outputs": [
    {
     "name": "stdout",
     "output_type": "stream",
     "text": [
      "range_10\n"
     ]
    }
   ],
   "source": [
    "class NamedArray(np.ndarray):\n",
    "    def __new__(cls, array, name=\"no name\"):\n",
    "        obj = np.asarray(array).view(cls)\n",
    "        obj.name = name\n",
    "        return obj\n",
    "\n",
    "    def __array_finalize__(self, obj):\n",
    "        if obj is None:\n",
    "            return\n",
    "        # objにnameがあればそのままなければno nameを\n",
    "        self.name = getattr(obj, \"name\", \"no name\")\n",
    "\n",
    "A = NamedArray(np.arange(10), \"range_10\")\n",
    "print(A.name)"
   ]
  },
  {
   "cell_type": "code",
   "execution_count": 127,
   "id": "f2ddafa3",
   "metadata": {},
   "outputs": [
    {
     "name": "stdout",
     "output_type": "stream",
     "text": [
      "hint: class method\n"
     ]
    }
   ],
   "source": [
    "hint(63)"
   ]
  },
  {
   "cell_type": "code",
   "execution_count": 128,
   "id": "763790c8",
   "metadata": {},
   "outputs": [
    {
     "name": "stdout",
     "output_type": "stream",
     "text": [
      "class NamedArray(np.ndarray):\n",
      "    def __new__(cls, array, name=\"no name\"):\n",
      "        obj = np.asarray(array).view(cls)\n",
      "        obj.name = name\n",
      "        return obj\n",
      "    def __array_finalize__(self, obj):\n",
      "        if obj is None: return\n",
      "        self.name = getattr(obj, 'name', \"no name\")\n",
      "\n",
      "Z = NamedArray(np.arange(10), \"range_10\")\n",
      "print (Z.name)\n"
     ]
    }
   ],
   "source": [
    "answer(63)"
   ]
  },
  {
   "cell_type": "markdown",
   "id": "af15b01a",
   "metadata": {},
   "source": [
    "#### 64. Consider a given vector, how to add 1 to each element indexed by a second vector (be careful with repeated indices)? (★★★)"
   ]
  },
  {
   "cell_type": "code",
   "execution_count": 129,
   "id": "52d9315d",
   "metadata": {},
   "outputs": [
    {
     "name": "stdout",
     "output_type": "stream",
     "text": [
      "[2 4 3 5 5]\n"
     ]
    }
   ],
   "source": [
    "a = np.array([1, 2, 3, 4, 5])\n",
    "i = np.array([0, 1, 1, 3])\n",
    "np.add.at(a, i, 1)\n",
    "print(a)"
   ]
  },
  {
   "cell_type": "markdown",
   "id": "62d21ba4",
   "metadata": {},
   "source": [
    "#### 65. How to accumulate elements of a vector (X) to an array (F) based on an index list (I)? (★★★)"
   ]
  },
  {
   "cell_type": "code",
   "execution_count": 130,
   "id": "56497ebc",
   "metadata": {},
   "outputs": [
    {
     "data": {
      "text/plain": [
       "array([1., 4., 0., 4., 0.])"
      ]
     },
     "execution_count": 130,
     "metadata": {},
     "output_type": "execute_result"
    }
   ],
   "source": [
    "a = np.array([1, 2, 3, 4, 5])\n",
    "i = np.array([0, 1, 1, 3])\n",
    "F = np.zeros(5)\n",
    "np.add.at(F, i, a[i])\n",
    "F"
   ]
  },
  {
   "cell_type": "code",
   "execution_count": 131,
   "id": "0a46ab6e",
   "metadata": {},
   "outputs": [
    {
     "name": "stdout",
     "output_type": "stream",
     "text": [
      "[1. 5. 0. 4. 0. 5.]\n"
     ]
    }
   ],
   "source": [
    "X = [1, 2, 3, 4, 5]\n",
    "I = [0, 1, 1, 3, 5]\n",
    "F = np.bincount(I,X)\n",
    "print(F)"
   ]
  },
  {
   "cell_type": "code",
   "execution_count": 132,
   "id": "100ae0c2",
   "metadata": {},
   "outputs": [
    {
     "name": "stdout",
     "output_type": "stream",
     "text": [
      "# Author: Alan G Isaac\n",
      "\n",
      "X = [1,2,3,4,5,6]\n",
      "I = [1,3,9,3,4,1]\n",
      "F = np.bincount(I,X)\n",
      "print(F)\n"
     ]
    }
   ],
   "source": [
    "answer(65)"
   ]
  },
  {
   "cell_type": "markdown",
   "id": "fd7e0104",
   "metadata": {},
   "source": [
    "#### 66. Considering a (w,h,3) image of (dtype=ubyte), compute the number of unique colors (★★☆)"
   ]
  },
  {
   "cell_type": "code",
   "execution_count": 133,
   "id": "1cf3edec",
   "metadata": {},
   "outputs": [
    {
     "name": "stdout",
     "output_type": "stream",
     "text": [
      "# Author: Fisher Wang\n",
      "\n",
      "w, h = 256, 256\n",
      "I = np.random.randint(0, 4, (h, w, 3)).astype(np.ubyte)\n",
      "colors = np.unique(I.reshape(-1, 3), axis=0)\n",
      "n = len(colors)\n",
      "print(n)\n",
      "\n",
      "# Faster version\n",
      "# Author: Mark Setchell\n",
      "# https://stackoverflow.com/a/59671950/2836621\n",
      "\n",
      "w, h = 256, 256\n",
      "I = np.random.randint(0,4,(h,w,3), dtype=np.uint8)\n",
      "\n",
      "# View each pixel as a single 24-bit integer, rather than three 8-bit bytes\n",
      "I24 = np.dot(I.astype(np.uint32),[1,256,65536])\n",
      "\n",
      "# Count unique colours\n",
      "n = len(np.unique(I24))\n",
      "print(n)\n"
     ]
    }
   ],
   "source": [
    "answer(66)"
   ]
  },
  {
   "cell_type": "code",
   "execution_count": 134,
   "id": "5f2d40ec",
   "metadata": {},
   "outputs": [
    {
     "data": {
      "text/plain": [
       "array([[3, 3, 2],\n",
       "       [0, 2, 3]])"
      ]
     },
     "execution_count": 134,
     "metadata": {},
     "output_type": "execute_result"
    }
   ],
   "source": [
    "np.random.randint(0, 4, (2, 3))"
   ]
  },
  {
   "cell_type": "code",
   "execution_count": 135,
   "id": "47f705cc",
   "metadata": {},
   "outputs": [
    {
     "name": "stdout",
     "output_type": "stream",
     "text": [
      "(64, 3)\n"
     ]
    }
   ],
   "source": [
    "img = np.random.randint(0, 4, (256, 256, 3)).astype(np.ubyte)\n",
    "# 65536 x 3の2次元テンソルになる\n",
    "colors = np.unique(img.reshape(-1, 3), axis=0)\n",
    "print(colors.shape)"
   ]
  },
  {
   "cell_type": "markdown",
   "id": "dd70e081",
   "metadata": {},
   "source": [
    "#### 67. Considering a four dimensions array, how to get sum over the last two axis at once? (★★★)"
   ]
  },
  {
   "cell_type": "code",
   "execution_count": 136,
   "id": "e36af36e",
   "metadata": {},
   "outputs": [
    {
     "data": {
      "text/plain": [
       "(3, 3)"
      ]
     },
     "execution_count": 136,
     "metadata": {},
     "output_type": "execute_result"
    }
   ],
   "source": [
    "A = np.array(np.random.randint(0, 10, (3, 3, 3, 3)))\n",
    "A = A.sum(axis=(-2, -1))\n",
    "A.shape"
   ]
  },
  {
   "cell_type": "code",
   "execution_count": 137,
   "id": "83c5bc06",
   "metadata": {},
   "outputs": [
    {
     "name": "stdout",
     "output_type": "stream",
     "text": [
      "A = np.random.randint(0,10,(3,4,3,4))\n",
      "# solution by passing a tuple of axes (introduced in numpy 1.7.0)\n",
      "sum = A.sum(axis=(-2,-1))\n",
      "print(sum)\n",
      "# solution by flattening the last two dimensions into one\n",
      "# (useful for functions that don't accept tuples for axis argument)\n",
      "sum = A.reshape(A.shape[:-2] + (-1,)).sum(axis=-1)\n",
      "print(sum)\n"
     ]
    }
   ],
   "source": [
    "answer(67)"
   ]
  },
  {
   "cell_type": "markdown",
   "id": "58333fa3",
   "metadata": {},
   "source": [
    "#### 68. Considering a one-dimensional vector D, how to compute means of subsets of D using a vector S of same size describing subset  indices? (★★★)"
   ]
  },
  {
   "cell_type": "code",
   "execution_count": 138,
   "id": "acfc823e",
   "metadata": {},
   "outputs": [
    {
     "name": "stdout",
     "output_type": "stream",
     "text": [
      "[0.4240470401983462, 0.5394543263135347, 0.46291729546008653, 0.6420579774663644, 0.5949007750119155, 0.46999436393803556, 0.5539751501597625, 0.5483009794792417, 0.3863306995677012, 0.46743323255891467]\n",
      "[0.42404704 0.53945433 0.4629173  0.64205798 0.59490078 0.46999436\n",
      " 0.55397515 0.54830098 0.3863307  0.46743323]\n"
     ]
    },
    {
     "data": {
      "text/html": [
       "<div>\n",
       "<style scoped>\n",
       "    .dataframe tbody tr th:only-of-type {\n",
       "        vertical-align: middle;\n",
       "    }\n",
       "\n",
       "    .dataframe tbody tr th {\n",
       "        vertical-align: top;\n",
       "    }\n",
       "\n",
       "    .dataframe thead th {\n",
       "        text-align: right;\n",
       "    }\n",
       "</style>\n",
       "<table border=\"1\" class=\"dataframe\">\n",
       "  <thead>\n",
       "    <tr style=\"text-align: right;\">\n",
       "      <th></th>\n",
       "      <th>D</th>\n",
       "    </tr>\n",
       "    <tr>\n",
       "      <th>S</th>\n",
       "      <th></th>\n",
       "    </tr>\n",
       "  </thead>\n",
       "  <tbody>\n",
       "    <tr>\n",
       "      <th>0</th>\n",
       "      <td>0.424047</td>\n",
       "    </tr>\n",
       "    <tr>\n",
       "      <th>1</th>\n",
       "      <td>0.539454</td>\n",
       "    </tr>\n",
       "    <tr>\n",
       "      <th>2</th>\n",
       "      <td>0.462917</td>\n",
       "    </tr>\n",
       "    <tr>\n",
       "      <th>3</th>\n",
       "      <td>0.642058</td>\n",
       "    </tr>\n",
       "    <tr>\n",
       "      <th>4</th>\n",
       "      <td>0.594901</td>\n",
       "    </tr>\n",
       "    <tr>\n",
       "      <th>5</th>\n",
       "      <td>0.469994</td>\n",
       "    </tr>\n",
       "    <tr>\n",
       "      <th>6</th>\n",
       "      <td>0.553975</td>\n",
       "    </tr>\n",
       "    <tr>\n",
       "      <th>7</th>\n",
       "      <td>0.548301</td>\n",
       "    </tr>\n",
       "    <tr>\n",
       "      <th>8</th>\n",
       "      <td>0.386331</td>\n",
       "    </tr>\n",
       "    <tr>\n",
       "      <th>9</th>\n",
       "      <td>0.467433</td>\n",
       "    </tr>\n",
       "  </tbody>\n",
       "</table>\n",
       "</div>"
      ],
      "text/plain": [
       "          D\n",
       "S          \n",
       "0  0.424047\n",
       "1  0.539454\n",
       "2  0.462917\n",
       "3  0.642058\n",
       "4  0.594901\n",
       "5  0.469994\n",
       "6  0.553975\n",
       "7  0.548301\n",
       "8  0.386331\n",
       "9  0.467433"
      ]
     },
     "execution_count": 138,
     "metadata": {},
     "output_type": "execute_result"
    }
   ],
   "source": [
    "D = np.random.uniform(0,1,100)\n",
    "S = np.random.randint(0,10,100)\n",
    "\n",
    "D_means = []\n",
    "for i in range(10):\n",
    "    S_idx = S == i\n",
    "    D_means.append(D[S_idx].mean())\n",
    "print(D_means)\n",
    "    \n",
    "\n",
    "D_sums = np.bincount(S, weights=D)\n",
    "D_counts = np.bincount(S)\n",
    "D_means = D_sums / D_counts\n",
    "print(D_means)\n",
    "\n",
    "D_S = pd.DataFrame({\"D\": D, \"S\": S})\n",
    "D_S.groupby(\"S\").mean()"
   ]
  },
  {
   "cell_type": "code",
   "execution_count": 139,
   "id": "547861ea",
   "metadata": {},
   "outputs": [
    {
     "name": "stdout",
     "output_type": "stream",
     "text": [
      "# Author: Jaime Fernández del Río\n",
      "\n",
      "D = np.random.uniform(0,1,100)\n",
      "S = np.random.randint(0,10,100)\n",
      "D_sums = np.bincount(S, weights=D)\n",
      "D_counts = np.bincount(S)\n",
      "D_means = D_sums / D_counts\n",
      "print(D_means)\n",
      "\n",
      "# Pandas solution as a reference due to more intuitive code\n",
      "import pandas as pd\n",
      "print(pd.Series(D).groupby(S).mean())\n"
     ]
    }
   ],
   "source": [
    "answer(68)"
   ]
  },
  {
   "cell_type": "markdown",
   "id": "afbf2ff8",
   "metadata": {},
   "source": [
    "#### 69. How to get the diagonal of a dot product? (★★★)"
   ]
  },
  {
   "cell_type": "code",
   "execution_count": 140,
   "id": "8b44d9cb",
   "metadata": {},
   "outputs": [
    {
     "name": "stdout",
     "output_type": "stream",
     "text": [
      "[[37 51 56]\n",
      " [58 38 66]\n",
      " [48 44 61]]\n",
      "[37 38 61]\n"
     ]
    },
    {
     "data": {
      "text/plain": [
       "array([37, 38, 61])"
      ]
     },
     "execution_count": 140,
     "metadata": {},
     "output_type": "execute_result"
    }
   ],
   "source": [
    "A = np.random.randint(0, 10, (3, 3))\n",
    "B = np.random.randint(0, 10, (3, 3,))\n",
    "\n",
    "C = np.matmul(A, B)\n",
    "print(C)\n",
    "print(C.diagonal())\n",
    "\n",
    "np.sum(A * B.T, axis=1)\n",
    "\n"
   ]
  },
  {
   "cell_type": "code",
   "execution_count": 141,
   "id": "3405820b",
   "metadata": {},
   "outputs": [
    {
     "name": "stdout",
     "output_type": "stream",
     "text": [
      "# Author: Mathieu Blondel\n",
      "\n",
      "A = np.random.uniform(0,1,(5,5))\n",
      "B = np.random.uniform(0,1,(5,5))\n",
      "\n",
      "# Slow version\n",
      "np.diag(np.dot(A, B))\n",
      "\n",
      "# Fast version\n",
      "np.sum(A * B.T, axis=1)\n",
      "\n",
      "# Faster version\n",
      "np.einsum(\"ij,ji->i\", A, B)\n"
     ]
    }
   ],
   "source": [
    "answer(69)"
   ]
  },
  {
   "cell_type": "markdown",
   "id": "01a1aeea",
   "metadata": {},
   "source": [
    "#### 70. Consider the vector [1, 2, 3, 4, 5], how to build a new vector with 3 consecutive zeros interleaved between each value? (★★★)"
   ]
  },
  {
   "cell_type": "code",
   "execution_count": 142,
   "id": "2105434f",
   "metadata": {},
   "outputs": [
    {
     "name": "stdout",
     "output_type": "stream",
     "text": [
      "[1, 0, 0, 0, 2, 0, 0, 0, 3, 0, 0, 0, 4, 0, 0, 0, 5, 0, 0, 0]\n"
     ]
    }
   ],
   "source": [
    "A = np.array([1, 2, 3, 4, 5])\n",
    "C = []\n",
    "for a in A:\n",
    "    C.append(a)\n",
    "    C.extend([0, 0, 0])\n",
    "print(C)"
   ]
  },
  {
   "cell_type": "code",
   "execution_count": 143,
   "id": "f8e8ad73",
   "metadata": {},
   "outputs": [
    {
     "name": "stdout",
     "output_type": "stream",
     "text": [
      "[1 0 0 0 2 0 0 0 3 0 0 0 4 0 0 0 5 0 0 0]\n"
     ]
    }
   ],
   "source": [
    "C = np.zeros(len(A) * 4, dtype=int)\n",
    "C[::4] = A\n",
    "print(C)"
   ]
  },
  {
   "cell_type": "code",
   "execution_count": 144,
   "id": "803c2bf6",
   "metadata": {},
   "outputs": [
    {
     "name": "stdout",
     "output_type": "stream",
     "text": [
      "# Author: Warren Weckesser\n",
      "\n",
      "Z = np.array([1,2,3,4,5])\n",
      "nz = 3\n",
      "Z0 = np.zeros(len(Z) + (len(Z)-1)*(nz))\n",
      "Z0[::nz+1] = Z\n",
      "print(Z0)\n"
     ]
    }
   ],
   "source": [
    "answer(70)"
   ]
  },
  {
   "cell_type": "markdown",
   "id": "1da61b2c",
   "metadata": {},
   "source": [
    "#### 71. Consider an array of dimension (5,5,3), how to multiply it by an array with dimensions (5,5)? (★★★)"
   ]
  },
  {
   "cell_type": "code",
   "execution_count": 145,
   "id": "0f257760",
   "metadata": {},
   "outputs": [
    {
     "name": "stdout",
     "output_type": "stream",
     "text": [
      "(5, 5, 3)\n"
     ]
    }
   ],
   "source": [
    "A = np.random.randint(0, 10, [5, 5, 3])\n",
    "B = np.random.randint(0, 10, [5, 5])\n",
    "C = A * B[:, :, np.newaxis]\n",
    "print(C.shape)"
   ]
  },
  {
   "cell_type": "code",
   "execution_count": 146,
   "id": "9363d8d4",
   "metadata": {},
   "outputs": [
    {
     "name": "stdout",
     "output_type": "stream",
     "text": [
      "A = np.ones((5,5,3))\n",
      "B = 2*np.ones((5,5))\n",
      "print(A * B[:,:,None])\n"
     ]
    }
   ],
   "source": [
    "answer(71)"
   ]
  },
  {
   "cell_type": "markdown",
   "id": "d465a23a",
   "metadata": {},
   "source": [
    "#### 72. How to swap two rows of an array? (★★★)"
   ]
  },
  {
   "cell_type": "code",
   "execution_count": 147,
   "id": "85dbac4a",
   "metadata": {},
   "outputs": [
    {
     "data": {
      "text/plain": [
       "array([[4, 5, 6, 7],\n",
       "       [0, 1, 2, 3]])"
      ]
     },
     "execution_count": 147,
     "metadata": {},
     "output_type": "execute_result"
    }
   ],
   "source": [
    "A = np.arange(8).reshape(2, 4)\n",
    "A[[0, 1]] = A[[1, 0]]\n",
    "A\n"
   ]
  },
  {
   "cell_type": "markdown",
   "id": "64916675",
   "metadata": {},
   "source": [
    "#### 73. Consider a set of 10 triplets describing 10 triangles (with shared vertices), find the set of unique line segments composing all the  triangles (★★★)"
   ]
  },
  {
   "cell_type": "code",
   "execution_count": 148,
   "id": "f4b78b30",
   "metadata": {},
   "outputs": [
    {
     "name": "stdout",
     "output_type": "stream",
     "text": [
      "(30, 2)\n",
      "(30,)\n"
     ]
    }
   ],
   "source": [
    "A = np.random.randint(0, 100, (10, 3))\n",
    "F = np.roll(A.repeat(2, axis=1), -1, axis=1)\n",
    "F = F.reshape(-1, 2)\n",
    "F = np.sort(F, axis=1)\n",
    "G = F.view(dtype=[(\"p0\", F.dtype), (\"p1\", F.dtype)])\n",
    "G = np.unique(G)\n",
    "F = np.unique(F, axis=0)\n",
    "# F = np.unique(F, axis=1)\n",
    "print(F.shape)\n",
    "print(G.shape)\n"
   ]
  },
  {
   "cell_type": "code",
   "execution_count": 149,
   "id": "22cf4ff6",
   "metadata": {},
   "outputs": [
    {
     "name": "stdout",
     "output_type": "stream",
     "text": [
      "# Author: Nicolas P. Rougier\n",
      "\n",
      "faces = np.random.randint(0,100,(10,3))\n",
      "F = np.roll(faces.repeat(2,axis=1),-1,axis=1)\n",
      "F = F.reshape(len(F)*3,2)\n",
      "F = np.sort(F,axis=1)\n",
      "G = F.view( dtype=[('p0',F.dtype),('p1',F.dtype)] )\n",
      "G = np.unique(G)\n",
      "print(G)\n"
     ]
    }
   ],
   "source": [
    "answer(73)"
   ]
  },
  {
   "cell_type": "markdown",
   "id": "5ac69993",
   "metadata": {},
   "source": [
    "#### 74. Given a sorted array C that corresponds to a bincount, how to produce an array A such that np.bincount(A) == C? (★★★)"
   ]
  },
  {
   "cell_type": "code",
   "execution_count": 150,
   "id": "6e2b4a3b",
   "metadata": {},
   "outputs": [
    {
     "name": "stdout",
     "output_type": "stream",
     "text": [
      "hint: np.repeat\n"
     ]
    }
   ],
   "source": [
    "hint(74)"
   ]
  },
  {
   "cell_type": "code",
   "execution_count": 151,
   "id": "8c16b4a5",
   "metadata": {},
   "outputs": [
    {
     "data": {
      "text/plain": [
       "array([1, 1, 2, 3, 4, 4, 6])"
      ]
     },
     "execution_count": 151,
     "metadata": {},
     "output_type": "execute_result"
    }
   ],
   "source": [
    "C = np.bincount([1,1,2,3,4,4,6])\n",
    "A = np.repeat(np.arange(len(C)), C)\n",
    "A"
   ]
  },
  {
   "cell_type": "code",
   "execution_count": 152,
   "id": "75417e2a",
   "metadata": {},
   "outputs": [
    {
     "name": "stdout",
     "output_type": "stream",
     "text": [
      "# Author: Jaime Fernández del Río\n",
      "\n",
      "C = np.bincount([1,1,2,3,4,4,6])\n",
      "A = np.repeat(np.arange(len(C)), C)\n",
      "print(A)\n"
     ]
    }
   ],
   "source": [
    "answer(74)"
   ]
  },
  {
   "cell_type": "markdown",
   "id": "41ae2500",
   "metadata": {},
   "source": [
    "#### 75. How to compute averages using a sliding window over an array? (★★★)"
   ]
  },
  {
   "cell_type": "code",
   "execution_count": 153,
   "id": "460cdb46",
   "metadata": {},
   "outputs": [
    {
     "name": "stdout",
     "output_type": "stream",
     "text": [
      "[[0 1 2]\n",
      " [1 2 3]\n",
      " [2 3 4]\n",
      " [3 4 5]\n",
      " [4 5 6]]\n",
      "[1. 2. 3. 4. 5.]\n"
     ]
    }
   ],
   "source": [
    "A = np.arange(7)\n",
    "windows = np.lib.stride_tricks.sliding_window_view(A, window_shape=3)\n",
    "windows_avg = windows.mean(axis=1)\n",
    "print(windows)\n",
    "print(windows_avg)"
   ]
  },
  {
   "cell_type": "code",
   "execution_count": 154,
   "id": "f19ee9d6",
   "metadata": {},
   "outputs": [
    {
     "name": "stdout",
     "output_type": "stream",
     "text": [
      "# Author: Jaime Fernández del Río\n",
      "\n",
      "def moving_average(a, n=3) :\n",
      "    ret = np.cumsum(a, dtype=float)\n",
      "    ret[n:] = ret[n:] - ret[:-n]\n",
      "    return ret[n - 1:] / n\n",
      "Z = np.arange(20)\n",
      "print(moving_average(Z, n=3))\n",
      "\n",
      "# Author: Jeff Luo (@Jeff1999)\n",
      "# make sure your NumPy >= 1.20.0\n",
      "\n",
      "from numpy.lib.stride_tricks import sliding_window_view\n",
      "\n",
      "Z = np.arange(20)\n",
      "print(sliding_window_view(Z, window_shape=3).mean(axis=-1))\n"
     ]
    }
   ],
   "source": [
    "answer(75)"
   ]
  },
  {
   "cell_type": "markdown",
   "id": "8a968a39",
   "metadata": {},
   "source": [
    "#### 76. Consider a one-dimensional array Z, build a two-dimensional array whose first row is (Z[0],Z[1],Z[2]) and each subsequent row is  shifted by 1 (last row should be (Z[-3],Z[-2],Z[-1]) (★★★)"
   ]
  },
  {
   "cell_type": "code",
   "execution_count": 155,
   "id": "5d37d9b3",
   "metadata": {},
   "outputs": [
    {
     "name": "stdout",
     "output_type": "stream",
     "text": [
      "[[ 0  1  2]\n",
      " [ 1  2  3]\n",
      " [ 2  3  4]\n",
      " [ 3  4  5]\n",
      " [ 4  5  6]\n",
      " [ 5  6  7]\n",
      " [ 6  7  8]\n",
      " [ 7  8  9]\n",
      " [ 8  9 10]\n",
      " [ 9 10 11]\n",
      " [10 11 12]\n",
      " [11 12 13]\n",
      " [12 13 14]\n",
      " [13 14 15]\n",
      " [14 15 16]\n",
      " [15 16 17]\n",
      " [16 17 18]\n",
      " [17 18 19]\n",
      " [18 19 20]\n",
      " [19 20 21]\n",
      " [20 21 22]\n",
      " [21 22 23]\n",
      " [22 23 24]\n",
      " [23 24 25]\n",
      " [24 25 26]\n",
      " [25 26 27]\n",
      " [26 27 28]\n",
      " [27 28 29]]\n"
     ]
    }
   ],
   "source": [
    "A = np.arange(30)\n",
    "A = np.lib.stride_tricks.sliding_window_view(A, 3)\n",
    "print(A)"
   ]
  },
  {
   "cell_type": "code",
   "execution_count": 156,
   "id": "9628bdeb",
   "metadata": {},
   "outputs": [
    {
     "name": "stdout",
     "output_type": "stream",
     "text": [
      "# Author: Joe Kington / Erik Rigtorp\n",
      "from numpy.lib import stride_tricks\n",
      "\n",
      "def rolling(a, window):\n",
      "    shape = (a.size - window + 1, window)\n",
      "    strides = (a.strides[0], a.strides[0])\n",
      "    return stride_tricks.as_strided(a, shape=shape, strides=strides)\n",
      "Z = rolling(np.arange(10), 3)\n",
      "print(Z)\n",
      "\n",
      "# Author: Jeff Luo (@Jeff1999)\n",
      "\n",
      "Z = np.arange(10)\n",
      "print(sliding_window_view(Z, window_shape=3))\n"
     ]
    }
   ],
   "source": [
    "answer(76)"
   ]
  },
  {
   "cell_type": "markdown",
   "id": "d8c056da",
   "metadata": {},
   "source": [
    "#### 77. How to negate a boolean, or to change the sign of a float inplace? (★★★)"
   ]
  },
  {
   "cell_type": "code",
   "execution_count": 157,
   "id": "3a0ba740",
   "metadata": {},
   "outputs": [
    {
     "name": "stdout",
     "output_type": "stream",
     "text": [
      "[False False False False  True]\n",
      "[-0.68254539  0.15621625  0.33562601  0.40819257  0.29191556]\n"
     ]
    }
   ],
   "source": [
    "A = np.random.randint(0, 2, 5).astype(bool)\n",
    "np.logical_not(A, out=A)\n",
    "print(A)\n",
    "\n",
    "A = np.random.uniform(-1.0, 1.0, 5)\n",
    "np.negative(A, out=A)\n",
    "print(A)"
   ]
  },
  {
   "cell_type": "code",
   "execution_count": 158,
   "id": "5498bae4",
   "metadata": {},
   "outputs": [
    {
     "name": "stdout",
     "output_type": "stream",
     "text": [
      "# Author: Nathaniel J. Smith\n",
      "\n",
      "Z = np.random.randint(0,2,100)\n",
      "np.logical_not(Z, out=Z)\n",
      "\n",
      "Z = np.random.uniform(-1.0,1.0,100)\n",
      "np.negative(Z, out=Z)\n"
     ]
    }
   ],
   "source": [
    "answer(77)"
   ]
  },
  {
   "cell_type": "markdown",
   "id": "6a2632c8",
   "metadata": {},
   "source": [
    "#### 78. Consider 2 sets of points P0,P1 describing lines (2d) and a point p, how to compute distance from p to each line i (P0[i],P1[i])? (★★★)"
   ]
  },
  {
   "cell_type": "code",
   "execution_count": 159,
   "id": "8da38ee2",
   "metadata": {},
   "outputs": [],
   "source": [
    "import numpy as np"
   ]
  },
  {
   "cell_type": "code",
   "execution_count": 160,
   "id": "cce12b75",
   "metadata": {},
   "outputs": [
    {
     "name": "stdout",
     "output_type": "stream",
     "text": [
      "[ 4.972141   12.59314574  7.70614502 10.25443551 12.0304646   1.07514984\n",
      "  7.13835788  2.90364086 10.51516188 19.05340589]\n",
      "[ 4.93902359 11.07506371  3.36686018 10.25443551 12.0304646   0.71593878\n",
      "  6.5131383   2.90364086 10.51516188 19.05340589]\n"
     ]
    }
   ],
   "source": [
    "P0 = np.random.uniform(-10, 10, (10, 2))\n",
    "\n",
    "P1 = np.random.uniform(-10, 10, (10, 2))\n",
    "\n",
    "p = np.random.uniform(-10, 10, (1, 2))\n",
    "\n",
    "\n",
    "# dx = B[\"x\"] - A[\"x\"]\n",
    "# dy = B[\"y\"] - A[\"y\"]\n",
    "# dydx = P1 - P0\n",
    "# m = dydx[:, 0] / dydx[:, 1]\n",
    "# L = np.abs(m * p[0, 0] - p[0, 1] - m * P0[:, 0] + P0[:, 1]) / np.sqrt(m ** 2 + 1)\n",
    "# print(L)\n",
    "\n",
    "\n",
    "a = P1 - P0\n",
    "b = p - P0\n",
    "# vector a の2乗\n",
    "A = (a**2).sum(axis=1)\n",
    "U = np.sum(a * b, axis=1) / A\n",
    "H = U[:, np.newaxis] * a\n",
    "\n",
    "dist_on = np.linalg.norm(p - (P0 + H), axis=1)\n",
    "# 始点側\n",
    "dist_start = np.linalg.norm(p - P0, axis=1)\n",
    "# 終点側\n",
    "dist_end = np.linalg.norm(p - P1, axis=1)\n",
    "\n",
    "# 距離を場合分けで選択\n",
    "distance = np.where(U < 0, dist_start,\n",
    "            np.where(U > 1, dist_end, dist_on))\n",
    "print(distance)\n",
    "\n",
    "\n",
    "def distance(P0, P1, p):\n",
    "    T = P1 - P0\n",
    "    L = (T**2).sum(axis=1)\n",
    "    U = -((P0[:,0]-p[...,0])*T[:,0] + (P0[:,1]-p[...,1])*T[:,1]) / L\n",
    "    U = U.reshape(len(U),1)\n",
    "    D = P0 + U*T - p\n",
    "    return np.sqrt((D**2).sum(axis=1))\n",
    "\n",
    "\n",
    "print(distance(P0, P1, p))"
   ]
  },
  {
   "cell_type": "code",
   "execution_count": 161,
   "id": "8f6cb87e",
   "metadata": {},
   "outputs": [
    {
     "name": "stdout",
     "output_type": "stream",
     "text": [
      "def distance(P0, P1, p):\n",
      "    T = P1 - P0\n",
      "    L = (T**2).sum(axis=1)\n",
      "    U = -((P0[:,0]-p[...,0])*T[:,0] + (P0[:,1]-p[...,1])*T[:,1]) / L\n",
      "    U = U.reshape(len(U),1)\n",
      "    D = P0 + U*T - p\n",
      "    return np.sqrt((D**2).sum(axis=1))\n",
      "\n",
      "P0 = np.random.uniform(-10,10,(10,2))\n",
      "P1 = np.random.uniform(-10,10,(10,2))\n",
      "p  = np.random.uniform(-10,10,( 1,2))\n",
      "print(distance(P0, P1, p))\n"
     ]
    }
   ],
   "source": [
    "answer(78)"
   ]
  },
  {
   "cell_type": "markdown",
   "id": "0eaf1033",
   "metadata": {},
   "source": [
    "#### 78. Consider 2 sets of points P0,P1 describing lines (2d) and a point p, how to compute distance from p to each line i (P0[i],P1[i])? (★★★)"
   ]
  },
  {
   "cell_type": "markdown",
   "id": "7cba6ae9",
   "metadata": {},
   "source": [
    "#### 79. Consider 2 sets of points P0,P1 describing lines (2d) and a set of points P, how to compute distance from each point j (P[j]) to each line i (P0[i],P1[i])? (★★★)"
   ]
  },
  {
   "cell_type": "code",
   "execution_count": 162,
   "id": "576c542d",
   "metadata": {},
   "outputs": [
    {
     "name": "stdout",
     "output_type": "stream",
     "text": [
      "[[15.3836176   9.96101995  2.52460973 11.81180037  7.28371263 11.68234773\n",
      "   7.93049069  0.33853095  4.77357939  8.47502544]\n",
      " [ 0.7540057   4.61967411 11.43476048  0.18662627  8.80338834  4.43139115\n",
      "   7.05192126  8.58760275 11.88866256  5.86960014]\n",
      " [ 5.14683082 11.75229397  8.59011045  3.04246146  5.2885472   1.95305626\n",
      "   4.97529599  2.53434341 11.44854093  4.28779504]\n",
      " [ 1.04906969  5.70844965 13.31820339  1.07779248 10.93014948  6.11528108\n",
      "   8.79591118 10.12360631 13.47732807  7.1771081 ]\n",
      " [ 1.61849145 11.46421977 11.31591351  2.0886885   6.09452321  1.87319084\n",
      "   6.59152563  0.70935025 13.6492935   5.82117714]]\n"
     ]
    }
   ],
   "source": [
    "P0 = np.random.uniform(-10, 10, (10, 2))\n",
    "\n",
    "P1 = np.random.uniform(-10, 10, (10, 2))\n",
    "\n",
    "p = np.random.uniform(-10, 10, (5 , 2))\n",
    "\n",
    "\n",
    "# dx = B[\"x\"] - A[\"x\"]\n",
    "# dy = B[\"y\"] - A[\"y\"]\n",
    "# dydx = P1 - P0\n",
    "# m = dydx[:, 0] / dydx[:, 1]\n",
    "# L = np.abs(m * p[0, 0] - p[0, 1] - m * P0[:, 0] + P0[:, 1]) / np.sqrt(m ** 2 + 1)\n",
    "# print(L)\n",
    "\n",
    "\n",
    "a = P1 - P0\n",
    "# (10, 2) -> (1, 10, 2)\n",
    "a = a[np.newaxis, :, :]\n",
    "# (5, 1, 2) - (1, 10, 2) = (5, 10, 2)\n",
    "b = p[:, np.newaxis, :] - P0[np.newaxis, :, :]\n",
    "\n",
    "# vector a の2乗\n",
    "# (1, 10, 2) -> (1, 10)\n",
    "A = (a**2).sum(axis=2)\n",
    "# (5, 10, 2) -> (5, 10)\n",
    "U = np.sum(a * b, axis=2) / A\n",
    "# (5, 10, 1) * (1, 10, 2) = (5, 10, 2)\n",
    "H = U[:, :, np.newaxis] * a\n",
    "\n",
    "# (5, 1, 2) - (1, 10, 2) - (5, 10, 2) = (5, 10, 2) -> (5, 10)\n",
    "dist_on = np.linalg.norm(p[:, np.newaxis, :] - (P0[np.newaxis, :, :] + H), axis=2)\n",
    "# 始点側\n",
    "# (5, 1, 2) - (1, 10, 2) = (5, 10, 2) -> (5, 10)\n",
    "dist_start = np.linalg.norm(p[:, np.newaxis,: ] - P0[np.newaxis, :, :], axis=2)\n",
    "# 終点側\n",
    "# (5, 1, 2) - (1, 10, 2) = (5, 10, 2) -> (5, 10)\n",
    "dist_end = np.linalg.norm(p[:, np.newaxis] - P1[np.newaxis, :, :], axis=2)\n",
    "\n",
    "# 距離を場合分けで選択\n",
    "distance = np.where(U < 0, dist_start,\n",
    "            np.where(U > 1, dist_end, dist_on))\n",
    "print(distance)\n"
   ]
  },
  {
   "cell_type": "markdown",
   "id": "1402e9db",
   "metadata": {},
   "source": [
    "#### 80. Consider an arbitrary array, write a function that extracts a subpart with a fixed shape and centered on a given element (pad with a `fill` value when necessary) (★★★)"
   ]
  },
  {
   "cell_type": "code",
   "execution_count": 163,
   "id": "39de62cb",
   "metadata": {},
   "outputs": [
    {
     "name": "stdout",
     "output_type": "stream",
     "text": [
      "# Author: Nicolas Rougier\n",
      "\n",
      "Z = np.random.randint(0,10,(10,10))\n",
      "shape = (5,5)\n",
      "fill  = 0\n",
      "position = (1,1)\n",
      "\n",
      "R = np.ones(shape, dtype=Z.dtype)*fill\n",
      "P  = np.array(list(position)).astype(int)\n",
      "Rs = np.array(list(R.shape)).astype(int)\n",
      "Zs = np.array(list(Z.shape)).astype(int)\n",
      "\n",
      "R_start = np.zeros((len(shape),)).astype(int)\n",
      "R_stop  = np.array(list(shape)).astype(int)\n",
      "Z_start = (P-Rs//2)\n",
      "Z_stop  = (P+Rs//2)+Rs%2\n",
      "\n",
      "R_start = (R_start - np.minimum(Z_start,0)).tolist()\n",
      "Z_start = (np.maximum(Z_start,0)).tolist()\n",
      "R_stop = np.maximum(R_start, (R_stop - np.maximum(Z_stop-Zs,0))).tolist()\n",
      "Z_stop = (np.minimum(Z_stop,Zs)).tolist()\n",
      "\n",
      "r = [slice(start,stop) for start,stop in zip(R_start,R_stop)]\n",
      "z = [slice(start,stop) for start,stop in zip(Z_start,Z_stop)]\n",
      "R[r] = Z[z]\n",
      "print(Z)\n",
      "print(R)\n"
     ]
    }
   ],
   "source": [
    "answer(80)"
   ]
  },
  {
   "cell_type": "code",
   "execution_count": 164,
   "id": "8aa89c72",
   "metadata": {},
   "outputs": [
    {
     "name": "stdout",
     "output_type": "stream",
     "text": [
      "[[-1. -1. -1.]\n",
      " [-1.  0.  1.]\n",
      " [-1.  4.  5.]]\n"
     ]
    }
   ],
   "source": [
    "\n",
    "def pad(array, N, i, j, fill=-1):\n",
    "    out = np.zeros([N, N])\n",
    "    (row, column) = array.shape\n",
    "    for a in range(N):\n",
    "        for b in range(N):\n",
    "            aa = i - N // 2 + a\n",
    "            bb = j - N // 2 + b\n",
    "            if 0 <= aa < row and 0 <= bb < column:\n",
    "                out[a, b] = array[aa, bb]\n",
    "            else:\n",
    "                out[a, b] = fill\n",
    "    print(out)\n",
    "            \n",
    "a = np.arange(16).reshape(4,4)           \n",
    "pad(a, 3, 0, 0)"
   ]
  },
  {
   "cell_type": "code",
   "execution_count": 165,
   "id": "430aee9d",
   "metadata": {},
   "outputs": [
    {
     "name": "stdout",
     "output_type": "stream",
     "text": [
      "[[-1 -1 -1]\n",
      " [-1  0  1]\n",
      " [-1  4  5]]\n"
     ]
    }
   ],
   "source": [
    "def get_extract(arr, center, shape, fill=-1):\n",
    "    out = np.full(shape, fill_value=fill, dtype=arr.dtype)\n",
    "    arr_shape = np.array(arr.shape)\n",
    "    shape = np.array(shape)\n",
    "    center = np.array(center)\n",
    "\n",
    "    start = center - shape // 2\n",
    "    end = start + shape \n",
    "\n",
    "    arr_start = np.maximum(start, 0)\n",
    "    arr_end = np.minimum(end, arr_shape)\n",
    "\n",
    "    out_start = arr_start - start\n",
    "    out_end = out_start + (arr_end - arr_start)\n",
    "\n",
    "    out_slices = tuple(slice(s, e) for s, e in zip(out_start, out_end))\n",
    "    arr_slices = tuple(slice(s, e) for s, e in zip(arr_start, arr_end))\n",
    "    out[out_slices] = arr[arr_slices]\n",
    "    print(out)\n",
    "\n",
    "\n",
    "A = np.arange(16).reshape(4, 4)\n",
    "\n",
    "get_extract(A, center=(0, 0), shape=(3, 3))"
   ]
  },
  {
   "cell_type": "code",
   "execution_count": 166,
   "id": "1ee792c2",
   "metadata": {},
   "outputs": [
    {
     "name": "stdout",
     "output_type": "stream",
     "text": [
      "(slice(0, 3, None), slice(0, 3, None))\n",
      "[[ 0  1  2]\n",
      " [ 4  5  6]\n",
      " [ 8  9 10]]\n"
     ]
    }
   ],
   "source": [
    "import numpy as np\n",
    "\n",
    "def extract_centered_subarray(arr, center, shape, fill=0):\n",
    "    out = np.full(shape, fill, dtype=arr.dtype)\n",
    "    arr_shape = np.array(arr.shape)\n",
    "    shape = np.array(shape)\n",
    "    center = np.array(center)\n",
    "\n",
    "    # 元配列と出力配列のスライス範囲を計算\n",
    "    start = center - shape // 2\n",
    "    end = center + (shape + 1) // 2\n",
    "\n",
    "    # 元配列側の有効範囲\n",
    "    arr_start = np.maximum(start, 0)\n",
    "    arr_end = np.minimum(end, arr_shape)\n",
    "\n",
    "    # 出力配列側の有効範囲\n",
    "    out_start = arr_start - start\n",
    "    out_end = out_start + (arr_end - arr_start)\n",
    "\n",
    "    # スライスしてコピー\n",
    "    out_slices = tuple(slice(s, e) for s, e in zip(out_start, out_end))\n",
    "    arr_slices = tuple(slice(s, e) for s, e in zip(arr_start, arr_end))\n",
    "    out[out_start[0]:out_end[0], out_start[1]:out_end[1]] = \\\n",
    "        arr[arr_start[0]:arr_end[0], arr_start[1]:arr_end[1]]\n",
    "    print(out_slices)\n",
    "    return out\n",
    "\n",
    "# 例\n",
    "a = np.arange(16).reshape(4,4)\n",
    "print(extract_centered_subarray(a, center=(1, 1), shape=(3, 3), fill=-1))\n"
   ]
  },
  {
   "cell_type": "code",
   "execution_count": null,
   "id": "eef784c1",
   "metadata": {},
   "outputs": [],
   "source": []
  },
  {
   "cell_type": "markdown",
   "id": "159a6dff",
   "metadata": {},
   "source": [
    "#### 81. Consider an array Z = [1,2,3,4,5,6,7,8,9,10,11,12,13,14], how to generate an array R = [[1,2,3,4], [2,3,4,5], [3,4,5,6], ..., [11,12,13,14]]? (★★★)"
   ]
  },
  {
   "cell_type": "code",
   "execution_count": 167,
   "id": "ce160b57",
   "metadata": {},
   "outputs": [
    {
     "data": {
      "text/plain": [
       "array([[ 1,  2,  3,  4],\n",
       "       [ 2,  3,  4,  5],\n",
       "       [ 3,  4,  5,  6],\n",
       "       [ 4,  5,  6,  7],\n",
       "       [ 5,  6,  7,  8],\n",
       "       [ 6,  7,  8,  9],\n",
       "       [ 7,  8,  9, 10],\n",
       "       [ 8,  9, 10, 11],\n",
       "       [ 9, 10, 11, 12],\n",
       "       [10, 11, 12, 13],\n",
       "       [11, 12, 13, 14]])"
      ]
     },
     "execution_count": 167,
     "metadata": {},
     "output_type": "execute_result"
    }
   ],
   "source": [
    "Z = np.arange(1, 15)\n",
    "Z = np.lib.stride_tricks.sliding_window_view(Z, 4)\n",
    "Z"
   ]
  },
  {
   "cell_type": "code",
   "execution_count": 168,
   "id": "9788c919",
   "metadata": {},
   "outputs": [
    {
     "name": "stdout",
     "output_type": "stream",
     "text": [
      "# Author: Stefan van der Walt\n",
      "\n",
      "Z = np.arange(1,15,dtype=np.uint32)\n",
      "R = stride_tricks.as_strided(Z,(11,4),(4,4))\n",
      "print(R)\n",
      "\n",
      "# Author: Jeff Luo (@Jeff1999)\n",
      "\n",
      "Z = np.arange(1, 15, dtype=np.uint32)\n",
      "print(sliding_window_view(Z, window_shape=4))\n"
     ]
    }
   ],
   "source": [
    "answer(81)"
   ]
  },
  {
   "cell_type": "markdown",
   "id": "9479f684",
   "metadata": {},
   "source": [
    "#### 82. Compute a matrix rank (★★★)"
   ]
  },
  {
   "cell_type": "code",
   "execution_count": 169,
   "id": "9a6e088c",
   "metadata": {},
   "outputs": [
    {
     "name": "stdout",
     "output_type": "stream",
     "text": [
      "1\n"
     ]
    }
   ],
   "source": [
    "A = np.array([[1, 2], [2, 4]])\n",
    "print(np.linalg.matrix_rank(A))"
   ]
  },
  {
   "cell_type": "code",
   "execution_count": 170,
   "id": "9353e2ef",
   "metadata": {},
   "outputs": [
    {
     "name": "stdout",
     "output_type": "stream",
     "text": [
      "# Author: Stefan van der Walt\n",
      "\n",
      "Z = np.random.uniform(0,1,(10,10))\n",
      "U, S, V = np.linalg.svd(Z) # Singular Value Decomposition\n",
      "rank = np.sum(S > 1e-10)\n",
      "print(rank)\n",
      "\n",
      "# alternative solution:\n",
      "# Author: Jeff Luo (@Jeff1999)\n",
      "\n",
      "rank = np.linalg.matrix_rank(Z)\n",
      "print(rank)\n"
     ]
    }
   ],
   "source": [
    "answer(82)"
   ]
  },
  {
   "cell_type": "markdown",
   "id": "5b6a81c5",
   "metadata": {},
   "source": [
    "#### 83. How to find the most frequent value in an array?"
   ]
  },
  {
   "cell_type": "code",
   "execution_count": 171,
   "id": "cf1864ba",
   "metadata": {},
   "outputs": [
    {
     "data": {
      "text/html": [
       "<div>\n",
       "<style scoped>\n",
       "    .dataframe tbody tr th:only-of-type {\n",
       "        vertical-align: middle;\n",
       "    }\n",
       "\n",
       "    .dataframe tbody tr th {\n",
       "        vertical-align: top;\n",
       "    }\n",
       "\n",
       "    .dataframe thead th {\n",
       "        text-align: right;\n",
       "    }\n",
       "</style>\n",
       "<table border=\"1\" class=\"dataframe\">\n",
       "  <thead>\n",
       "    <tr style=\"text-align: right;\">\n",
       "      <th></th>\n",
       "      <th>0</th>\n",
       "      <th>count</th>\n",
       "    </tr>\n",
       "  </thead>\n",
       "  <tbody>\n",
       "    <tr>\n",
       "      <th>0</th>\n",
       "      <td>0</td>\n",
       "      <td>5</td>\n",
       "    </tr>\n",
       "    <tr>\n",
       "      <th>1</th>\n",
       "      <td>8</td>\n",
       "      <td>3</td>\n",
       "    </tr>\n",
       "    <tr>\n",
       "      <th>2</th>\n",
       "      <td>1</td>\n",
       "      <td>2</td>\n",
       "    </tr>\n",
       "    <tr>\n",
       "      <th>3</th>\n",
       "      <td>4</td>\n",
       "      <td>2</td>\n",
       "    </tr>\n",
       "    <tr>\n",
       "      <th>4</th>\n",
       "      <td>7</td>\n",
       "      <td>2</td>\n",
       "    </tr>\n",
       "    <tr>\n",
       "      <th>5</th>\n",
       "      <td>9</td>\n",
       "      <td>2</td>\n",
       "    </tr>\n",
       "    <tr>\n",
       "      <th>6</th>\n",
       "      <td>2</td>\n",
       "      <td>1</td>\n",
       "    </tr>\n",
       "    <tr>\n",
       "      <th>7</th>\n",
       "      <td>3</td>\n",
       "      <td>1</td>\n",
       "    </tr>\n",
       "    <tr>\n",
       "      <th>8</th>\n",
       "      <td>5</td>\n",
       "      <td>1</td>\n",
       "    </tr>\n",
       "    <tr>\n",
       "      <th>9</th>\n",
       "      <td>6</td>\n",
       "      <td>1</td>\n",
       "    </tr>\n",
       "  </tbody>\n",
       "</table>\n",
       "</div>"
      ],
      "text/plain": [
       "   0  count\n",
       "0  0      5\n",
       "1  8      3\n",
       "2  1      2\n",
       "3  4      2\n",
       "4  7      2\n",
       "5  9      2\n",
       "6  2      1\n",
       "7  3      1\n",
       "8  5      1\n",
       "9  6      1"
      ]
     },
     "execution_count": 171,
     "metadata": {},
     "output_type": "execute_result"
    }
   ],
   "source": [
    "import pandas as pd\n",
    "A = np.random.randint(0, 10, 20)\n",
    "A = pd.DataFrame(A)\n",
    "A.value_counts().reset_index()"
   ]
  },
  {
   "cell_type": "code",
   "execution_count": 172,
   "id": "45a7fced",
   "metadata": {},
   "outputs": [
    {
     "name": "stdout",
     "output_type": "stream",
     "text": [
      "[1 3 4 0 2 0 2 1 5 2]\n"
     ]
    }
   ],
   "source": [
    "Z = np.random.randint(0, 10, 20)\n",
    "# 出現しない値は0としてカウントされる\n",
    "print(np.bincount(Z))"
   ]
  },
  {
   "cell_type": "code",
   "execution_count": 173,
   "id": "dea67f2b",
   "metadata": {},
   "outputs": [
    {
     "name": "stdout",
     "output_type": "stream",
     "text": [
      "Z = np.random.randint(0,10,50)\n",
      "print(np.bincount(Z).argmax())\n"
     ]
    }
   ],
   "source": [
    "answer(83)"
   ]
  },
  {
   "cell_type": "markdown",
   "id": "8142c362",
   "metadata": {},
   "source": [
    "#### 84. Extract all the contiguous 3x3 blocks from a random 10x10 matrix (★★★)"
   ]
  },
  {
   "cell_type": "code",
   "execution_count": 174,
   "id": "18b475ed",
   "metadata": {},
   "outputs": [
    {
     "data": {
      "text/plain": [
       "array([[[[ 0,  1,  2],\n",
       "         [10, 11, 12],\n",
       "         [20, 21, 22]],\n",
       "\n",
       "        [[ 1,  2,  3],\n",
       "         [11, 12, 13],\n",
       "         [21, 22, 23]],\n",
       "\n",
       "        [[ 2,  3,  4],\n",
       "         [12, 13, 14],\n",
       "         [22, 23, 24]],\n",
       "\n",
       "        [[ 3,  4,  5],\n",
       "         [13, 14, 15],\n",
       "         [23, 24, 25]],\n",
       "\n",
       "        [[ 4,  5,  6],\n",
       "         [14, 15, 16],\n",
       "         [24, 25, 26]],\n",
       "\n",
       "        [[ 5,  6,  7],\n",
       "         [15, 16, 17],\n",
       "         [25, 26, 27]],\n",
       "\n",
       "        [[ 6,  7,  8],\n",
       "         [16, 17, 18],\n",
       "         [26, 27, 28]],\n",
       "\n",
       "        [[ 7,  8,  9],\n",
       "         [17, 18, 19],\n",
       "         [27, 28, 29]]],\n",
       "\n",
       "\n",
       "       [[[10, 11, 12],\n",
       "         [20, 21, 22],\n",
       "         [30, 31, 32]],\n",
       "\n",
       "        [[11, 12, 13],\n",
       "         [21, 22, 23],\n",
       "         [31, 32, 33]],\n",
       "\n",
       "        [[12, 13, 14],\n",
       "         [22, 23, 24],\n",
       "         [32, 33, 34]],\n",
       "\n",
       "        [[13, 14, 15],\n",
       "         [23, 24, 25],\n",
       "         [33, 34, 35]],\n",
       "\n",
       "        [[14, 15, 16],\n",
       "         [24, 25, 26],\n",
       "         [34, 35, 36]],\n",
       "\n",
       "        [[15, 16, 17],\n",
       "         [25, 26, 27],\n",
       "         [35, 36, 37]],\n",
       "\n",
       "        [[16, 17, 18],\n",
       "         [26, 27, 28],\n",
       "         [36, 37, 38]],\n",
       "\n",
       "        [[17, 18, 19],\n",
       "         [27, 28, 29],\n",
       "         [37, 38, 39]]],\n",
       "\n",
       "\n",
       "       [[[20, 21, 22],\n",
       "         [30, 31, 32],\n",
       "         [40, 41, 42]],\n",
       "\n",
       "        [[21, 22, 23],\n",
       "         [31, 32, 33],\n",
       "         [41, 42, 43]],\n",
       "\n",
       "        [[22, 23, 24],\n",
       "         [32, 33, 34],\n",
       "         [42, 43, 44]],\n",
       "\n",
       "        [[23, 24, 25],\n",
       "         [33, 34, 35],\n",
       "         [43, 44, 45]],\n",
       "\n",
       "        [[24, 25, 26],\n",
       "         [34, 35, 36],\n",
       "         [44, 45, 46]],\n",
       "\n",
       "        [[25, 26, 27],\n",
       "         [35, 36, 37],\n",
       "         [45, 46, 47]],\n",
       "\n",
       "        [[26, 27, 28],\n",
       "         [36, 37, 38],\n",
       "         [46, 47, 48]],\n",
       "\n",
       "        [[27, 28, 29],\n",
       "         [37, 38, 39],\n",
       "         [47, 48, 49]]],\n",
       "\n",
       "\n",
       "       [[[30, 31, 32],\n",
       "         [40, 41, 42],\n",
       "         [50, 51, 52]],\n",
       "\n",
       "        [[31, 32, 33],\n",
       "         [41, 42, 43],\n",
       "         [51, 52, 53]],\n",
       "\n",
       "        [[32, 33, 34],\n",
       "         [42, 43, 44],\n",
       "         [52, 53, 54]],\n",
       "\n",
       "        [[33, 34, 35],\n",
       "         [43, 44, 45],\n",
       "         [53, 54, 55]],\n",
       "\n",
       "        [[34, 35, 36],\n",
       "         [44, 45, 46],\n",
       "         [54, 55, 56]],\n",
       "\n",
       "        [[35, 36, 37],\n",
       "         [45, 46, 47],\n",
       "         [55, 56, 57]],\n",
       "\n",
       "        [[36, 37, 38],\n",
       "         [46, 47, 48],\n",
       "         [56, 57, 58]],\n",
       "\n",
       "        [[37, 38, 39],\n",
       "         [47, 48, 49],\n",
       "         [57, 58, 59]]],\n",
       "\n",
       "\n",
       "       [[[40, 41, 42],\n",
       "         [50, 51, 52],\n",
       "         [60, 61, 62]],\n",
       "\n",
       "        [[41, 42, 43],\n",
       "         [51, 52, 53],\n",
       "         [61, 62, 63]],\n",
       "\n",
       "        [[42, 43, 44],\n",
       "         [52, 53, 54],\n",
       "         [62, 63, 64]],\n",
       "\n",
       "        [[43, 44, 45],\n",
       "         [53, 54, 55],\n",
       "         [63, 64, 65]],\n",
       "\n",
       "        [[44, 45, 46],\n",
       "         [54, 55, 56],\n",
       "         [64, 65, 66]],\n",
       "\n",
       "        [[45, 46, 47],\n",
       "         [55, 56, 57],\n",
       "         [65, 66, 67]],\n",
       "\n",
       "        [[46, 47, 48],\n",
       "         [56, 57, 58],\n",
       "         [66, 67, 68]],\n",
       "\n",
       "        [[47, 48, 49],\n",
       "         [57, 58, 59],\n",
       "         [67, 68, 69]]],\n",
       "\n",
       "\n",
       "       [[[50, 51, 52],\n",
       "         [60, 61, 62],\n",
       "         [70, 71, 72]],\n",
       "\n",
       "        [[51, 52, 53],\n",
       "         [61, 62, 63],\n",
       "         [71, 72, 73]],\n",
       "\n",
       "        [[52, 53, 54],\n",
       "         [62, 63, 64],\n",
       "         [72, 73, 74]],\n",
       "\n",
       "        [[53, 54, 55],\n",
       "         [63, 64, 65],\n",
       "         [73, 74, 75]],\n",
       "\n",
       "        [[54, 55, 56],\n",
       "         [64, 65, 66],\n",
       "         [74, 75, 76]],\n",
       "\n",
       "        [[55, 56, 57],\n",
       "         [65, 66, 67],\n",
       "         [75, 76, 77]],\n",
       "\n",
       "        [[56, 57, 58],\n",
       "         [66, 67, 68],\n",
       "         [76, 77, 78]],\n",
       "\n",
       "        [[57, 58, 59],\n",
       "         [67, 68, 69],\n",
       "         [77, 78, 79]]],\n",
       "\n",
       "\n",
       "       [[[60, 61, 62],\n",
       "         [70, 71, 72],\n",
       "         [80, 81, 82]],\n",
       "\n",
       "        [[61, 62, 63],\n",
       "         [71, 72, 73],\n",
       "         [81, 82, 83]],\n",
       "\n",
       "        [[62, 63, 64],\n",
       "         [72, 73, 74],\n",
       "         [82, 83, 84]],\n",
       "\n",
       "        [[63, 64, 65],\n",
       "         [73, 74, 75],\n",
       "         [83, 84, 85]],\n",
       "\n",
       "        [[64, 65, 66],\n",
       "         [74, 75, 76],\n",
       "         [84, 85, 86]],\n",
       "\n",
       "        [[65, 66, 67],\n",
       "         [75, 76, 77],\n",
       "         [85, 86, 87]],\n",
       "\n",
       "        [[66, 67, 68],\n",
       "         [76, 77, 78],\n",
       "         [86, 87, 88]],\n",
       "\n",
       "        [[67, 68, 69],\n",
       "         [77, 78, 79],\n",
       "         [87, 88, 89]]],\n",
       "\n",
       "\n",
       "       [[[70, 71, 72],\n",
       "         [80, 81, 82],\n",
       "         [90, 91, 92]],\n",
       "\n",
       "        [[71, 72, 73],\n",
       "         [81, 82, 83],\n",
       "         [91, 92, 93]],\n",
       "\n",
       "        [[72, 73, 74],\n",
       "         [82, 83, 84],\n",
       "         [92, 93, 94]],\n",
       "\n",
       "        [[73, 74, 75],\n",
       "         [83, 84, 85],\n",
       "         [93, 94, 95]],\n",
       "\n",
       "        [[74, 75, 76],\n",
       "         [84, 85, 86],\n",
       "         [94, 95, 96]],\n",
       "\n",
       "        [[75, 76, 77],\n",
       "         [85, 86, 87],\n",
       "         [95, 96, 97]],\n",
       "\n",
       "        [[76, 77, 78],\n",
       "         [86, 87, 88],\n",
       "         [96, 97, 98]],\n",
       "\n",
       "        [[77, 78, 79],\n",
       "         [87, 88, 89],\n",
       "         [97, 98, 99]]]])"
      ]
     },
     "execution_count": 174,
     "metadata": {},
     "output_type": "execute_result"
    }
   ],
   "source": [
    "A = np.arange(0, 100).reshape(10, 10)\n",
    "A = np.lib.stride_tricks.sliding_window_view(A, (3, 3))\n",
    "A"
   ]
  },
  {
   "cell_type": "code",
   "execution_count": 175,
   "id": "cd4eb18e",
   "metadata": {},
   "outputs": [
    {
     "name": "stdout",
     "output_type": "stream",
     "text": [
      "# Author: Chris Barker\n",
      "\n",
      "Z = np.random.randint(0,5,(10,10))\n",
      "n = 3\n",
      "i = 1 + (Z.shape[0]-3)\n",
      "j = 1 + (Z.shape[1]-3)\n",
      "C = stride_tricks.as_strided(Z, shape=(i, j, n, n), strides=Z.strides + Z.strides)\n",
      "print(C)\n",
      "\n",
      "# Author: Jeff Luo (@Jeff1999)\n",
      "\n",
      "Z = np.random.randint(0,5,(10,10))\n",
      "print(sliding_window_view(Z, window_shape=(3, 3)))\n"
     ]
    }
   ],
   "source": [
    "answer(84)"
   ]
  },
  {
   "cell_type": "markdown",
   "id": "6870a477",
   "metadata": {},
   "source": [
    "#### 85. Create a 2D array subclass such that Z[i,j] == Z[j,i] (★★★)"
   ]
  },
  {
   "cell_type": "code",
   "execution_count": 176,
   "id": "86bcbbc7",
   "metadata": {},
   "outputs": [
    {
     "name": "stdout",
     "output_type": "stream",
     "text": [
      "hint: class method\n"
     ]
    }
   ],
   "source": [
    "hint(85)"
   ]
  },
  {
   "cell_type": "code",
   "execution_count": 177,
   "id": "05976907",
   "metadata": {},
   "outputs": [
    {
     "name": "stdout",
     "output_type": "stream",
     "text": [
      "# Author: Eric O. Lebigot\n",
      "# Note: only works for 2d array and value setting using indices\n",
      "\n",
      "class Symetric(np.ndarray):\n",
      "    def __setitem__(self, index, value):\n",
      "        i,j = index\n",
      "        super(Symetric, self).__setitem__((i,j), value)\n",
      "        super(Symetric, self).__setitem__((j,i), value)\n",
      "\n",
      "def symetric(Z):\n",
      "    return np.asarray(Z + Z.T - np.diag(Z.diagonal())).view(Symetric)\n",
      "\n",
      "S = symetric(np.random.randint(0,10,(5,5)))\n",
      "S[2,3] = 42\n",
      "print(S)\n"
     ]
    }
   ],
   "source": [
    "answer(85)"
   ]
  },
  {
   "cell_type": "code",
   "execution_count": 178,
   "id": "13de2582",
   "metadata": {},
   "outputs": [
    {
     "name": "stdout",
     "output_type": "stream",
     "text": [
      "[[ 0  1  2  3  4]\n",
      " [ 1  6  7  8  9]\n",
      " [ 2  7 12 13 14]\n",
      " [ 3  8 13 18 19]\n",
      " [ 4  9 14 19 24]]\n"
     ]
    }
   ],
   "source": [
    "class Symetric(np.ndarray):\n",
    "    # サブクラス(子クラス)で__setitem__をoverrideすると代入時の動作を変えれる\n",
    "    def __setitem__(self, index, value):\n",
    "        a = index\n",
    "        i, j = a[0], a[1]\n",
    "        super(Symetric, self).__setitem__((i, j), value)\n",
    "        super(Symetric, self).__setitem__((j, i), value)\n",
    "\n",
    "\n",
    "def symetric(Z):\n",
    "    A = np.triu(Z)\n",
    "    # 上三角を下三角にも反映\n",
    "    # np.diagは1次元を2次元に、2次元を1次元に\n",
    "    # A = A + A.T - np.diag(np.diagonal(A))\n",
    "    A = A + A.T - np.eye(A.shape[0], A.shape[1]) * A\n",
    "    A = A.astype(np.uint8)\n",
    "    return A.view(Symetric)\n",
    "\n",
    "\n",
    "\n",
    "A = np.arange(0, 25).reshape(5, 5)\n",
    "print(symetric(A))\n",
    "\n",
    "A = np.triu(A)\n",
    "# print(A, \"\\n\\n\", A.T)\n",
    "\n",
    "\n",
    "# S = symetric(A)\n",
    "# S[2, 3] = 13\n",
    "# print(S)\n"
   ]
  },
  {
   "cell_type": "markdown",
   "id": "502a6bb6",
   "metadata": {},
   "source": [
    "#### 86. Consider a set of p matrices with shape (n,n) and a set of p vectors with shape (n,1). How to compute the sum of of the p matrix products at once? (result has shape (n,1)) (★★★)"
   ]
  },
  {
   "cell_type": "code",
   "execution_count": 179,
   "id": "5f575c8e",
   "metadata": {},
   "outputs": [
    {
     "name": "stdout",
     "output_type": "stream",
     "text": [
      "[[4.11312594]\n",
      " [2.63860836]\n",
      " [2.70760911]\n",
      " [3.96597825]\n",
      " [3.01693167]]\n",
      "[[4.11312594]\n",
      " [2.63860836]\n",
      " [2.70760911]\n",
      " [3.96597825]\n",
      " [3.01693167]]\n"
     ]
    }
   ],
   "source": [
    "n = 5\n",
    "p = 3\n",
    "A = np.random.rand(p, n, n)\n",
    "v = np.random.rand(p, n, 1)\n",
    "\n",
    "C = np.matmul(A, v)\n",
    "C = np.sum(C, axis=0)\n",
    "print(C)\n",
    "\n",
    "# Aの\n",
    "S = np.tensordot(A, v, axes=[[0, 2], [0, 1]])\n",
    "print(S)\n"
   ]
  },
  {
   "cell_type": "code",
   "execution_count": 180,
   "id": "f500e9c8",
   "metadata": {},
   "outputs": [
    {
     "name": "stdout",
     "output_type": "stream",
     "text": [
      "# Author: Stefan van der Walt\n",
      "\n",
      "p, n = 10, 20\n",
      "M = np.ones((p,n,n))\n",
      "V = np.ones((p,n,1))\n",
      "S = np.tensordot(M, V, axes=[[0, 2], [0, 1]])\n",
      "print(S)\n",
      "\n",
      "# It works, because:\n",
      "# M is (p,n,n)\n",
      "# V is (p,n,1)\n",
      "# Thus, summing over the paired axes 0 and 0 (of M and V independently),\n",
      "# and 2 and 1, to remain with a (n,1) vector.\n"
     ]
    }
   ],
   "source": [
    "answer(86)"
   ]
  },
  {
   "cell_type": "markdown",
   "id": "b974e01e",
   "metadata": {},
   "source": [
    "#### 87. Consider a 16x16 array, how to get the block-sum (block size is 4x4)? (★★★)"
   ]
  },
  {
   "cell_type": "code",
   "execution_count": 181,
   "id": "6e691289",
   "metadata": {},
   "outputs": [
    {
     "name": "stdout",
     "output_type": "stream",
     "text": [
      "sum: \n",
      "\n",
      " [[ 408  472  536  600]\n",
      " [1432 1496 1560 1624]\n",
      " [2456 2520 2584 2648]\n",
      " [3480 3544 3608 3672]]\n"
     ]
    }
   ],
   "source": [
    "A = np.arange(0, 16*16).reshape(16, 16)\n",
    "B = np.lib.stride_tricks.sliding_window_view(A, (4, 4))\n",
    "B = B[::4, ::4]\n",
    "# print(B)\n",
    "B = np.sum(B, axis=(2, 3))\n",
    "print(\"sum: \\n\\n\", B)"
   ]
  },
  {
   "cell_type": "code",
   "execution_count": 182,
   "id": "a27c76b7",
   "metadata": {},
   "outputs": [
    {
     "name": "stdout",
     "output_type": "stream",
     "text": [
      "[[ 408  472  536  600]\n",
      " [1432 1496 1560 1624]\n",
      " [2456 2520 2584 2648]\n",
      " [3480 3544 3608 3672]]\n"
     ]
    }
   ],
   "source": [
    "Z = np.arange(0, 16*16).reshape(16, 16)\n",
    "k = 4\n",
    "\n",
    "windows = np.lib.stride_tricks.sliding_window_view(Z, (k, k))\n",
    "S = windows[::k, ::k, ...].sum(axis=(-2, -1))\n",
    "print(S)\n"
   ]
  },
  {
   "cell_type": "code",
   "execution_count": 183,
   "id": "ad9742be",
   "metadata": {},
   "outputs": [
    {
     "name": "stdout",
     "output_type": "stream",
     "text": [
      "# Author: Robert Kern\n",
      "\n",
      "Z = np.ones((16,16))\n",
      "k = 4\n",
      "S = np.add.reduceat(np.add.reduceat(Z, np.arange(0, Z.shape[0], k), axis=0),\n",
      "                                       np.arange(0, Z.shape[1], k), axis=1)\n",
      "print(S)\n",
      "\n",
      "# alternative solution:\n",
      "# Author: Sebastian Wallkötter (@FirefoxMetzger)\n",
      "\n",
      "Z = np.ones((16,16))\n",
      "k = 4\n",
      "\n",
      "windows = np.lib.stride_tricks.sliding_window_view(Z, (k, k))\n",
      "S = windows[::k, ::k, ...].sum(axis=(-2, -1))\n",
      "\n",
      "# Author: Jeff Luo (@Jeff1999)\n",
      "\n",
      "Z = np.ones((16, 16))\n",
      "k = 4\n",
      "print(sliding_window_view(Z, window_shape=(k, k))[::k, ::k].sum(axis=(-2, -1)))\n"
     ]
    }
   ],
   "source": [
    "answer(87)"
   ]
  },
  {
   "cell_type": "markdown",
   "id": "0b8c10c7",
   "metadata": {},
   "source": [
    "#### 88. How to implement the Game of Life using numpy arrays? (★★★)"
   ]
  },
  {
   "cell_type": "code",
   "execution_count": 184,
   "id": "c0c97046",
   "metadata": {},
   "outputs": [
    {
     "name": "stdout",
     "output_type": "stream",
     "text": [
      "[[0 0 1 1 1 0 1 1]\n",
      " [0 0 0 0 0 1 0 1]\n",
      " [1 0 0 0 1 1 1 0]\n",
      " [1 0 1 0 1 1 1 1]\n",
      " [1 1 0 0 0 0 0 0]\n",
      " [0 0 0 1 0 0 1 0]\n",
      " [1 0 1 0 1 0 0 0]\n",
      " [1 0 1 1 0 1 0 1]]\n"
     ]
    }
   ],
   "source": [
    "A = np.random.randint(0, 2, [8, 8])\n",
    "print(A)"
   ]
  },
  {
   "cell_type": "code",
   "execution_count": null,
   "id": "cd02f7f3",
   "metadata": {},
   "outputs": [
    {
     "name": "stdout",
     "output_type": "stream",
     "text": [
      "\n",
      "\n",
      "\n",
      "new array: \n",
      " [[0 0 0 0 0 0 0 0]\n",
      " [0 0 0 0 0 0 0 0]\n",
      " [0 0 0 0 0 0 0 0]\n",
      " [0 0 0 0 0 0 0 0]\n",
      " [0 0 0 0 0 0 0 0]\n",
      " [0 0 0 0 0 0 0 0]\n",
      " [0 0 0 1 1 0 0 0]\n",
      " [0 0 0 1 1 0 0 0]]\n"
     ]
    }
   ],
   "source": [
    "def step_better(array):\n",
    "    \n",
    "    window_step = np.lib.stride_tricks.sliding_window_view(np.pad(array, pad_width=1), (3, 3))\n",
    "    kernal = np.array([[1, 1, 1],\n",
    "                       [1, 0, 1],\n",
    "                       [1, 1, 1]])\n",
    "    alive = np.sum(window_step * kernal, axis=(2, 3))\n",
    "    new_array = ((array == 1) & ((alive == 2) | (alive == 3))) | ((array == 0) & (alive == 3))\n",
    "    return new_array.astype(np.uint8)\n",
    "                \n",
    "    \n",
    "\n",
    "\n",
    "# 100万回\n",
    "# 1 million\n",
    "new_array = step_better(A)\n",
    "for i in range(999,999):\n",
    "    new_array = step_better(new_array)\n",
    "    # if not new_array.any():\n",
    "    #     print(i)\n",
    "    #     break\n",
    "\n",
    "\n",
    "print(\"\\n\\n\\nnew array: \\n\", new_array)\n",
    "\n"
   ]
  },
  {
   "cell_type": "code",
   "execution_count": null,
   "id": "67a1808f",
   "metadata": {},
   "outputs": [
    {
     "name": "stdout",
     "output_type": "stream",
     "text": [
      "\n",
      "\n",
      "\n",
      "new array: \n",
      " [[0 0 0 0 0 0 0 0]\n",
      " [0 0 0 0 0 0 0 0]\n",
      " [0 0 0 0 0 0 0 0]\n",
      " [0 0 0 0 0 0 0 0]\n",
      " [0 0 0 0 0 0 0 0]\n",
      " [0 0 0 0 0 0 0 0]\n",
      " [0 0 0 1 1 0 0 0]\n",
      " [0 0 0 1 1 0 0 0]]\n"
     ]
    }
   ],
   "source": [
    "def dead_or_alive(array, a, b):\n",
    "    alive = 0\n",
    "    for i in range(-1, 2):\n",
    "        for j in range(-1, 2):\n",
    "\n",
    "            if (a + i < 0 or b + j < 0 or\n",
    "                a + i >= array.shape[0] or \n",
    "                b + j >= array.shape[1]\n",
    "            ):\n",
    "                continue\n",
    "            elif i == 0 and j == 0:\n",
    "                continue\n",
    "\n",
    "            elif array[a + i, b + j] == 1:\n",
    "                alive += 1\n",
    "    return alive\n",
    "\n",
    "\n",
    "\n",
    "def step(array):\n",
    "    new_array = array.copy()\n",
    "    for i in range(array.shape[0]):\n",
    "        for j in range(array.shape[1]):\n",
    "            alive = dead_or_alive(array, i, j)\n",
    "\n",
    "            if array[i, j] == 1:\n",
    "\n",
    "                if alive == 2 or alive == 3:\n",
    "                    new_array[i, j] = 1\n",
    "                else:\n",
    "                    new_array[i, j] = 0\n",
    "\n",
    "            else:\n",
    "\n",
    "                if alive == 3:\n",
    "                    new_array[i, j] = 1\n",
    "                else:\n",
    "                    new_array[i, j] = 0\n",
    "    return new_array\n",
    "                \n",
    "    \n",
    "new_array = step(A)\n",
    "for _ in range(999,999):\n",
    "    new_array = step(new_array)\n",
    "\n",
    "print(\"\\n\\n\\nnew array: \\n\", new_array)\n",
    "\n"
   ]
  },
  {
   "cell_type": "markdown",
   "id": "e3f82541",
   "metadata": {},
   "source": [
    "#### 89. How to get the n largest values of an array (★★★)"
   ]
  },
  {
   "cell_type": "code",
   "execution_count": null,
   "id": "4fbd0146",
   "metadata": {},
   "outputs": [],
   "source": []
  },
  {
   "cell_type": "markdown",
   "id": "a7539391",
   "metadata": {},
   "source": [
    "#### 90. Given an arbitrary number of vectors, build the cartesian product (every combination of every item) (★★★)"
   ]
  },
  {
   "cell_type": "code",
   "execution_count": null,
   "id": "c6981e30",
   "metadata": {},
   "outputs": [],
   "source": []
  },
  {
   "cell_type": "markdown",
   "id": "faf28eb3",
   "metadata": {},
   "source": [
    "#### 91. How to create a record array from a regular array? (★★★)"
   ]
  },
  {
   "cell_type": "code",
   "execution_count": null,
   "id": "bf3c36e8",
   "metadata": {},
   "outputs": [],
   "source": []
  },
  {
   "cell_type": "markdown",
   "id": "bd45d52b",
   "metadata": {},
   "source": [
    "#### 92. Consider a large vector Z, compute Z to the power of 3 using 3 different methods (★★★)"
   ]
  },
  {
   "cell_type": "code",
   "execution_count": null,
   "id": "57add736",
   "metadata": {},
   "outputs": [],
   "source": []
  },
  {
   "cell_type": "markdown",
   "id": "6403bb1e",
   "metadata": {},
   "source": [
    "#### 93. Consider two arrays A and B of shape (8,3) and (2,2). How to find rows of A that contain elements of each row of B regardless of the order of the elements in B? (★★★)"
   ]
  },
  {
   "cell_type": "code",
   "execution_count": null,
   "id": "5e99e376",
   "metadata": {},
   "outputs": [],
   "source": []
  },
  {
   "cell_type": "markdown",
   "id": "2b1a4d2d",
   "metadata": {},
   "source": [
    "#### 94. Considering a 10x3 matrix, extract rows with unequal values (e.g. [2,2,3]) (★★★)"
   ]
  },
  {
   "cell_type": "code",
   "execution_count": null,
   "id": "9d12a8cd",
   "metadata": {},
   "outputs": [],
   "source": []
  },
  {
   "cell_type": "markdown",
   "id": "523fbb20",
   "metadata": {},
   "source": [
    "#### 95. Convert a vector of ints into a matrix binary representation (★★★)"
   ]
  },
  {
   "cell_type": "code",
   "execution_count": null,
   "id": "b17c2ce8",
   "metadata": {},
   "outputs": [],
   "source": []
  },
  {
   "cell_type": "markdown",
   "id": "3eb5ef69",
   "metadata": {},
   "source": [
    "#### 96. Given a two dimensional array, how to extract unique rows? (★★★)"
   ]
  },
  {
   "cell_type": "code",
   "execution_count": null,
   "id": "092c2c20",
   "metadata": {},
   "outputs": [],
   "source": []
  },
  {
   "cell_type": "markdown",
   "id": "c0e13fe1",
   "metadata": {},
   "source": [
    "#### 97. Considering 2 vectors A & B, write the einsum equivalent of inner, outer, sum, and mul function (★★★)"
   ]
  },
  {
   "cell_type": "code",
   "execution_count": null,
   "id": "b7b697cd",
   "metadata": {},
   "outputs": [],
   "source": []
  },
  {
   "cell_type": "markdown",
   "id": "cc071dbe",
   "metadata": {},
   "source": [
    "#### 98. Considering a path described by two vectors (X,Y), how to sample it using equidistant samples (★★★)?"
   ]
  },
  {
   "cell_type": "code",
   "execution_count": null,
   "id": "fec9fe86",
   "metadata": {},
   "outputs": [],
   "source": []
  },
  {
   "cell_type": "markdown",
   "id": "972f9dc3",
   "metadata": {},
   "source": [
    "#### 99. Given an integer n and a 2D array X, select from X the rows which can be interpreted as draws from a multinomial distribution with n degrees, i.e., the rows which only contain integers and which sum to n. (★★★)"
   ]
  },
  {
   "cell_type": "code",
   "execution_count": null,
   "id": "5b284c86",
   "metadata": {},
   "outputs": [],
   "source": []
  },
  {
   "cell_type": "markdown",
   "id": "afad9d6e",
   "metadata": {},
   "source": [
    "#### 100. Compute bootstrapped 95% confidence intervals for the mean of a 1D array X (i.e., resample the elements of an array with replacement N times, compute the mean of each sample, and then compute percentiles over the means). (★★★)"
   ]
  },
  {
   "cell_type": "code",
   "execution_count": null,
   "id": "f1885c64",
   "metadata": {},
   "outputs": [],
   "source": []
  }
 ],
 "metadata": {
  "kernelspec": {
   "display_name": "Python 3",
   "language": "python",
   "name": "python3"
  },
  "language_info": {
   "codemirror_mode": {
    "name": "ipython",
    "version": 3
   },
   "file_extension": ".py",
   "mimetype": "text/x-python",
   "name": "python",
   "nbconvert_exporter": "python",
   "pygments_lexer": "ipython3",
   "version": "3.12.9"
  }
 },
 "nbformat": 4,
 "nbformat_minor": 5
}
