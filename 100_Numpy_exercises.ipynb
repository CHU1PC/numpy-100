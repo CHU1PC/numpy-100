{
 "cells": [
  {
   "cell_type": "markdown",
   "id": "52249554",
   "metadata": {},
   "source": [
    "# 100 numpy exercises\n",
    "\n",
    "This is a collection of exercises that have been collected in the numpy mailing list, on stack overflow\n",
    "and in the numpy documentation. The goal of this collection is to offer a quick reference for both old\n",
    "and new users but also to provide a set of exercises for those who teach.\n",
    "\n",
    "\n",
    "If you find an error or think you've a better way to solve some of them, feel\n",
    "free to open an issue at <https://github.com/rougier/numpy-100>."
   ]
  },
  {
   "cell_type": "markdown",
   "id": "9f0e56c3",
   "metadata": {},
   "source": [
    "File automatically generated. See the documentation to update questions/answers/hints programmatically."
   ]
  },
  {
   "cell_type": "markdown",
   "id": "04b078a1",
   "metadata": {},
   "source": [
    "Run the `initialize.py` module, then for each question you can query the\n",
    "answer or an hint with `hint(n)` or `answer(n)` for `n` question number."
   ]
  },
  {
   "cell_type": "code",
   "execution_count": 2,
   "id": "63ebbf77",
   "metadata": {},
   "outputs": [],
   "source": [
    "%run initialise.py"
   ]
  },
  {
   "cell_type": "markdown",
   "id": "e1672806",
   "metadata": {},
   "source": [
    "#### 1. Import the numpy package under the name `np` (★☆☆)"
   ]
  },
  {
   "cell_type": "code",
   "execution_count": 3,
   "id": "c39a5917",
   "metadata": {},
   "outputs": [],
   "source": [
    "import numpy as np"
   ]
  },
  {
   "cell_type": "markdown",
   "id": "1d2a0271",
   "metadata": {},
   "source": [
    "#### 2. Print the numpy version and the configuration (★☆☆)"
   ]
  },
  {
   "cell_type": "code",
   "execution_count": 4,
   "id": "d4160594",
   "metadata": {},
   "outputs": [
    {
     "name": "stdout",
     "output_type": "stream",
     "text": [
      "1.26.4\n"
     ]
    }
   ],
   "source": [
    "print(np.__version__)"
   ]
  },
  {
   "cell_type": "markdown",
   "id": "4490d971",
   "metadata": {},
   "source": [
    "#### 3. Create a null vector of size 10 (★☆☆)"
   ]
  },
  {
   "cell_type": "code",
   "execution_count": 5,
   "id": "9b383fcc",
   "metadata": {},
   "outputs": [],
   "source": [
    "a = np.zeros(10)"
   ]
  },
  {
   "cell_type": "markdown",
   "id": "4a217c03",
   "metadata": {},
   "source": [
    "#### 4. How to find the memory size of any array (★☆☆)"
   ]
  },
  {
   "cell_type": "code",
   "execution_count": 6,
   "id": "7f7c6497",
   "metadata": {},
   "outputs": [
    {
     "name": "stdout",
     "output_type": "stream",
     "text": [
      "Z = np.zeros((10,10))\n",
      "print(\"%d bytes\" % (Z.size * Z.itemsize))\n"
     ]
    }
   ],
   "source": [
    "a.nbytes\n",
    "answer(4)"
   ]
  },
  {
   "cell_type": "markdown",
   "id": "4a412447",
   "metadata": {},
   "source": [
    "#### 5. How to get the documentation of the numpy add function from the command line? (★☆☆)"
   ]
  },
  {
   "cell_type": "code",
   "execution_count": 7,
   "id": "9b19b55d",
   "metadata": {},
   "outputs": [
    {
     "name": "stdout",
     "output_type": "stream",
     "text": [
      "%run `python -c \"import numpy; numpy.info(numpy.add)\"`\n"
     ]
    }
   ],
   "source": [
    "# help(np.add)\n",
    "answer(5)"
   ]
  },
  {
   "cell_type": "markdown",
   "id": "8e890e32",
   "metadata": {},
   "source": [
    "#### 6. Create a null vector of size 10 but the fifth value which is 1 (★☆☆)"
   ]
  },
  {
   "cell_type": "code",
   "execution_count": 8,
   "id": "032ba316",
   "metadata": {},
   "outputs": [
    {
     "data": {
      "text/plain": [
       "array([0., 0., 0., 0., 1., 0., 0., 0., 0., 0.])"
      ]
     },
     "execution_count": 8,
     "metadata": {},
     "output_type": "execute_result"
    }
   ],
   "source": [
    "a = np.zeros(10)\n",
    "a[4] = 1\n",
    "a"
   ]
  },
  {
   "cell_type": "code",
   "execution_count": 9,
   "id": "52ba2ada",
   "metadata": {},
   "outputs": [
    {
     "name": "stdout",
     "output_type": "stream",
     "text": [
      "Z = np.zeros(10)\n",
      "Z[4] = 1\n",
      "print(Z)\n"
     ]
    }
   ],
   "source": [
    "answer(6)"
   ]
  },
  {
   "cell_type": "markdown",
   "id": "36562b7f",
   "metadata": {},
   "source": [
    "#### 7. Create a vector with values ranging from 10 to 49 (★☆☆)"
   ]
  },
  {
   "cell_type": "code",
   "execution_count": 10,
   "id": "2f1ae242",
   "metadata": {},
   "outputs": [
    {
     "data": {
      "text/plain": [
       "array([17, 33, 33, 39, 11, 35, 36, 18, 14, 19])"
      ]
     },
     "execution_count": 10,
     "metadata": {},
     "output_type": "execute_result"
    }
   ],
   "source": [
    "a = np.random.randint(10, 50, 10)\n",
    "a\n"
   ]
  },
  {
   "cell_type": "code",
   "execution_count": 11,
   "id": "db6290a8",
   "metadata": {},
   "outputs": [
    {
     "name": "stdout",
     "output_type": "stream",
     "text": [
      "Z = np.arange(10,50)\n",
      "print(Z)\n"
     ]
    }
   ],
   "source": [
    "answer(7)"
   ]
  },
  {
   "cell_type": "markdown",
   "id": "d7d0e7ff",
   "metadata": {},
   "source": [
    "#### 8. Reverse a vector (first element becomes last) (★☆☆)"
   ]
  },
  {
   "cell_type": "code",
   "execution_count": 12,
   "id": "5a07c5c1",
   "metadata": {},
   "outputs": [
    {
     "data": {
      "text/plain": [
       "array([19, 14, 18, 36, 35, 11, 39, 33, 33, 17])"
      ]
     },
     "execution_count": 12,
     "metadata": {},
     "output_type": "execute_result"
    }
   ],
   "source": [
    "a[::-1]"
   ]
  },
  {
   "cell_type": "code",
   "execution_count": 13,
   "id": "7a27a04c",
   "metadata": {},
   "outputs": [
    {
     "name": "stdout",
     "output_type": "stream",
     "text": [
      "Z = np.arange(50)\n",
      "Z = Z[::-1]\n",
      "print(Z)\n"
     ]
    }
   ],
   "source": [
    "answer(8)"
   ]
  },
  {
   "cell_type": "markdown",
   "id": "1fb509ab",
   "metadata": {},
   "source": [
    "#### 9. Create a 3x3 matrix with values ranging from 0 to 8 (★☆☆)"
   ]
  },
  {
   "cell_type": "code",
   "execution_count": 14,
   "id": "b4702eb8",
   "metadata": {},
   "outputs": [
    {
     "data": {
      "text/plain": [
       "array([[8, 2, 5],\n",
       "       [8, 1, 6],\n",
       "       [6, 5, 4]])"
      ]
     },
     "execution_count": 14,
     "metadata": {},
     "output_type": "execute_result"
    }
   ],
   "source": [
    "a = np.random.randint(0, 9, 9).reshape(3, 3)\n",
    "a"
   ]
  },
  {
   "cell_type": "code",
   "execution_count": 15,
   "id": "bfc9ce19",
   "metadata": {},
   "outputs": [
    {
     "name": "stdout",
     "output_type": "stream",
     "text": [
      "Z = np.arange(9).reshape(3, 3)\n",
      "print(Z)\n"
     ]
    }
   ],
   "source": [
    "answer(9)"
   ]
  },
  {
   "cell_type": "markdown",
   "id": "0d0120c4",
   "metadata": {},
   "source": [
    "#### 10. Find indices of non-zero elements from [1,2,0,0,4,0] (★☆☆)"
   ]
  },
  {
   "cell_type": "code",
   "execution_count": 16,
   "id": "ead69303",
   "metadata": {},
   "outputs": [
    {
     "data": {
      "text/plain": [
       "(array([2, 3, 5], dtype=int64),)"
      ]
     },
     "execution_count": 16,
     "metadata": {},
     "output_type": "execute_result"
    }
   ],
   "source": [
    "a = np.array([1, 2, 0, 0, 4, 0])\n",
    "a = np.where(a == 0)\n",
    "a"
   ]
  },
  {
   "cell_type": "markdown",
   "id": "c001c117",
   "metadata": {},
   "source": [
    "#### 11. Create a 3x3 identity matrix (★☆☆)"
   ]
  },
  {
   "cell_type": "code",
   "execution_count": 17,
   "id": "e7f9417c",
   "metadata": {},
   "outputs": [
    {
     "data": {
      "text/plain": [
       "array([[1., 0., 0.],\n",
       "       [0., 1., 0.],\n",
       "       [0., 0., 1.]])"
      ]
     },
     "execution_count": 17,
     "metadata": {},
     "output_type": "execute_result"
    }
   ],
   "source": [
    "a = np.eye(3)\n",
    "a"
   ]
  },
  {
   "cell_type": "markdown",
   "id": "5f75e7a8",
   "metadata": {},
   "source": [
    "#### 12. Create a 3x3x3 array with random values (★☆☆)"
   ]
  },
  {
   "cell_type": "code",
   "execution_count": 18,
   "id": "ec3c59bb",
   "metadata": {},
   "outputs": [
    {
     "data": {
      "text/plain": [
       "array([[[0.57877444, 0.35463001, 0.61294869],\n",
       "        [0.36166685, 0.44043002, 0.08255415],\n",
       "        [0.84502697, 0.2049195 , 0.92042173]],\n",
       "\n",
       "       [[0.87847905, 0.9642972 , 0.79762479],\n",
       "        [0.20266408, 0.52700992, 0.43551034],\n",
       "        [0.32240374, 0.35447026, 0.23100314]],\n",
       "\n",
       "       [[0.99230204, 0.08835894, 0.42732924],\n",
       "        [0.75121061, 0.02621785, 0.78419463],\n",
       "        [0.01145151, 0.43408476, 0.88851372]]])"
      ]
     },
     "execution_count": 18,
     "metadata": {},
     "output_type": "execute_result"
    }
   ],
   "source": [
    "np.random.random([3, 3, 3])"
   ]
  },
  {
   "cell_type": "code",
   "execution_count": 19,
   "id": "35f678ae",
   "metadata": {},
   "outputs": [
    {
     "name": "stdout",
     "output_type": "stream",
     "text": [
      "Z = np.random.random((3,3,3))\n",
      "print(Z)\n"
     ]
    }
   ],
   "source": [
    "answer(12)"
   ]
  },
  {
   "cell_type": "markdown",
   "id": "7f012f49",
   "metadata": {},
   "source": [
    "#### 13. Create a 10x10 array with random values and find the minimum and maximum values (★☆☆)"
   ]
  },
  {
   "cell_type": "code",
   "execution_count": 20,
   "id": "8247cae0",
   "metadata": {},
   "outputs": [
    {
     "name": "stdout",
     "output_type": "stream",
     "text": [
      "0.014457339061302754 0.9939396684132791\n"
     ]
    }
   ],
   "source": [
    "a = np.random.random([10, 10])\n",
    "print(a.min(), a.max())"
   ]
  },
  {
   "cell_type": "code",
   "execution_count": 21,
   "id": "289c042a",
   "metadata": {},
   "outputs": [
    {
     "name": "stdout",
     "output_type": "stream",
     "text": [
      "Z = np.random.random((10,10))\n",
      "Zmin, Zmax = Z.min(), Z.max()\n",
      "print(Zmin, Zmax)\n"
     ]
    }
   ],
   "source": [
    "answer(13)"
   ]
  },
  {
   "cell_type": "markdown",
   "id": "7d976fd0",
   "metadata": {},
   "source": [
    "#### 14. Create a random vector of size 30 and find the mean value (★☆☆)"
   ]
  },
  {
   "cell_type": "code",
   "execution_count": 22,
   "id": "1d5c77fd",
   "metadata": {},
   "outputs": [
    {
     "name": "stdout",
     "output_type": "stream",
     "text": [
      "0.49344355206179785\n"
     ]
    }
   ],
   "source": [
    "a = np.random.random(30).mean()\n",
    "print(a)"
   ]
  },
  {
   "cell_type": "code",
   "execution_count": 23,
   "id": "6bb2fcda",
   "metadata": {},
   "outputs": [
    {
     "name": "stdout",
     "output_type": "stream",
     "text": [
      "Z = np.random.random(30)\n",
      "m = Z.mean()\n",
      "print(m)\n"
     ]
    }
   ],
   "source": [
    "answer(14)"
   ]
  },
  {
   "cell_type": "markdown",
   "id": "c5266946",
   "metadata": {},
   "source": [
    "#### 15. Create a 2d array with 1 on the border and 0 inside (★☆☆)"
   ]
  },
  {
   "cell_type": "code",
   "execution_count": 24,
   "id": "140eff80",
   "metadata": {},
   "outputs": [
    {
     "data": {
      "text/plain": [
       "array([[1., 1., 1., 1.],\n",
       "       [1., 0., 0., 1.],\n",
       "       [1., 0., 0., 1.],\n",
       "       [1., 1., 1., 1.]])"
      ]
     },
     "execution_count": 24,
     "metadata": {},
     "output_type": "execute_result"
    }
   ],
   "source": [
    "a = np.ones([4, 4])\n",
    "a[1:-1, 1:-1] = 0\n",
    "a"
   ]
  },
  {
   "cell_type": "code",
   "execution_count": 25,
   "id": "9840d217",
   "metadata": {},
   "outputs": [
    {
     "name": "stdout",
     "output_type": "stream",
     "text": [
      "Z = np.ones((10,10))\n",
      "Z[1:-1,1:-1] = 0\n",
      "print(Z)\n"
     ]
    }
   ],
   "source": [
    "answer(15)"
   ]
  },
  {
   "cell_type": "markdown",
   "id": "2dd11b32",
   "metadata": {},
   "source": [
    "#### 16. How to add a border (filled with 0's) around an existing array? (★☆☆)"
   ]
  },
  {
   "cell_type": "code",
   "execution_count": 26,
   "id": "ab1d50a8",
   "metadata": {},
   "outputs": [
    {
     "data": {
      "text/plain": [
       "array([[0., 0., 0., 0., 0.],\n",
       "       [0., 1., 1., 1., 0.],\n",
       "       [0., 1., 1., 1., 0.],\n",
       "       [0., 1., 1., 1., 0.],\n",
       "       [0., 0., 0., 0., 0.]])"
      ]
     },
     "execution_count": 26,
     "metadata": {},
     "output_type": "execute_result"
    }
   ],
   "source": [
    "a = np.ones([3, 3])\n",
    "a = np.pad(a, pad_width=1, mode=\"constant\")  # padding\n",
    "a"
   ]
  },
  {
   "cell_type": "code",
   "execution_count": 27,
   "id": "73e67756",
   "metadata": {},
   "outputs": [
    {
     "name": "stdout",
     "output_type": "stream",
     "text": [
      "Z = np.ones((5,5))\n",
      "Z = np.pad(Z, pad_width=1, mode='constant', constant_values=0)\n",
      "print(Z)\n",
      "\n",
      "# Using fancy indexing\n",
      "Z[:, [0, -1]] = 0\n",
      "Z[[0, -1], :] = 0\n",
      "print(Z)\n"
     ]
    }
   ],
   "source": [
    "answer(16)"
   ]
  },
  {
   "cell_type": "markdown",
   "id": "a7c39246",
   "metadata": {},
   "source": [
    "#### 17. What is the result of the following expression? (★☆☆)\n",
    "```python\n",
    "0 * np.nan\n",
    "np.nan == np.nan\n",
    "np.inf > np.nan\n",
    "np.nan - np.nan\n",
    "np.nan in set([np.nan])\n",
    "0.3 == 3 * 0.1\n",
    "```"
   ]
  },
  {
   "cell_type": "code",
   "execution_count": 28,
   "id": "3a3964cf",
   "metadata": {},
   "outputs": [
    {
     "data": {
      "text/plain": [
       "False"
      ]
     },
     "execution_count": 28,
     "metadata": {},
     "output_type": "execute_result"
    }
   ],
   "source": [
    "0.3 == 3 * 0.1"
   ]
  },
  {
   "cell_type": "code",
   "execution_count": 29,
   "id": "d960e10f",
   "metadata": {},
   "outputs": [
    {
     "name": "stdout",
     "output_type": "stream",
     "text": [
      "nan\n",
      "False\n",
      "False\n",
      "nan\n",
      "True\n",
      "False\n"
     ]
    }
   ],
   "source": [
    "print(0 * np.nan)\n",
    "print(np.nan == np.nan)\n",
    "print(np.inf > np.nan)\n",
    "print(np.nan - np.nan)\n",
    "print(np.nan in set([np.nan]))\n",
    "print(0.3 == 3 * 0.1)"
   ]
  },
  {
   "cell_type": "code",
   "execution_count": 30,
   "id": "848ac6f0",
   "metadata": {},
   "outputs": [
    {
     "name": "stdout",
     "output_type": "stream",
     "text": [
      "print(0 * np.nan)\n",
      "print(np.nan == np.nan)\n",
      "print(np.inf > np.nan)\n",
      "print(np.nan - np.nan)\n",
      "print(np.nan in set([np.nan]))\n",
      "print(0.3 == 3 * 0.1)\n"
     ]
    }
   ],
   "source": [
    "answer(17)"
   ]
  },
  {
   "cell_type": "markdown",
   "id": "757aff7a",
   "metadata": {},
   "source": [
    "#### 18. Create a 5x5 matrix with values 1,2,3,4 just below the diagonal (★☆☆)"
   ]
  },
  {
   "cell_type": "code",
   "execution_count": 31,
   "id": "fc9309c9",
   "metadata": {},
   "outputs": [
    {
     "data": {
      "text/plain": [
       "array([[1, 0, 0, 0],\n",
       "       [0, 2, 0, 0],\n",
       "       [0, 0, 3, 0],\n",
       "       [0, 0, 0, 4]])"
      ]
     },
     "execution_count": 31,
     "metadata": {},
     "output_type": "execute_result"
    }
   ],
   "source": [
    "np.diag([1, 2, 3, 4], k=0)"
   ]
  },
  {
   "cell_type": "markdown",
   "id": "ae259b07",
   "metadata": {},
   "source": [
    "#### 19. Create a 8x8 matrix and fill it with a checkerboard pattern (★☆☆)"
   ]
  },
  {
   "cell_type": "code",
   "execution_count": 32,
   "id": "ceccc277",
   "metadata": {},
   "outputs": [
    {
     "data": {
      "text/plain": [
       "array([[1., 0., 1., 0., 1., 0., 1., 0.],\n",
       "       [0., 1., 0., 1., 0., 1., 0., 1.],\n",
       "       [1., 0., 1., 0., 1., 0., 1., 0.],\n",
       "       [0., 1., 0., 1., 0., 1., 0., 1.],\n",
       "       [1., 0., 1., 0., 1., 0., 1., 0.],\n",
       "       [0., 1., 0., 1., 0., 1., 0., 1.],\n",
       "       [1., 0., 1., 0., 1., 0., 1., 0.],\n",
       "       [0., 1., 0., 1., 0., 1., 0., 1.]])"
      ]
     },
     "execution_count": 32,
     "metadata": {},
     "output_type": "execute_result"
    }
   ],
   "source": [
    "a = np.zeros([8, 8])\n",
    "a[::2, ::2] = 1\n",
    "a[1::2, 1::2] = 1\n",
    "a"
   ]
  },
  {
   "cell_type": "markdown",
   "id": "9f5d548e",
   "metadata": {},
   "source": [
    "#### 20. Consider a (6,7,8) shape array, what is the index (x,y,z) of the 100th element? (★☆☆)"
   ]
  },
  {
   "cell_type": "code",
   "execution_count": 33,
   "id": "ebf6fa3c",
   "metadata": {},
   "outputs": [
    {
     "data": {
      "text/plain": [
       "99"
      ]
     },
     "execution_count": 33,
     "metadata": {},
     "output_type": "execute_result"
    }
   ],
   "source": [
    "a = np.array(np.arange(336).reshape(6, 7, 8))\n",
    "a[1, 5, 3]"
   ]
  },
  {
   "cell_type": "code",
   "execution_count": 34,
   "id": "e87dc815",
   "metadata": {},
   "outputs": [
    {
     "name": "stdout",
     "output_type": "stream",
     "text": [
      "(1, 5, 3)\n"
     ]
    }
   ],
   "source": [
    "print(np.unravel_index(99,(6,7,8)))  # 1次元のインデックスを多次元インデックスに変換してくれる"
   ]
  },
  {
   "cell_type": "code",
   "execution_count": 35,
   "id": "1d6f5165",
   "metadata": {},
   "outputs": [
    {
     "name": "stdout",
     "output_type": "stream",
     "text": [
      "print(np.unravel_index(99,(6,7,8)))\n"
     ]
    }
   ],
   "source": [
    "answer(20)"
   ]
  },
  {
   "cell_type": "markdown",
   "id": "e1fe826b",
   "metadata": {},
   "source": [
    "#### 21. Create a checkerboard 8x8 matrix using the tile function (★☆☆)"
   ]
  },
  {
   "cell_type": "code",
   "execution_count": 36,
   "id": "7cbd262a",
   "metadata": {},
   "outputs": [
    {
     "data": {
      "text/plain": [
       "array([[0, 1, 0, 1, 0, 1, 0, 1],\n",
       "       [1, 0, 1, 0, 1, 0, 1, 0],\n",
       "       [0, 1, 0, 1, 0, 1, 0, 1],\n",
       "       [1, 0, 1, 0, 1, 0, 1, 0],\n",
       "       [0, 1, 0, 1, 0, 1, 0, 1],\n",
       "       [1, 0, 1, 0, 1, 0, 1, 0],\n",
       "       [0, 1, 0, 1, 0, 1, 0, 1],\n",
       "       [1, 0, 1, 0, 1, 0, 1, 0]])"
      ]
     },
     "execution_count": 36,
     "metadata": {},
     "output_type": "execute_result"
    }
   ],
   "source": [
    "a = [[0, 1], [1, 0]]\n",
    "b = np.tile(a, (4, 4))\n",
    "b"
   ]
  },
  {
   "cell_type": "code",
   "execution_count": 37,
   "id": "56b2b1d5",
   "metadata": {},
   "outputs": [
    {
     "name": "stdout",
     "output_type": "stream",
     "text": [
      "Z = np.tile( np.array([[0,1],[1,0]]), (4,4))\n",
      "print(Z)\n"
     ]
    }
   ],
   "source": [
    "answer(21)"
   ]
  },
  {
   "cell_type": "markdown",
   "id": "3cc99a9e",
   "metadata": {},
   "source": [
    "#### 22. Normalize a 5x5 random matrix (★☆☆)"
   ]
  },
  {
   "cell_type": "code",
   "execution_count": 38,
   "id": "96ec3796",
   "metadata": {},
   "outputs": [
    {
     "data": {
      "text/plain": [
       "array([[0.19895754, 0.81399299, 0.45759227, 0.16097013, 0.91323762],\n",
       "       [0.17104304, 0.59279423, 0.06069532, 0.98860049, 0.17111443],\n",
       "       [0.39854273, 0.59004097, 1.        , 0.14899289, 0.7356448 ],\n",
       "       [0.2477074 , 0.93460239, 0.55931621, 0.24934014, 0.1855291 ],\n",
       "       [0.31807513, 0.67349641, 0.87042532, 0.        , 0.94663951]])"
      ]
     },
     "execution_count": 38,
     "metadata": {},
     "output_type": "execute_result"
    }
   ],
   "source": [
    "a = np.array(np.random.random((5, 5)))\n",
    "a_min = a.min()\n",
    "a_max = a.max()\n",
    "a = (a - a_min) / (a_max - a_min)\n",
    "a\n"
   ]
  },
  {
   "cell_type": "markdown",
   "id": "3cefb279",
   "metadata": {},
   "source": [
    "#### 23. Create a custom dtype that describes a color as four unsigned bytes (RGBA) (★☆☆)"
   ]
  },
  {
   "cell_type": "code",
   "execution_count": 39,
   "id": "06231cc7",
   "metadata": {},
   "outputs": [],
   "source": [
    "color = np.dtype([(\"r\", np.ubyte),\n",
    "                 (\"g\", np.ubyte),\n",
    "                 (\"b\", np.ubyte),\n",
    "                 (\"a\", np.ubyte)])"
   ]
  },
  {
   "cell_type": "code",
   "execution_count": 40,
   "id": "3701a796",
   "metadata": {},
   "outputs": [
    {
     "name": "stdout",
     "output_type": "stream",
     "text": [
      "color = np.dtype([(\"r\", np.ubyte),\n",
      "                  (\"g\", np.ubyte),\n",
      "                  (\"b\", np.ubyte),\n",
      "                  (\"a\", np.ubyte)])\n"
     ]
    }
   ],
   "source": [
    "answer(23)"
   ]
  },
  {
   "cell_type": "markdown",
   "id": "04177bf2",
   "metadata": {},
   "source": [
    "#### 24. Multiply a 5x3 matrix by a 3x2 matrix (real matrix product) (★☆☆)"
   ]
  },
  {
   "cell_type": "code",
   "execution_count": 41,
   "id": "25c78847",
   "metadata": {},
   "outputs": [
    {
     "data": {
      "text/plain": [
       "array([[0.79798134, 0.93271472],\n",
       "       [0.8030728 , 0.5512972 ],\n",
       "       [0.66857071, 0.76420499],\n",
       "       [0.82695298, 0.76815388],\n",
       "       [0.71552017, 0.50530986]])"
      ]
     },
     "execution_count": 41,
     "metadata": {},
     "output_type": "execute_result"
    }
   ],
   "source": [
    "a = np.array(np.random.random([5, 3]))\n",
    "b = np.array(np.random.random([3, 2]))\n",
    "np.matmul(a, b)"
   ]
  },
  {
   "cell_type": "markdown",
   "id": "14a38540",
   "metadata": {},
   "source": [
    "#### 25. Given a 1D array, negate all elements which are between 3 and 8, in place. (★☆☆)"
   ]
  },
  {
   "cell_type": "code",
   "execution_count": 42,
   "id": "85a57a73",
   "metadata": {},
   "outputs": [
    {
     "data": {
      "text/plain": [
       "array([ 0,  1,  2,  3, -4, -5, -6, -7,  8,  9, 10])"
      ]
     },
     "execution_count": 42,
     "metadata": {},
     "output_type": "execute_result"
    }
   ],
   "source": [
    "a = np.array(np.arange(11))\n",
    "a[((3 < a) & (a < 8))] *= -1\n",
    "a"
   ]
  },
  {
   "cell_type": "code",
   "execution_count": 43,
   "id": "5ae41b86",
   "metadata": {},
   "outputs": [
    {
     "name": "stdout",
     "output_type": "stream",
     "text": [
      "# Author: Evgeni Burovski\n",
      "\n",
      "Z = np.arange(11)\n",
      "Z[(3 < Z) & (Z < 8)] *= -1\n",
      "print(Z)\n"
     ]
    }
   ],
   "source": [
    "answer(25)"
   ]
  },
  {
   "cell_type": "code",
   "execution_count": 44,
   "id": "4f05c259",
   "metadata": {},
   "outputs": [
    {
     "name": "stdout",
     "output_type": "stream",
     "text": [
      "[ 0  1  2  3 -4 -5 -6 -7  8  9 10]\n"
     ]
    }
   ],
   "source": [
    "Z = np.arange(11)\n",
    "Z[(3 < Z) & (Z < 8)] *= -1\n",
    "print(Z)"
   ]
  },
  {
   "cell_type": "markdown",
   "id": "bb586fda",
   "metadata": {},
   "source": [
    "#### 26. What is the output of the following script? (★☆☆)\n",
    "```python\n",
    "# Author: Jake VanderPlas\n",
    "\n",
    "print(sum(range(5),-1))\n",
    "from numpy import *\n",
    "print(sum(range(5),-1))\n",
    "```"
   ]
  },
  {
   "cell_type": "code",
   "execution_count": 45,
   "id": "5094a699",
   "metadata": {},
   "outputs": [
    {
     "data": {
      "text/plain": [
       "9"
      ]
     },
     "execution_count": 45,
     "metadata": {},
     "output_type": "execute_result"
    }
   ],
   "source": [
    "sum(range(5), -1)"
   ]
  },
  {
   "cell_type": "markdown",
   "id": "198cdc05",
   "metadata": {},
   "source": [
    "#### 27. Consider an integer vector Z, which of these expressions are legal? (★☆☆)\n",
    "```python\n",
    "Z**Z\n",
    "2 << Z >> 2\n",
    "Z <- Z\n",
    "1j*Z\n",
    "Z/1/1\n",
    "Z<Z>Z\n",
    "```"
   ]
  },
  {
   "cell_type": "code",
   "execution_count": 46,
   "id": "a4195583",
   "metadata": {},
   "outputs": [
    {
     "data": {
      "text/plain": [
       "'python\\n1. ok\\n2. no\\n3. ok\\n4. ok\\n5. ok\\n6. no\\n'"
      ]
     },
     "execution_count": 46,
     "metadata": {},
     "output_type": "execute_result"
    }
   ],
   "source": [
    "####\n",
    "\"\"\"python\n",
    "1. ok\n",
    "2. no\n",
    "3. ok\n",
    "4. ok\n",
    "5. ok\n",
    "6. no\n",
    "\"\"\""
   ]
  },
  {
   "cell_type": "code",
   "execution_count": 47,
   "id": "2ef75b28",
   "metadata": {},
   "outputs": [
    {
     "data": {
      "text/plain": [
       "array([0.+1.j, 0.+2.j, 0.+3.j])"
      ]
     },
     "execution_count": 47,
     "metadata": {},
     "output_type": "execute_result"
    }
   ],
   "source": [
    "Z = np.array([1, 2, 3])\n",
    "1j*Z  # jは虚数単位"
   ]
  },
  {
   "cell_type": "markdown",
   "id": "d83bb54b",
   "metadata": {},
   "source": [
    "#### 28. What are the result of the following expressions? (★☆☆)\n",
    "```python\n",
    "np.array(0) / np.array(0)\n",
    "np.array(0) // np.array(0)\n",
    "np.array([np.nan]).astype(int).astype(float)\n",
    "```"
   ]
  },
  {
   "cell_type": "code",
   "execution_count": 48,
   "id": "be03647f",
   "metadata": {},
   "outputs": [
    {
     "name": "stderr",
     "output_type": "stream",
     "text": [
      "C:\\Users\\CHU1P\\AppData\\Local\\Temp\\ipykernel_9888\\941235769.py:1: RuntimeWarning: invalid value encountered in divide\n",
      "  np.array(0) / np.array(0)  # numpyはエラーが出たときに中断せずに、nanを返す\n"
     ]
    },
    {
     "data": {
      "text/plain": [
       "nan"
      ]
     },
     "execution_count": 48,
     "metadata": {},
     "output_type": "execute_result"
    }
   ],
   "source": [
    "np.array(0) / np.array(0)  # numpyはエラーが出たときに中断せずに、nanを返す"
   ]
  },
  {
   "cell_type": "code",
   "execution_count": 49,
   "id": "5367280c",
   "metadata": {},
   "outputs": [
    {
     "name": "stderr",
     "output_type": "stream",
     "text": [
      "C:\\Users\\CHU1P\\AppData\\Local\\Temp\\ipykernel_9888\\2018018105.py:1: RuntimeWarning: divide by zero encountered in floor_divide\n",
      "  np.array(0) // np.array(0)\n"
     ]
    },
    {
     "data": {
      "text/plain": [
       "0"
      ]
     },
     "execution_count": 49,
     "metadata": {},
     "output_type": "execute_result"
    }
   ],
   "source": [
    "np.array(0) // np.array(0)"
   ]
  },
  {
   "cell_type": "code",
   "execution_count": 50,
   "id": "277bd109",
   "metadata": {},
   "outputs": [
    {
     "name": "stderr",
     "output_type": "stream",
     "text": [
      "C:\\Users\\CHU1P\\AppData\\Local\\Temp\\ipykernel_9888\\2424127791.py:1: RuntimeWarning: invalid value encountered in cast\n",
      "  np.array([np.nan]).astype(int).astype(float)  # np.nanはint型に変えるとその方の最小値になる\n"
     ]
    },
    {
     "data": {
      "text/plain": [
       "array([-2.14748365e+09])"
      ]
     },
     "execution_count": 50,
     "metadata": {},
     "output_type": "execute_result"
    }
   ],
   "source": [
    "np.array([np.nan]).astype(int).astype(float)  # np.nanはint型に変えるとその方の最小値になる"
   ]
  },
  {
   "cell_type": "markdown",
   "id": "415d2d18",
   "metadata": {},
   "source": [
    "#### 29. How to round away from zero a float array ? (★☆☆)"
   ]
  },
  {
   "cell_type": "code",
   "execution_count": 51,
   "id": "63df40b7",
   "metadata": {},
   "outputs": [
    {
     "name": "stdout",
     "output_type": "stream",
     "text": [
      "[-4.8779126   1.05742964  9.78789253 -8.83080269  3.32605847]\n",
      "[-5.  2. 10. -9.  4.]\n"
     ]
    }
   ],
   "source": [
    "a = np.array(np.random.uniform(-10, 10, 5))\n",
    "print(a)\n",
    "a = np.where(a >= 0, np.ceil(a), np.floor(a))\n",
    "print(a)"
   ]
  },
  {
   "cell_type": "code",
   "execution_count": 52,
   "id": "be31a670",
   "metadata": {},
   "outputs": [
    {
     "name": "stdout",
     "output_type": "stream",
     "text": [
      "# Author: Charles R Harris\n",
      "\n",
      "Z = np.random.uniform(-10,+10,10)\n",
      "print(np.copysign(np.ceil(np.abs(Z)), Z))\n",
      "\n",
      "# More readable but less efficient\n",
      "print(np.where(Z>0, np.ceil(Z), np.floor(Z)))\n"
     ]
    }
   ],
   "source": [
    "answer(29)"
   ]
  },
  {
   "cell_type": "markdown",
   "id": "40ddc32c",
   "metadata": {},
   "source": [
    "#### 30. How to find common values between two arrays? (★☆☆)"
   ]
  },
  {
   "cell_type": "code",
   "execution_count": 53,
   "id": "e4e221c3",
   "metadata": {},
   "outputs": [
    {
     "name": "stdout",
     "output_type": "stream",
     "text": [
      "[5 8 7 4 3] [2 3 5 4 1]\n"
     ]
    },
    {
     "data": {
      "text/plain": [
       "array([3, 4, 5])"
      ]
     },
     "execution_count": 53,
     "metadata": {},
     "output_type": "execute_result"
    }
   ],
   "source": [
    "a = np.random.randint(1, 9, 5)\n",
    "b = np.random.randint(1, 9, 5)\n",
    "print(a, b)\n",
    "np.intersect1d(a, b)  # 共通の値を出力する, 出力はsortされている"
   ]
  },
  {
   "cell_type": "markdown",
   "id": "96a2b00a",
   "metadata": {},
   "source": [
    "#### 31. How to ignore all numpy warnings (not recommended)? (★☆☆)"
   ]
  },
  {
   "cell_type": "code",
   "execution_count": 54,
   "id": "97517a73",
   "metadata": {},
   "outputs": [
    {
     "name": "stdout",
     "output_type": "stream",
     "text": [
      "# Suicide mode on\n",
      "defaults = np.seterr(all=\"ignore\")\n",
      "Z = np.ones(1) / 0\n",
      "\n",
      "# Back to sanity\n",
      "_ = np.seterr(**defaults)\n",
      "\n",
      "# Equivalently with a context manager\n",
      "with np.errstate(all=\"ignore\"):\n",
      "    np.arange(3) / 0\n"
     ]
    }
   ],
   "source": [
    "answer(31)"
   ]
  },
  {
   "cell_type": "code",
   "execution_count": 55,
   "id": "56419ba4",
   "metadata": {},
   "outputs": [],
   "source": [
    "defaults = np.seterr(all=\"ignore\")\n",
    "z = np.ones(1) / 0"
   ]
  },
  {
   "cell_type": "markdown",
   "id": "5164e541",
   "metadata": {},
   "source": [
    "#### 32. Is the following expressions true? (★☆☆)\n",
    "```python\n",
    "np.sqrt(-1) == np.emath.sqrt(-1)\n",
    "```"
   ]
  },
  {
   "cell_type": "code",
   "execution_count": 56,
   "id": "c05aab40",
   "metadata": {},
   "outputs": [
    {
     "data": {
      "text/plain": [
       "1j"
      ]
     },
     "execution_count": 56,
     "metadata": {},
     "output_type": "execute_result"
    }
   ],
   "source": [
    "np.emath.sqrt(-1)  # emathは複素数が答えの場合は複素数に変える"
   ]
  },
  {
   "cell_type": "markdown",
   "id": "6ff7fdf8",
   "metadata": {},
   "source": [
    "#### 33. How to get the dates of yesterday, today and tomorrow? (★☆☆)"
   ]
  },
  {
   "cell_type": "code",
   "execution_count": 57,
   "id": "6156213d",
   "metadata": {},
   "outputs": [
    {
     "name": "stdout",
     "output_type": "stream",
     "text": [
      "2025-06-25\n",
      "2025-06-26\n",
      "2025-06-27\n"
     ]
    }
   ],
   "source": [
    "print(np.datetime64(\"today\", \"D\") - np.timedelta64(1, \"D\"))\n",
    "print(np.datetime64(\"today\", \"D\"))\n",
    "print(np.datetime64(\"today\", \"D\") + np.timedelta64(1, \"D\"))"
   ]
  },
  {
   "cell_type": "code",
   "execution_count": 58,
   "id": "19e007b5",
   "metadata": {},
   "outputs": [
    {
     "name": "stdout",
     "output_type": "stream",
     "text": [
      "2025-06-25 2025-06-26 2025-06-27\n"
     ]
    }
   ],
   "source": [
    "import pandas as pd\n",
    "\n",
    "today = pd.Timestamp(\"today\")\n",
    "yesterday = (today - pd.Timedelta(days=1)).strftime(\"%Y-%m-%d\")\n",
    "tomorrow = (today + pd.Timedelta(days=1)).strftime(\"%Y-%m-%d\")\n",
    "today = today.strftime(\"%Y-%m-%d\")\n",
    "print(yesterday, today, tomorrow)"
   ]
  },
  {
   "cell_type": "markdown",
   "id": "97dde2a7",
   "metadata": {},
   "source": [
    "#### 34. How to get all the dates corresponding to the month of July 2016? (★★☆)"
   ]
  },
  {
   "cell_type": "code",
   "execution_count": 59,
   "id": "b8775358",
   "metadata": {},
   "outputs": [
    {
     "data": {
      "text/plain": [
       "DatetimeIndex(['2016-07-01', '2016-07-02', '2016-07-03', '2016-07-04',\n",
       "               '2016-07-05', '2016-07-06', '2016-07-07', '2016-07-08',\n",
       "               '2016-07-09', '2016-07-10', '2016-07-11', '2016-07-12',\n",
       "               '2016-07-13', '2016-07-14', '2016-07-15', '2016-07-16',\n",
       "               '2016-07-17', '2016-07-18', '2016-07-19', '2016-07-20',\n",
       "               '2016-07-21', '2016-07-22', '2016-07-23', '2016-07-24',\n",
       "               '2016-07-25', '2016-07-26', '2016-07-27', '2016-07-28',\n",
       "               '2016-07-29', '2016-07-30', '2016-07-31'],\n",
       "              dtype='datetime64[ns]', freq='D')"
      ]
     },
     "execution_count": 59,
     "metadata": {},
     "output_type": "execute_result"
    }
   ],
   "source": [
    "a = pd.date_range(start=\"2016-07-01\", end=\"2016-07-31\", freq=\"D\")\n",
    "a"
   ]
  },
  {
   "cell_type": "code",
   "execution_count": 60,
   "id": "3f18f265",
   "metadata": {},
   "outputs": [
    {
     "data": {
      "text/plain": [
       "array(['2016-07-01', '2016-07-02', '2016-07-03', '2016-07-04',\n",
       "       '2016-07-05', '2016-07-06', '2016-07-07', '2016-07-08',\n",
       "       '2016-07-09', '2016-07-10', '2016-07-11', '2016-07-12',\n",
       "       '2016-07-13', '2016-07-14', '2016-07-15', '2016-07-16',\n",
       "       '2016-07-17', '2016-07-18', '2016-07-19', '2016-07-20',\n",
       "       '2016-07-21', '2016-07-22', '2016-07-23', '2016-07-24',\n",
       "       '2016-07-25', '2016-07-26', '2016-07-27', '2016-07-28',\n",
       "       '2016-07-29', '2016-07-30', '2016-07-31'], dtype='datetime64[D]')"
      ]
     },
     "execution_count": 60,
     "metadata": {},
     "output_type": "execute_result"
    }
   ],
   "source": [
    "np.arange(\"2016-07\", \"2016-08\", dtype=\"datetime64[D]\")"
   ]
  },
  {
   "cell_type": "code",
   "execution_count": 61,
   "id": "249806a3",
   "metadata": {},
   "outputs": [
    {
     "name": "stdout",
     "output_type": "stream",
     "text": [
      "Z = np.arange('2016-07', '2016-08', dtype='datetime64[D]')\n",
      "print(Z)\n"
     ]
    }
   ],
   "source": [
    "answer(34)"
   ]
  },
  {
   "cell_type": "markdown",
   "id": "78f4ad65",
   "metadata": {},
   "source": [
    "#### 35. How to compute ((A+B)*(-A/2)) in place (without copy)? (★★☆)"
   ]
  },
  {
   "cell_type": "code",
   "execution_count": 62,
   "id": "d9bee25c",
   "metadata": {},
   "outputs": [
    {
     "name": "stdout",
     "output_type": "stream",
     "text": [
      "A = np.ones(3)*1\n",
      "B = np.ones(3)*2\n",
      "np.add(A,B,out=B)\n",
      "np.divide(A,2,out=A)\n",
      "np.negative(A,out=A)\n",
      "np.multiply(A,B,out=A)\n"
     ]
    }
   ],
   "source": [
    "answer(35)"
   ]
  },
  {
   "cell_type": "code",
   "execution_count": 63,
   "id": "56d474e2",
   "metadata": {},
   "outputs": [
    {
     "name": "stdout",
     "output_type": "stream",
     "text": [
      "[2. 2. 2.]\n",
      "[3. 3. 3.]\n",
      "[-0.5 -0.5 -0.5]\n"
     ]
    }
   ],
   "source": [
    "A = np.ones(3) * 1\n",
    "B = np.ones(3) * 2\n",
    "print(B)\n",
    "print(np.add(A, B, out=B))  # numpyのaddやnegativeを使うことによってメモリの使用を削減できる\n",
    "np.negative(A, out=A)\n",
    "print(np.divide(A, 2, out=A))"
   ]
  },
  {
   "cell_type": "markdown",
   "id": "1a194d91",
   "metadata": {},
   "source": [
    "#### 36. Extract the integer part of a random array of positive numbers using 4 different methods (★★☆)"
   ]
  },
  {
   "cell_type": "code",
   "execution_count": 64,
   "id": "46a4ab0a",
   "metadata": {},
   "outputs": [
    {
     "name": "stdout",
     "output_type": "stream",
     "text": [
      "[ 9  5 -8 -4 -1]\n",
      "[ 9.  5. -8. -4. -1.]\n",
      "[ 9.  5. -9. -5. -2.]\n",
      "[ 9.  5. -8. -4. -1.]\n"
     ]
    }
   ],
   "source": [
    "a = np.array([9.43702508, 5.44392995, -8.80030341, -4.46399976, -1.06240269])\n",
    "print(a.astype(int))\n",
    "print(np.where(a >= 0, np.floor(a), np.ceil(a)))\n",
    "print(a // 1)\n",
    "print(np.trunc(a))  # np.where(a >= 0, np.floor(a), np.ceil(a))これと同じ"
   ]
  },
  {
   "cell_type": "code",
   "execution_count": 65,
   "id": "03d28319",
   "metadata": {},
   "outputs": [
    {
     "name": "stdout",
     "output_type": "stream",
     "text": [
      "Z = np.random.uniform(0,10,10)\n",
      "\n",
      "print(Z - Z%1)\n",
      "print(Z // 1)\n",
      "print(np.floor(Z))\n",
      "print(Z.astype(int))\n",
      "print(np.trunc(Z))\n"
     ]
    }
   ],
   "source": [
    "answer(36)"
   ]
  },
  {
   "cell_type": "markdown",
   "id": "23a9130d",
   "metadata": {},
   "source": [
    "#### 37. Create a 5x5 matrix with row values ranging from 0 to 4 (★★☆)"
   ]
  },
  {
   "cell_type": "code",
   "execution_count": 66,
   "id": "8a08a042",
   "metadata": {},
   "outputs": [
    {
     "data": {
      "text/plain": [
       "array([[0, 1, 2, 3, 4],\n",
       "       [0, 1, 2, 3, 4],\n",
       "       [0, 1, 2, 3, 4],\n",
       "       [0, 1, 2, 3, 4],\n",
       "       [0, 1, 2, 3, 4]])"
      ]
     },
     "execution_count": 66,
     "metadata": {},
     "output_type": "execute_result"
    }
   ],
   "source": [
    "np.array(np.tile([0, 1, 2, 3, 4], (5, 1)))"
   ]
  },
  {
   "cell_type": "code",
   "execution_count": 67,
   "id": "b79e85d6",
   "metadata": {},
   "outputs": [
    {
     "name": "stdout",
     "output_type": "stream",
     "text": [
      "Z = np.zeros((5,5))\n",
      "Z += np.arange(5)\n",
      "print(Z)\n",
      "\n",
      "# without broadcasting\n",
      "Z = np.tile(np.arange(0, 5), (5,1))\n",
      "print(Z)\n"
     ]
    }
   ],
   "source": [
    "answer(37)"
   ]
  },
  {
   "cell_type": "markdown",
   "id": "e225eafa",
   "metadata": {},
   "source": [
    "#### 38. Consider a generator function that generates 10 integers and use it to build an array (★☆☆)"
   ]
  },
  {
   "cell_type": "code",
   "execution_count": 68,
   "id": "7c2acc82",
   "metadata": {},
   "outputs": [
    {
     "name": "stdout",
     "output_type": "stream",
     "text": [
      "[0 1 2 3 4 5 6 7 8 9]\n"
     ]
    }
   ],
   "source": [
    "def int_generator():\n",
    "    for i in range(10):\n",
    "        yield i\n",
    "\n",
    "print(np.fromiter(int_generator(), dtype=int))"
   ]
  },
  {
   "cell_type": "code",
   "execution_count": 69,
   "id": "76093f83",
   "metadata": {},
   "outputs": [
    {
     "name": "stdout",
     "output_type": "stream",
     "text": [
      "def generate():\n",
      "    for x in range(10):\n",
      "        yield x\n",
      "Z = np.fromiter(generate(),dtype=float,count=-1)\n",
      "print(Z)\n"
     ]
    }
   ],
   "source": [
    "answer(38)"
   ]
  },
  {
   "cell_type": "markdown",
   "id": "2f61a8f5",
   "metadata": {},
   "source": [
    "#### 39. Create a vector of size 10 with values ranging from 0 to 1, both excluded (★★☆)"
   ]
  },
  {
   "cell_type": "code",
   "execution_count": 70,
   "id": "ef7bc11c",
   "metadata": {},
   "outputs": [
    {
     "data": {
      "text/plain": [
       "5e-324"
      ]
     },
     "execution_count": 70,
     "metadata": {},
     "output_type": "execute_result"
    }
   ],
   "source": [
    "np.nextafter(0, 1)"
   ]
  },
  {
   "cell_type": "code",
   "execution_count": 71,
   "id": "a035d358",
   "metadata": {},
   "outputs": [
    {
     "data": {
      "text/plain": [
       "array([0.78508794, 0.91948423, 0.41128446, 0.39920711, 0.13452403,\n",
       "       0.07364667, 0.33555575, 0.51505447, 0.97096971, 0.38526793])"
      ]
     },
     "execution_count": 71,
     "metadata": {},
     "output_type": "execute_result"
    }
   ],
   "source": [
    "np.random.uniform(np.nextafter(0, 1), 1, 10)"
   ]
  },
  {
   "cell_type": "code",
   "execution_count": 72,
   "id": "27af1fb7",
   "metadata": {},
   "outputs": [
    {
     "data": {
      "text/plain": [
       "array([0.09090909, 0.18181818, 0.27272727, 0.36363636, 0.45454545,\n",
       "       0.54545455, 0.63636364, 0.72727273, 0.81818182, 0.90909091])"
      ]
     },
     "execution_count": 72,
     "metadata": {},
     "output_type": "execute_result"
    }
   ],
   "source": [
    "np.linspace(0, 1, 11, endpoint=False)[1:]"
   ]
  },
  {
   "cell_type": "code",
   "execution_count": 73,
   "id": "b818e62d",
   "metadata": {},
   "outputs": [
    {
     "name": "stdout",
     "output_type": "stream",
     "text": [
      "Z = np.linspace(0,1,11,endpoint=False)[1:]\n",
      "print(Z)\n"
     ]
    }
   ],
   "source": [
    "answer(39)"
   ]
  },
  {
   "cell_type": "markdown",
   "id": "d5ae0694",
   "metadata": {},
   "source": [
    "#### 40. Create a random vector of size 10 and sort it (★★☆)"
   ]
  },
  {
   "cell_type": "code",
   "execution_count": 74,
   "id": "0b5a407d",
   "metadata": {},
   "outputs": [
    {
     "name": "stdout",
     "output_type": "stream",
     "text": [
      "[0.01928517 0.04735718 0.20045512 0.22555198 0.36110076 0.36444423\n",
      " 0.47535693 0.60637293 0.70957414 0.86794302]\n"
     ]
    }
   ],
   "source": [
    "a = np.random.random(10)\n",
    "a.sort()\n",
    "print(a)"
   ]
  },
  {
   "cell_type": "markdown",
   "id": "1a355962",
   "metadata": {},
   "source": [
    "#### 41. How to sum a small array faster than np.sum? (★★☆)"
   ]
  },
  {
   "cell_type": "code",
   "execution_count": 75,
   "id": "70917f47",
   "metadata": {},
   "outputs": [
    {
     "name": "stdout",
     "output_type": "stream",
     "text": [
      "# Author: Evgeni Burovski\n",
      "\n",
      "Z = np.arange(10)\n",
      "np.add.reduce(Z)\n"
     ]
    }
   ],
   "source": [
    "answer(41)"
   ]
  },
  {
   "cell_type": "code",
   "execution_count": 76,
   "id": "44f862a0",
   "metadata": {},
   "outputs": [
    {
     "data": {
      "text/plain": [
       "45"
      ]
     },
     "execution_count": 76,
     "metadata": {},
     "output_type": "execute_result"
    }
   ],
   "source": [
    "a = np.arange(10)\n",
    "np.add.reduce(a)"
   ]
  },
  {
   "cell_type": "markdown",
   "id": "42e65d4e",
   "metadata": {},
   "source": [
    "#### 42. Consider two random arrays A and B, check if they are equal (★★☆)"
   ]
  },
  {
   "cell_type": "code",
   "execution_count": 77,
   "id": "c4ae0c00",
   "metadata": {},
   "outputs": [
    {
     "name": "stdout",
     "output_type": "stream",
     "text": [
      "False\n"
     ]
    }
   ],
   "source": [
    "A = np.random.randint(0, 2, 5)\n",
    "B = np.random.randint(0, 2, 5)\n",
    "equal = np.allclose(A, B)\n",
    "print(equal)"
   ]
  },
  {
   "cell_type": "code",
   "execution_count": 78,
   "id": "1e74f6af",
   "metadata": {},
   "outputs": [
    {
     "name": "stdout",
     "output_type": "stream",
     "text": [
      "A = np.random.randint(0,2,5)\n",
      "B = np.random.randint(0,2,5)\n",
      "\n",
      "# Assuming identical shape of the arrays and a tolerance for the comparison of values\n",
      "equal = np.allclose(A,B)\n",
      "print(equal)\n",
      "\n",
      "# Checking both the shape and the element values, no tolerance (values have to be exactly equal)\n",
      "equal = np.array_equal(A,B)\n",
      "print(equal)\n"
     ]
    }
   ],
   "source": [
    "answer(42)"
   ]
  },
  {
   "cell_type": "markdown",
   "id": "37c295dd",
   "metadata": {},
   "source": [
    "#### 43. Make an array immutable (read-only) (★★☆)"
   ]
  },
  {
   "cell_type": "code",
   "execution_count": 79,
   "id": "5a2cf158",
   "metadata": {},
   "outputs": [
    {
     "data": {
      "text/plain": [
       "array([1, 2, 3])"
      ]
     },
     "execution_count": 79,
     "metadata": {},
     "output_type": "execute_result"
    }
   ],
   "source": [
    "a = np.array([1, 2, 3])\n",
    "a.flags.writeable = False\n",
    "a"
   ]
  },
  {
   "cell_type": "code",
   "execution_count": 80,
   "id": "ab0bd3b6",
   "metadata": {},
   "outputs": [
    {
     "name": "stdout",
     "output_type": "stream",
     "text": [
      "Z = np.zeros(10)\n",
      "Z.flags.writeable = False\n",
      "Z[0] = 1\n"
     ]
    }
   ],
   "source": [
    "answer(43)"
   ]
  },
  {
   "cell_type": "markdown",
   "id": "e92096de",
   "metadata": {},
   "source": [
    "#### 44. Consider a random 10x2 matrix representing cartesian coordinates, convert them to polar coordinates (★★☆)"
   ]
  },
  {
   "cell_type": "code",
   "execution_count": 81,
   "id": "7d4f2602",
   "metadata": {},
   "outputs": [
    {
     "name": "stdout",
     "output_type": "stream",
     "text": [
      "[0.24427017 1.14814851 0.75075672 0.63510986 0.46289736 0.52020734\n",
      " 0.96147149 0.89726943 0.65527359 0.99730344]\n",
      "[0.81790403 0.95718855 0.44867724 1.16870473 1.45138613 0.33406354\n",
      " 0.45500367 0.98909295 0.56966557 1.22908521]\n"
     ]
    }
   ],
   "source": [
    "A = np.array([[0.16702026, 0.17824744],\n",
    " [0.66112783, 0.93869856],\n",
    " [0.67644807, 0.3256588 ],\n",
    " [0.24854642, 0.58445634],\n",
    " [0.0551434, 0.4596011 ],\n",
    " [0.49144912, 0.17056799],\n",
    " [0.86365082, 0.42253366],\n",
    " [0.49300285, 0.74969368],\n",
    " [0.5517937, 0.35342211],\n",
    " [0.33419615, 0.939642]])\n",
    "sheta = np.arctan2(A[:, 1] ,A[:, 0])\n",
    "np.square(A, out=A)\n",
    "A = np.sum(A, axis=1)\n",
    "R = np.sqrt(A)\n",
    "print(R)\n",
    "print(sheta)\n"
   ]
  },
  {
   "cell_type": "code",
   "execution_count": 82,
   "id": "82dd730f",
   "metadata": {},
   "outputs": [
    {
     "name": "stdout",
     "output_type": "stream",
     "text": [
      "[[0.03189334 0.79305248]\n",
      " [0.72734339 0.98310595]\n",
      " [0.92951647 0.92876944]\n",
      " [0.07514887 0.82878422]\n",
      " [0.79224423 0.5981162 ]\n",
      " [0.82816647 0.39282688]\n",
      " [0.78586374 0.4554756 ]\n",
      " [0.07524475 0.20108279]\n",
      " [0.78948221 0.91160702]\n",
      " [0.67455952 0.75173031]]\n",
      "[0.79369354 1.22291689 1.31400667 0.83218426 0.99267009 0.91660933\n",
      " 0.90831703 0.21469993 1.20594757 1.01001436]\n",
      "[1.53060206 0.93382789 0.78499616 1.48036998 0.64667077 0.44290418\n",
      " 0.52527393 1.21272908 0.85706733 0.83945142]\n"
     ]
    }
   ],
   "source": [
    "Z = np.random.random((10,2))\n",
    "print(Z)\n",
    "X,Y = Z[:,0], Z[:,1]\n",
    "R = np.sqrt(X**2+Y**2)\n",
    "T = np.arctan2(Y,X)\n",
    "print(R)\n",
    "print(T)"
   ]
  },
  {
   "cell_type": "code",
   "execution_count": 83,
   "id": "dae53403",
   "metadata": {},
   "outputs": [
    {
     "name": "stdout",
     "output_type": "stream",
     "text": [
      "Z = np.random.random((10,2))\n",
      "X,Y = Z[:,0], Z[:,1]\n",
      "R = np.sqrt(X**2+Y**2)\n",
      "T = np.arctan2(Y,X)\n",
      "print(R)\n",
      "print(T)\n"
     ]
    }
   ],
   "source": [
    "answer(44)"
   ]
  },
  {
   "cell_type": "markdown",
   "id": "a71d88ea",
   "metadata": {},
   "source": [
    "#### 45. Create random vector of size 10 and replace the maximum value by 0 (★★☆)"
   ]
  },
  {
   "cell_type": "code",
   "execution_count": 84,
   "id": "1298225a",
   "metadata": {},
   "outputs": [
    {
     "data": {
      "text/plain": [
       "array([0.        , 0.29982553, 0.22537071, 0.84702274, 0.78513733,\n",
       "       0.06814911, 0.45699732, 0.43298282, 0.349933  , 0.06794928])"
      ]
     },
     "execution_count": 84,
     "metadata": {},
     "output_type": "execute_result"
    }
   ],
   "source": [
    "a = np.random.random(10)\n",
    "a[a.argmax()] = 0\n",
    "a"
   ]
  },
  {
   "cell_type": "markdown",
   "id": "261c253c",
   "metadata": {},
   "source": [
    "#### 46. Create a structured array with `x` and `y` coordinates covering the [0,1]x[0,1] area (★★☆)"
   ]
  },
  {
   "cell_type": "code",
   "execution_count": 85,
   "id": "9150a4a1",
   "metadata": {},
   "outputs": [
    {
     "data": {
      "text/plain": [
       "array([[(0.03296376, 0.5266849 )],\n",
       "       [(0.77853777, 0.07895188)],\n",
       "       [(0.92018856, 0.47922308)],\n",
       "       [(0.4407441 , 0.4140459 )],\n",
       "       [(0.05935916, 0.04859092)]], dtype=[('x', '<f8'), ('y', '<f8')])"
      ]
     },
     "execution_count": 85,
     "metadata": {},
     "output_type": "execute_result"
    }
   ],
   "source": [
    "structed_dtype = np.dtype([(\"x\", float), (\"y\", float)])\n",
    "a = np.array(np.random.uniform(0, np.nextafter(1, 2), 10).reshape(-1, 2))\n",
    "a.dtype = structed_dtype\n",
    "a"
   ]
  },
  {
   "cell_type": "code",
   "execution_count": 86,
   "id": "9b79e9b3",
   "metadata": {},
   "outputs": [
    {
     "name": "stdout",
     "output_type": "stream",
     "text": [
      "Z = np.zeros((5,5), [('x',float),('y',float)])\n",
      "Z['x'], Z['y'] = np.meshgrid(np.linspace(0,1,5),\n",
      "                             np.linspace(0,1,5))\n",
      "print(Z)\n"
     ]
    }
   ],
   "source": [
    "answer(46)"
   ]
  },
  {
   "cell_type": "markdown",
   "id": "265deebd",
   "metadata": {},
   "source": [
    "#### 47. Given two arrays, X and Y, construct the Cauchy matrix C (Cij =1/(xi - yj)) (★★☆)"
   ]
  },
  {
   "cell_type": "code",
   "execution_count": 87,
   "id": "9fad2a0d",
   "metadata": {},
   "outputs": [
    {
     "name": "stdout",
     "output_type": "stream",
     "text": [
      "[[   1.07390596    1.34056591    7.57855676    1.56426045    1.16520926]\n",
      " [   2.41131041    4.35757069   -2.60066715    8.14254219    2.92614145]\n",
      " [   3.44735903    9.53738668   -1.96405058 -548.4348157     4.60592106]\n",
      " [   2.01948705    3.22634091   -3.28889233    4.91945013    2.36848982]\n",
      " [   1.84882917    2.8117037    -3.870776      4.01634884    2.13712856]]\n"
     ]
    }
   ],
   "source": [
    "X = np.array(np.random.random(5))\n",
    "Y = np.array(np.random.random(5))\n",
    "C = 1 / np.subtract.outer(X, Y)\n",
    "print(C)"
   ]
  },
  {
   "cell_type": "code",
   "execution_count": 88,
   "id": "c02603f4",
   "metadata": {},
   "outputs": [
    {
     "name": "stdout",
     "output_type": "stream",
     "text": [
      "# Author: Evgeni Burovski\n",
      "\n",
      "X = np.arange(8)\n",
      "Y = X + 0.5\n",
      "C = 1.0 / np.subtract.outer(X, Y)\n",
      "print(np.linalg.det(C))\n"
     ]
    }
   ],
   "source": [
    "answer(47)"
   ]
  },
  {
   "cell_type": "code",
   "execution_count": 89,
   "id": "9e82895d",
   "metadata": {},
   "outputs": [
    {
     "data": {
      "text/plain": [
       "array([[12, 12, 11],\n",
       "       [10, 10,  9],\n",
       "       [16, 16, 15],\n",
       "       [17, 17, 16],\n",
       "       [10, 10,  9],\n",
       "       [12, 12, 11],\n",
       "       [10, 10,  9],\n",
       "       [ 9,  9,  8],\n",
       "       [13, 13, 12],\n",
       "       [11, 11, 10]])"
      ]
     },
     "execution_count": 89,
     "metadata": {},
     "output_type": "execute_result"
    }
   ],
   "source": [
    "a = np.array(np.random.randint(1, 10, 10))\n",
    "b = np.array(np.random.randint(1, 10, 3))\n",
    "np.add.outer(a, b)"
   ]
  },
  {
   "cell_type": "markdown",
   "id": "f9007f53",
   "metadata": {},
   "source": [
    "#### 48. Print the minimum and maximum representable values for each numpy scalar type (★★☆)"
   ]
  },
  {
   "cell_type": "code",
   "execution_count": 90,
   "id": "2a97c51a",
   "metadata": {},
   "outputs": [
    {
     "name": "stdout",
     "output_type": "stream",
     "text": [
      "Machine parameters for int8\n",
      "---------------------------------------------------------------\n",
      "min = -128\n",
      "max = 127\n",
      "---------------------------------------------------------------\n",
      "\n",
      "Machine parameters for float16\n",
      "---------------------------------------------------------------\n",
      "precision =   3   resolution = 1.00040e-03\n",
      "machep =    -10   eps =        9.76562e-04\n",
      "negep =     -11   epsneg =     4.88281e-04\n",
      "minexp =    -14   tiny =       6.10352e-05\n",
      "maxexp =     16   max =        6.55040e+04\n",
      "nexp =        5   min =        -max\n",
      "smallest_normal = 6.10352e-05   smallest_subnormal = 5.96046e-08\n",
      "---------------------------------------------------------------\n",
      "\n"
     ]
    }
   ],
   "source": [
    "print(np.iinfo(np.int8))\n",
    "print(np.finfo(np.float16))"
   ]
  },
  {
   "cell_type": "code",
   "execution_count": 91,
   "id": "687423a8",
   "metadata": {},
   "outputs": [
    {
     "name": "stdout",
     "output_type": "stream",
     "text": [
      "hint: np.iinfo, np.finfo, eps\n"
     ]
    }
   ],
   "source": [
    "hint(48)"
   ]
  },
  {
   "cell_type": "markdown",
   "id": "5130ea82",
   "metadata": {},
   "source": [
    "#### 49. How to print all the values of an array? (★★☆)"
   ]
  },
  {
   "cell_type": "code",
   "execution_count": 92,
   "id": "4636aa7a",
   "metadata": {},
   "outputs": [
    {
     "name": "stdout",
     "output_type": "stream",
     "text": [
      "[[0. 0. 0. 0. 0. 0. 0. 0. 0. 0. 0. 0. 0. 0. 0. 0. 0. 0. 0. 0. 0. 0. 0. 0.\n",
      "  0. 0. 0. 0. 0. 0. 0. 0. 0. 0. 0. 0. 0. 0. 0. 0.]\n",
      " [0. 0. 0. 0. 0. 0. 0. 0. 0. 0. 0. 0. 0. 0. 0. 0. 0. 0. 0. 0. 0. 0. 0. 0.\n",
      "  0. 0. 0. 0. 0. 0. 0. 0. 0. 0. 0. 0. 0. 0. 0. 0.]\n",
      " [0. 0. 0. 0. 0. 0. 0. 0. 0. 0. 0. 0. 0. 0. 0. 0. 0. 0. 0. 0. 0. 0. 0. 0.\n",
      "  0. 0. 0. 0. 0. 0. 0. 0. 0. 0. 0. 0. 0. 0. 0. 0.]\n",
      " [0. 0. 0. 0. 0. 0. 0. 0. 0. 0. 0. 0. 0. 0. 0. 0. 0. 0. 0. 0. 0. 0. 0. 0.\n",
      "  0. 0. 0. 0. 0. 0. 0. 0. 0. 0. 0. 0. 0. 0. 0. 0.]\n",
      " [0. 0. 0. 0. 0. 0. 0. 0. 0. 0. 0. 0. 0. 0. 0. 0. 0. 0. 0. 0. 0. 0. 0. 0.\n",
      "  0. 0. 0. 0. 0. 0. 0. 0. 0. 0. 0. 0. 0. 0. 0. 0.]\n",
      " [0. 0. 0. 0. 0. 0. 0. 0. 0. 0. 0. 0. 0. 0. 0. 0. 0. 0. 0. 0. 0. 0. 0. 0.\n",
      "  0. 0. 0. 0. 0. 0. 0. 0. 0. 0. 0. 0. 0. 0. 0. 0.]\n",
      " [0. 0. 0. 0. 0. 0. 0. 0. 0. 0. 0. 0. 0. 0. 0. 0. 0. 0. 0. 0. 0. 0. 0. 0.\n",
      "  0. 0. 0. 0. 0. 0. 0. 0. 0. 0. 0. 0. 0. 0. 0. 0.]\n",
      " [0. 0. 0. 0. 0. 0. 0. 0. 0. 0. 0. 0. 0. 0. 0. 0. 0. 0. 0. 0. 0. 0. 0. 0.\n",
      "  0. 0. 0. 0. 0. 0. 0. 0. 0. 0. 0. 0. 0. 0. 0. 0.]\n",
      " [0. 0. 0. 0. 0. 0. 0. 0. 0. 0. 0. 0. 0. 0. 0. 0. 0. 0. 0. 0. 0. 0. 0. 0.\n",
      "  0. 0. 0. 0. 0. 0. 0. 0. 0. 0. 0. 0. 0. 0. 0. 0.]\n",
      " [0. 0. 0. 0. 0. 0. 0. 0. 0. 0. 0. 0. 0. 0. 0. 0. 0. 0. 0. 0. 0. 0. 0. 0.\n",
      "  0. 0. 0. 0. 0. 0. 0. 0. 0. 0. 0. 0. 0. 0. 0. 0.]\n",
      " [0. 0. 0. 0. 0. 0. 0. 0. 0. 0. 0. 0. 0. 0. 0. 0. 0. 0. 0. 0. 0. 0. 0. 0.\n",
      "  0. 0. 0. 0. 0. 0. 0. 0. 0. 0. 0. 0. 0. 0. 0. 0.]\n",
      " [0. 0. 0. 0. 0. 0. 0. 0. 0. 0. 0. 0. 0. 0. 0. 0. 0. 0. 0. 0. 0. 0. 0. 0.\n",
      "  0. 0. 0. 0. 0. 0. 0. 0. 0. 0. 0. 0. 0. 0. 0. 0.]\n",
      " [0. 0. 0. 0. 0. 0. 0. 0. 0. 0. 0. 0. 0. 0. 0. 0. 0. 0. 0. 0. 0. 0. 0. 0.\n",
      "  0. 0. 0. 0. 0. 0. 0. 0. 0. 0. 0. 0. 0. 0. 0. 0.]\n",
      " [0. 0. 0. 0. 0. 0. 0. 0. 0. 0. 0. 0. 0. 0. 0. 0. 0. 0. 0. 0. 0. 0. 0. 0.\n",
      "  0. 0. 0. 0. 0. 0. 0. 0. 0. 0. 0. 0. 0. 0. 0. 0.]\n",
      " [0. 0. 0. 0. 0. 0. 0. 0. 0. 0. 0. 0. 0. 0. 0. 0. 0. 0. 0. 0. 0. 0. 0. 0.\n",
      "  0. 0. 0. 0. 0. 0. 0. 0. 0. 0. 0. 0. 0. 0. 0. 0.]\n",
      " [0. 0. 0. 0. 0. 0. 0. 0. 0. 0. 0. 0. 0. 0. 0. 0. 0. 0. 0. 0. 0. 0. 0. 0.\n",
      "  0. 0. 0. 0. 0. 0. 0. 0. 0. 0. 0. 0. 0. 0. 0. 0.]\n",
      " [0. 0. 0. 0. 0. 0. 0. 0. 0. 0. 0. 0. 0. 0. 0. 0. 0. 0. 0. 0. 0. 0. 0. 0.\n",
      "  0. 0. 0. 0. 0. 0. 0. 0. 0. 0. 0. 0. 0. 0. 0. 0.]\n",
      " [0. 0. 0. 0. 0. 0. 0. 0. 0. 0. 0. 0. 0. 0. 0. 0. 0. 0. 0. 0. 0. 0. 0. 0.\n",
      "  0. 0. 0. 0. 0. 0. 0. 0. 0. 0. 0. 0. 0. 0. 0. 0.]\n",
      " [0. 0. 0. 0. 0. 0. 0. 0. 0. 0. 0. 0. 0. 0. 0. 0. 0. 0. 0. 0. 0. 0. 0. 0.\n",
      "  0. 0. 0. 0. 0. 0. 0. 0. 0. 0. 0. 0. 0. 0. 0. 0.]\n",
      " [0. 0. 0. 0. 0. 0. 0. 0. 0. 0. 0. 0. 0. 0. 0. 0. 0. 0. 0. 0. 0. 0. 0. 0.\n",
      "  0. 0. 0. 0. 0. 0. 0. 0. 0. 0. 0. 0. 0. 0. 0. 0.]\n",
      " [0. 0. 0. 0. 0. 0. 0. 0. 0. 0. 0. 0. 0. 0. 0. 0. 0. 0. 0. 0. 0. 0. 0. 0.\n",
      "  0. 0. 0. 0. 0. 0. 0. 0. 0. 0. 0. 0. 0. 0. 0. 0.]\n",
      " [0. 0. 0. 0. 0. 0. 0. 0. 0. 0. 0. 0. 0. 0. 0. 0. 0. 0. 0. 0. 0. 0. 0. 0.\n",
      "  0. 0. 0. 0. 0. 0. 0. 0. 0. 0. 0. 0. 0. 0. 0. 0.]\n",
      " [0. 0. 0. 0. 0. 0. 0. 0. 0. 0. 0. 0. 0. 0. 0. 0. 0. 0. 0. 0. 0. 0. 0. 0.\n",
      "  0. 0. 0. 0. 0. 0. 0. 0. 0. 0. 0. 0. 0. 0. 0. 0.]\n",
      " [0. 0. 0. 0. 0. 0. 0. 0. 0. 0. 0. 0. 0. 0. 0. 0. 0. 0. 0. 0. 0. 0. 0. 0.\n",
      "  0. 0. 0. 0. 0. 0. 0. 0. 0. 0. 0. 0. 0. 0. 0. 0.]\n",
      " [0. 0. 0. 0. 0. 0. 0. 0. 0. 0. 0. 0. 0. 0. 0. 0. 0. 0. 0. 0. 0. 0. 0. 0.\n",
      "  0. 0. 0. 0. 0. 0. 0. 0. 0. 0. 0. 0. 0. 0. 0. 0.]\n",
      " [0. 0. 0. 0. 0. 0. 0. 0. 0. 0. 0. 0. 0. 0. 0. 0. 0. 0. 0. 0. 0. 0. 0. 0.\n",
      "  0. 0. 0. 0. 0. 0. 0. 0. 0. 0. 0. 0. 0. 0. 0. 0.]\n",
      " [0. 0. 0. 0. 0. 0. 0. 0. 0. 0. 0. 0. 0. 0. 0. 0. 0. 0. 0. 0. 0. 0. 0. 0.\n",
      "  0. 0. 0. 0. 0. 0. 0. 0. 0. 0. 0. 0. 0. 0. 0. 0.]\n",
      " [0. 0. 0. 0. 0. 0. 0. 0. 0. 0. 0. 0. 0. 0. 0. 0. 0. 0. 0. 0. 0. 0. 0. 0.\n",
      "  0. 0. 0. 0. 0. 0. 0. 0. 0. 0. 0. 0. 0. 0. 0. 0.]\n",
      " [0. 0. 0. 0. 0. 0. 0. 0. 0. 0. 0. 0. 0. 0. 0. 0. 0. 0. 0. 0. 0. 0. 0. 0.\n",
      "  0. 0. 0. 0. 0. 0. 0. 0. 0. 0. 0. 0. 0. 0. 0. 0.]\n",
      " [0. 0. 0. 0. 0. 0. 0. 0. 0. 0. 0. 0. 0. 0. 0. 0. 0. 0. 0. 0. 0. 0. 0. 0.\n",
      "  0. 0. 0. 0. 0. 0. 0. 0. 0. 0. 0. 0. 0. 0. 0. 0.]\n",
      " [0. 0. 0. 0. 0. 0. 0. 0. 0. 0. 0. 0. 0. 0. 0. 0. 0. 0. 0. 0. 0. 0. 0. 0.\n",
      "  0. 0. 0. 0. 0. 0. 0. 0. 0. 0. 0. 0. 0. 0. 0. 0.]\n",
      " [0. 0. 0. 0. 0. 0. 0. 0. 0. 0. 0. 0. 0. 0. 0. 0. 0. 0. 0. 0. 0. 0. 0. 0.\n",
      "  0. 0. 0. 0. 0. 0. 0. 0. 0. 0. 0. 0. 0. 0. 0. 0.]\n",
      " [0. 0. 0. 0. 0. 0. 0. 0. 0. 0. 0. 0. 0. 0. 0. 0. 0. 0. 0. 0. 0. 0. 0. 0.\n",
      "  0. 0. 0. 0. 0. 0. 0. 0. 0. 0. 0. 0. 0. 0. 0. 0.]\n",
      " [0. 0. 0. 0. 0. 0. 0. 0. 0. 0. 0. 0. 0. 0. 0. 0. 0. 0. 0. 0. 0. 0. 0. 0.\n",
      "  0. 0. 0. 0. 0. 0. 0. 0. 0. 0. 0. 0. 0. 0. 0. 0.]\n",
      " [0. 0. 0. 0. 0. 0. 0. 0. 0. 0. 0. 0. 0. 0. 0. 0. 0. 0. 0. 0. 0. 0. 0. 0.\n",
      "  0. 0. 0. 0. 0. 0. 0. 0. 0. 0. 0. 0. 0. 0. 0. 0.]\n",
      " [0. 0. 0. 0. 0. 0. 0. 0. 0. 0. 0. 0. 0. 0. 0. 0. 0. 0. 0. 0. 0. 0. 0. 0.\n",
      "  0. 0. 0. 0. 0. 0. 0. 0. 0. 0. 0. 0. 0. 0. 0. 0.]\n",
      " [0. 0. 0. 0. 0. 0. 0. 0. 0. 0. 0. 0. 0. 0. 0. 0. 0. 0. 0. 0. 0. 0. 0. 0.\n",
      "  0. 0. 0. 0. 0. 0. 0. 0. 0. 0. 0. 0. 0. 0. 0. 0.]\n",
      " [0. 0. 0. 0. 0. 0. 0. 0. 0. 0. 0. 0. 0. 0. 0. 0. 0. 0. 0. 0. 0. 0. 0. 0.\n",
      "  0. 0. 0. 0. 0. 0. 0. 0. 0. 0. 0. 0. 0. 0. 0. 0.]\n",
      " [0. 0. 0. 0. 0. 0. 0. 0. 0. 0. 0. 0. 0. 0. 0. 0. 0. 0. 0. 0. 0. 0. 0. 0.\n",
      "  0. 0. 0. 0. 0. 0. 0. 0. 0. 0. 0. 0. 0. 0. 0. 0.]\n",
      " [0. 0. 0. 0. 0. 0. 0. 0. 0. 0. 0. 0. 0. 0. 0. 0. 0. 0. 0. 0. 0. 0. 0. 0.\n",
      "  0. 0. 0. 0. 0. 0. 0. 0. 0. 0. 0. 0. 0. 0. 0. 0.]]\n"
     ]
    }
   ],
   "source": [
    "np.set_printoptions(threshold=float(\"inf\"))\n",
    "# np.set_printoptions(threshold=1000)\n",
    "Z = np.zeros((40,40))\n",
    "print(Z)"
   ]
  },
  {
   "cell_type": "code",
   "execution_count": 93,
   "id": "f75aab0b",
   "metadata": {},
   "outputs": [
    {
     "name": "stdout",
     "output_type": "stream",
     "text": [
      "hint: np.set_printoptions\n"
     ]
    }
   ],
   "source": [
    "hint(49)"
   ]
  },
  {
   "cell_type": "code",
   "execution_count": 94,
   "id": "ce8aa03e",
   "metadata": {},
   "outputs": [
    {
     "name": "stdout",
     "output_type": "stream",
     "text": [
      "np.set_printoptions(threshold=float(\"inf\"))\n",
      "Z = np.zeros((40,40))\n",
      "print(Z)\n"
     ]
    }
   ],
   "source": [
    "answer(49)"
   ]
  },
  {
   "cell_type": "markdown",
   "id": "56edae30",
   "metadata": {},
   "source": [
    "#### 50. How to find the closest value (to a given scalar) in a vector? (★★☆)"
   ]
  },
  {
   "cell_type": "code",
   "execution_count": 95,
   "id": "b34f3cf0",
   "metadata": {},
   "outputs": [
    {
     "data": {
      "text/plain": [
       "87"
      ]
     },
     "execution_count": 95,
     "metadata": {},
     "output_type": "execute_result"
    }
   ],
   "source": [
    "a = np.arange(100)\n",
    "v = np.random.uniform(0, 100)\n",
    "index = np.abs(np.subtract(a, v)).argmin()\n",
    "a[index]"
   ]
  },
  {
   "cell_type": "code",
   "execution_count": 96,
   "id": "0fc85527",
   "metadata": {},
   "outputs": [
    {
     "name": "stdout",
     "output_type": "stream",
     "text": [
      "Z = np.arange(100)\n",
      "v = np.random.uniform(0,100)\n",
      "index = (np.abs(Z-v)).argmin()\n",
      "print(Z[index])\n"
     ]
    }
   ],
   "source": [
    "answer(50)"
   ]
  },
  {
   "cell_type": "markdown",
   "id": "a8f3578d",
   "metadata": {},
   "source": [
    "#### 51. Create a structured array representing a position (x,y) and a color (r,g,b) (★★☆)"
   ]
  },
  {
   "cell_type": "code",
   "execution_count": 97,
   "id": "4e9c2e30",
   "metadata": {},
   "outputs": [
    {
     "name": "stdout",
     "output_type": "stream",
     "text": [
      "[((0., 0.), (0., 0., 0.)) ((0., 0.), (0., 0., 0.))]\n"
     ]
    },
    {
     "name": "stderr",
     "output_type": "stream",
     "text": [
      "C:\\Users\\CHU1P\\AppData\\Local\\Temp\\ipykernel_9888\\4134159954.py:1: FutureWarning: Passing (type, 1) or '1type' as a synonym of type is deprecated; in a future version of numpy, it will be understood as (type, (1,)) / '(1,)type'.\n",
      "  a = np.zeros(2, dtype=[(\"position\", [(\"x\", float, 1),\n"
     ]
    }
   ],
   "source": [
    "a = np.zeros(2, dtype=[(\"position\", [(\"x\", float, 1),\n",
    "                                      (\"y\", float, 1)]),\n",
    "                        (\"color\", [(\"r\", float, 1),\n",
    "                                   (\"g\", float, 1),\n",
    "                                   (\"b\", float, 1)])])\n",
    "print(a)"
   ]
  },
  {
   "cell_type": "code",
   "execution_count": 98,
   "id": "bb818e2a",
   "metadata": {},
   "outputs": [
    {
     "name": "stdout",
     "output_type": "stream",
     "text": [
      "Z = np.zeros(10, [ ('position', [ ('x', float, 1),\n",
      "                                  ('y', float, 1)]),\n",
      "                   ('color',    [ ('r', float, 1),\n",
      "                                  ('g', float, 1),\n",
      "                                  ('b', float, 1)])])\n",
      "print(Z)\n"
     ]
    }
   ],
   "source": [
    "answer(51)"
   ]
  },
  {
   "cell_type": "markdown",
   "id": "cd41c4dc",
   "metadata": {},
   "source": [
    "#### 52. Consider a random vector with shape (100,2) representing coordinates, find point by point distances (★★☆)"
   ]
  },
  {
   "cell_type": "code",
   "execution_count": 99,
   "id": "53f15c5d",
   "metadata": {},
   "outputs": [
    {
     "name": "stdout",
     "output_type": "stream",
     "text": [
      "[[0.         0.42094242 0.50402543 0.27648791 0.51504539 0.28263877\n",
      "  0.39173594 0.11352866 0.64647191 0.31298064]\n",
      " [0.42094242 0.         0.09472237 0.50708752 0.87862474 0.18423334\n",
      "  0.20578956 0.5111526  0.59937066 0.5356793 ]\n",
      " [0.50402543 0.09472237 0.         0.60178685 0.97223127 0.27895296\n",
      "  0.21228057 0.58671173 0.66996237 0.57876697]\n",
      " [0.27648791 0.50708752 0.60178685 0.         0.39161388 0.3228852\n",
      "  0.58131806 0.36126331 0.41781635 0.58920569]\n",
      " [0.51504539 0.87862474 0.97223127 0.39161388 0.         0.69778562\n",
      "  0.90231231 0.51251859 0.71584583 0.74939981]]\n"
     ]
    }
   ],
   "source": [
    "a = np.random.random((10,2))\n",
    "delta_coords = a[:, np.newaxis, :] - a[np.newaxis, :, :]\n",
    "r = np.sqrt(np.sum(np.square(delta_coords), axis=2))\n",
    "print(r[:5])"
   ]
  },
  {
   "cell_type": "code",
   "execution_count": 100,
   "id": "ebf75830",
   "metadata": {},
   "outputs": [
    {
     "data": {
      "text/plain": [
       "array([[[ 0.        ,  0.        ],\n",
       "        [ 0.1007055 , -0.40871864],\n",
       "        [ 0.16826915, -0.47510749],\n",
       "        [-0.2694231 , -0.06210276],\n",
       "        [-0.41869267,  0.299947  ],\n",
       "        [-0.03190992, -0.28083168],\n",
       "        [ 0.26663267, -0.28699141],\n",
       "        [ 0.05331294,  0.10023217],\n",
       "        [-0.49865909, -0.41141833],\n",
       "        [ 0.30023291,  0.08841427]],\n",
       "\n",
       "       [[-0.1007055 ,  0.40871864],\n",
       "        [ 0.        ,  0.        ],\n",
       "        [ 0.06756365, -0.06638885],\n",
       "        [-0.3701286 ,  0.34661588],\n",
       "        [-0.51939817,  0.70866564],\n",
       "        [-0.13261542,  0.12788696],\n",
       "        [ 0.16592717,  0.12172723],\n",
       "        [-0.04739256,  0.50895081],\n",
       "        [-0.59936458, -0.00269969],\n",
       "        [ 0.19952741,  0.49713291]],\n",
       "\n",
       "       [[-0.16826915,  0.47510749],\n",
       "        [-0.06756365,  0.06638885],\n",
       "        [ 0.        ,  0.        ],\n",
       "        [-0.43769225,  0.41300473],\n",
       "        [-0.58696182,  0.77505449],\n",
       "        [-0.20017907,  0.19427581],\n",
       "        [ 0.09836352,  0.18811608],\n",
       "        [-0.11495621,  0.57533966],\n",
       "        [-0.66692824,  0.06368916],\n",
       "        [ 0.13196376,  0.56352176]],\n",
       "\n",
       "       [[ 0.2694231 ,  0.06210276],\n",
       "        [ 0.3701286 , -0.34661588],\n",
       "        [ 0.43769225, -0.41300473],\n",
       "        [ 0.        ,  0.        ],\n",
       "        [-0.14926957,  0.36204976],\n",
       "        [ 0.23751318, -0.21872892],\n",
       "        [ 0.53605577, -0.22488865],\n",
       "        [ 0.32273604,  0.16233493],\n",
       "        [-0.22923598, -0.34931557],\n",
       "        [ 0.56965601,  0.15051703]],\n",
       "\n",
       "       [[ 0.41869267, -0.299947  ],\n",
       "        [ 0.51939817, -0.70866564],\n",
       "        [ 0.58696182, -0.77505449],\n",
       "        [ 0.14926957, -0.36204976],\n",
       "        [ 0.        ,  0.        ],\n",
       "        [ 0.38678275, -0.58077867],\n",
       "        [ 0.68532534, -0.5869384 ],\n",
       "        [ 0.47200561, -0.19971483],\n",
       "        [-0.07996641, -0.71136533],\n",
       "        [ 0.71892558, -0.21153273]],\n",
       "\n",
       "       [[ 0.03190992,  0.28083168],\n",
       "        [ 0.13261542, -0.12788696],\n",
       "        [ 0.20017907, -0.19427581],\n",
       "        [-0.23751318,  0.21872892],\n",
       "        [-0.38678275,  0.58077867],\n",
       "        [ 0.        ,  0.        ],\n",
       "        [ 0.29854259, -0.00615973],\n",
       "        [ 0.08522286,  0.38106385],\n",
       "        [-0.46674917, -0.13058665],\n",
       "        [ 0.33214283,  0.36924595]],\n",
       "\n",
       "       [[-0.26663267,  0.28699141],\n",
       "        [-0.16592717, -0.12172723],\n",
       "        [-0.09836352, -0.18811608],\n",
       "        [-0.53605577,  0.22488865],\n",
       "        [-0.68532534,  0.5869384 ],\n",
       "        [-0.29854259,  0.00615973],\n",
       "        [ 0.        ,  0.        ],\n",
       "        [-0.21331973,  0.38722358],\n",
       "        [-0.76529175, -0.12442692],\n",
       "        [ 0.03360024,  0.37540568]],\n",
       "\n",
       "       [[-0.05331294, -0.10023217],\n",
       "        [ 0.04739256, -0.50895081],\n",
       "        [ 0.11495621, -0.57533966],\n",
       "        [-0.32273604, -0.16233493],\n",
       "        [-0.47200561,  0.19971483],\n",
       "        [-0.08522286, -0.38106385],\n",
       "        [ 0.21331973, -0.38722358],\n",
       "        [ 0.        ,  0.        ],\n",
       "        [-0.55197202, -0.5116505 ],\n",
       "        [ 0.24691997, -0.0118179 ]],\n",
       "\n",
       "       [[ 0.49865909,  0.41141833],\n",
       "        [ 0.59936458,  0.00269969],\n",
       "        [ 0.66692824, -0.06368916],\n",
       "        [ 0.22923598,  0.34931557],\n",
       "        [ 0.07996641,  0.71136533],\n",
       "        [ 0.46674917,  0.13058665],\n",
       "        [ 0.76529175,  0.12442692],\n",
       "        [ 0.55197202,  0.5116505 ],\n",
       "        [ 0.        ,  0.        ],\n",
       "        [ 0.79889199,  0.4998326 ]],\n",
       "\n",
       "       [[-0.30023291, -0.08841427],\n",
       "        [-0.19952741, -0.49713291],\n",
       "        [-0.13196376, -0.56352176],\n",
       "        [-0.56965601, -0.15051703],\n",
       "        [-0.71892558,  0.21153273],\n",
       "        [-0.33214283, -0.36924595],\n",
       "        [-0.03360024, -0.37540568],\n",
       "        [-0.24691997,  0.0118179 ],\n",
       "        [-0.79889199, -0.4998326 ],\n",
       "        [ 0.        ,  0.        ]]])"
      ]
     },
     "execution_count": 100,
     "metadata": {},
     "output_type": "execute_result"
    }
   ],
   "source": [
    "a[:, np.newaxis, :] - a[np.newaxis, :, :]"
   ]
  },
  {
   "cell_type": "code",
   "execution_count": 101,
   "id": "952377a6",
   "metadata": {},
   "outputs": [
    {
     "name": "stdout",
     "output_type": "stream",
     "text": [
      "[[0.         1.14455319 0.4095388  0.48080931 0.67076248 0.95305872\n",
      "  0.62766723 0.24928063 0.90552768 0.97253969]\n",
      " [1.14455319 0.         0.90223989 0.69670589 0.56021133 0.25367511\n",
      "  0.66725877 0.89684543 0.34554386 0.61345401]\n",
      " [0.4095388  0.90223989 0.         0.2299335  0.34768806 0.6654786\n",
      "  0.64646021 0.31676996 0.77834451 0.57958832]\n",
      " [0.48080931 0.69670589 0.2299335  0.         0.19263452 0.47999684\n",
      "  0.4473713  0.26689254 0.54845633 0.52726868]\n",
      " [0.67076248 0.56021133 0.34768806 0.19263452 0.         0.31800591\n",
      "  0.53444391 0.45806671 0.50943259 0.35116157]\n",
      " [0.95305872 0.25367511 0.6654786  0.47999684 0.31800591 0.\n",
      "  0.59921268 0.71494062 0.37686201 0.3888401 ]\n",
      " [0.62766723 0.66725877 0.64646021 0.4473713  0.53444391 0.59921268\n",
      "  0.         0.41028406 0.33861743 0.86736747]\n",
      " [0.24928063 0.89684543 0.31676996 0.26689254 0.45806671 0.71494062\n",
      "  0.41028406 0.         0.65991096 0.79148076]\n",
      " [0.90552768 0.34554386 0.77834451 0.54845633 0.50943259 0.37686201\n",
      "  0.33861743 0.65991096 0.         0.74372008]\n",
      " [0.97253969 0.61345401 0.57958832 0.52726868 0.35116157 0.3888401\n",
      "  0.86736747 0.79148076 0.74372008 0.        ]]\n"
     ]
    }
   ],
   "source": [
    "Z = np.random.random((10,2))\n",
    "X,Y = Z[:, np.newaxis, 0], Z[:, np.newaxis, 1]\n",
    "D = np.sqrt((X - X.T)**2 + (Y - Y.T)**2)\n",
    "print(D)"
   ]
  },
  {
   "cell_type": "markdown",
   "id": "0e2990a0",
   "metadata": {},
   "source": [
    "#### 53. How to convert a float (32 bits) array into an integer (32 bits) array in place?"
   ]
  },
  {
   "cell_type": "code",
   "execution_count": 102,
   "id": "8d7e441e",
   "metadata": {},
   "outputs": [
    {
     "name": "stdout",
     "output_type": "stream",
     "text": [
      "[ 1.19948121 -0.26569869 -1.79508178 -0.36713315  0.61227957  0.40911176\n",
      "  0.20268907  0.84615218 -1.35647375  1.07008812]\n",
      "[ 1.  0. -1.  0.  0.  0.  0.  0. -1.  1.]\n"
     ]
    }
   ],
   "source": [
    "A = np.random.randn(10)\n",
    "print(A)\n",
    "# A[:]とすることでAの要素だけを書き換えれる\n",
    "A[:] = A.astype(np.int32)\n",
    "print(A)"
   ]
  },
  {
   "cell_type": "code",
   "execution_count": 103,
   "id": "0b77e511",
   "metadata": {},
   "outputs": [
    {
     "name": "stdout",
     "output_type": "stream",
     "text": [
      "# Thanks Vikas (https://stackoverflow.com/a/10622758/5989906)\n",
      "# & unutbu (https://stackoverflow.com/a/4396247/5989906)\n",
      "Z = (np.random.rand(10)*100).astype(np.float32)\n",
      "Y = Z.view(np.int32)\n",
      "Y[:] = Z\n",
      "print(Y)\n"
     ]
    }
   ],
   "source": [
    "answer(53)"
   ]
  },
  {
   "cell_type": "markdown",
   "id": "9e3fae09",
   "metadata": {},
   "source": [
    "#### 54. How to read the following file? (★★☆)\n",
    "```\n",
    "1, 2, 3, 4, 5\n",
    "6,  ,  , 7, 8\n",
    " ,  , 9,10,11\n",
    "```"
   ]
  },
  {
   "cell_type": "code",
   "execution_count": 104,
   "id": "5ce8d677",
   "metadata": {},
   "outputs": [
    {
     "name": "stdout",
     "output_type": "stream",
     "text": [
      "hint: np.genfromtxt\n"
     ]
    }
   ],
   "source": [
    "hint(54)"
   ]
  },
  {
   "cell_type": "code",
   "execution_count": 105,
   "id": "166e1051",
   "metadata": {},
   "outputs": [
    {
     "data": {
      "text/plain": [
       "array([[ 1.,  2.,  3.,  4.,  5.],\n",
       "       [ 6., nan, nan,  7.,  8.],\n",
       "       [nan, nan,  9., 10., 11.]])"
      ]
     },
     "execution_count": 105,
     "metadata": {},
     "output_type": "execute_result"
    }
   ],
   "source": [
    "from io import StringIO\n",
    "s = StringIO(\"\"\"1, 2, 3, 4, 5\n",
    "             6, , , 7, 8\n",
    "              , , 9,10,11\"\"\")\n",
    "data = np.genfromtxt(s, delimiter=\",\", dtype=float)\n",
    "data\n"
   ]
  },
  {
   "cell_type": "code",
   "execution_count": 106,
   "id": "528ff2f2",
   "metadata": {},
   "outputs": [
    {
     "name": "stdout",
     "output_type": "stream",
     "text": [
      "     0    1    2   3   4\n",
      "0  1.0  2.0  3.0   4   5\n",
      "1  6.0  NaN  NaN   7   8\n",
      "2  NaN  NaN  9.0  10  11\n"
     ]
    }
   ],
   "source": [
    "from io import StringIO\n",
    "import pandas as pd\n",
    "\n",
    "s = StringIO(\"\"\"1, 2, 3, 4, 5\n",
    "6, , , 7, 8\n",
    " , , 9,10,11\"\"\")\n",
    "data = pd.read_csv(s, sep=\",\", header=None, na_values=[\" \"])\n",
    "print(data)"
   ]
  },
  {
   "cell_type": "code",
   "execution_count": 107,
   "id": "cc3b11f9",
   "metadata": {},
   "outputs": [
    {
     "name": "stdout",
     "output_type": "stream",
     "text": [
      "from io import StringIO\n",
      "\n",
      "# Fake file\n",
      "s = StringIO('''1, 2, 3, 4, 5\n",
      "\n",
      "                6,  ,  , 7, 8\n",
      "\n",
      "                 ,  , 9,10,11\n",
      "''')\n",
      "Z = np.genfromtxt(s, delimiter=\",\", dtype=np.int)\n",
      "print(Z)\n"
     ]
    }
   ],
   "source": [
    "answer(54)"
   ]
  },
  {
   "cell_type": "markdown",
   "id": "dc8e013a",
   "metadata": {},
   "source": [
    "#### 55. What is the equivalent of enumerate for numpy arrays? (★★☆)"
   ]
  },
  {
   "cell_type": "code",
   "execution_count": 108,
   "id": "6b46c440",
   "metadata": {},
   "outputs": [
    {
     "name": "stdout",
     "output_type": "stream",
     "text": [
      "(0, 0) 1\n",
      "(0, 1) 2\n",
      "(1, 0) 3\n",
      "(1, 1) 4\n"
     ]
    }
   ],
   "source": [
    "A = np.array([[1, 2], [3, 4]])\n",
    "for idx, val in np.ndenumerate(A):\n",
    "    print(idx, val)\n"
   ]
  },
  {
   "cell_type": "markdown",
   "id": "acdcd8d9",
   "metadata": {},
   "source": [
    "#### 56. Generate a generic 2D Gaussian-like array (★★☆)"
   ]
  },
  {
   "cell_type": "code",
   "execution_count": 109,
   "id": "c00f8b49",
   "metadata": {},
   "outputs": [
    {
     "name": "stdout",
     "output_type": "stream",
     "text": [
      "hint: np.meshgrid, np.exp\n"
     ]
    }
   ],
   "source": [
    "hint(56)"
   ]
  },
  {
   "cell_type": "code",
   "execution_count": 110,
   "id": "c1fa5741",
   "metadata": {},
   "outputs": [
    {
     "name": "stdout",
     "output_type": "stream",
     "text": [
      "X, Y = np.meshgrid(np.linspace(-1,1,10), np.linspace(-1,1,10))\n",
      "D = np.sqrt(X*X+Y*Y)\n",
      "sigma, mu = 1.0, 0.0\n",
      "G = np.exp(-( (D-mu)**2 / ( 2.0 * sigma**2 ) ) )\n",
      "print(G)\n"
     ]
    }
   ],
   "source": [
    "answer(56)"
   ]
  },
  {
   "cell_type": "code",
   "execution_count": 111,
   "id": "97d932dd",
   "metadata": {},
   "outputs": [
    {
     "name": "stdout",
     "output_type": "stream",
     "text": [
      "[[0.24311673 0.28171437 0.31855539 0.34850854 0.3656225  0.3656225\n",
      "  0.34850854 0.31855539 0.28171437 0.24311673]\n",
      " [0.28171437 0.33288976 0.38449907 0.42904348 0.45581229 0.45581229\n",
      "  0.42904348 0.38449907 0.33288976 0.28171437]\n",
      " [0.31855539 0.38449907 0.45581229 0.52315183 0.56747549 0.56747549\n",
      "  0.52315183 0.45581229 0.38449907 0.31855539]\n",
      " [0.34850854 0.42904348 0.52315183 0.62412506 0.70372742 0.70372742\n",
      "  0.62412506 0.52315183 0.42904348 0.34850854]\n",
      " [0.3656225  0.45581229 0.56747549 0.70372742 0.85458882 0.85458882\n",
      "  0.70372742 0.56747549 0.45581229 0.3656225 ]\n",
      " [0.3656225  0.45581229 0.56747549 0.70372742 0.85458882 0.85458882\n",
      "  0.70372742 0.56747549 0.45581229 0.3656225 ]\n",
      " [0.34850854 0.42904348 0.52315183 0.62412506 0.70372742 0.70372742\n",
      "  0.62412506 0.52315183 0.42904348 0.34850854]\n",
      " [0.31855539 0.38449907 0.45581229 0.52315183 0.56747549 0.56747549\n",
      "  0.52315183 0.45581229 0.38449907 0.31855539]\n",
      " [0.28171437 0.33288976 0.38449907 0.42904348 0.45581229 0.45581229\n",
      "  0.42904348 0.38449907 0.33288976 0.28171437]\n",
      " [0.24311673 0.28171437 0.31855539 0.34850854 0.3656225  0.3656225\n",
      "  0.34850854 0.31855539 0.28171437 0.24311673]]\n"
     ]
    }
   ],
   "source": [
    "X, Y = np.meshgrid(np.linspace(-1, 1, 10), np.linspace(-1, 1, 10))\n",
    "D = np.sqrt(X*X + Y*Y)\n",
    "sigma, mu = 1.0, 0.0\n",
    "y = (np.exp(-(D - mu) / (2 * sigma)) ** 2)\n",
    "print(y)"
   ]
  },
  {
   "cell_type": "markdown",
   "id": "3f0bf645",
   "metadata": {},
   "source": [
    "#### 57. How to randomly place p elements in a 2D array? (★★☆)"
   ]
  },
  {
   "cell_type": "code",
   "execution_count": 112,
   "id": "bac7ed71",
   "metadata": {},
   "outputs": [
    {
     "name": "stdout",
     "output_type": "stream",
     "text": [
      "[[0. 0. 1. 1. 1.]\n",
      " [0. 0. 0. 0. 0.]\n",
      " [0. 0. 0. 0. 0.]\n",
      " [0. 0. 0. 0. 0.]\n",
      " [0. 0. 0. 0. 0.]]\n"
     ]
    }
   ],
   "source": [
    "A = np.zeros((5, 5))\n",
    "p = 3\n",
    "idx = np.unravel_index(np.random.randint(0, 25, p, ), (5, 5))\n",
    "A[idx] = 1\n",
    "print(A)"
   ]
  },
  {
   "cell_type": "code",
   "execution_count": 113,
   "id": "bfcfff69",
   "metadata": {},
   "outputs": [
    {
     "name": "stdout",
     "output_type": "stream",
     "text": [
      "[[0. 0. 0. 0. 0.]\n",
      " [0. 0. 0. 1. 0.]\n",
      " [0. 1. 0. 0. 0.]\n",
      " [0. 0. 0. 0. 0.]\n",
      " [1. 0. 0. 0. 0.]]\n"
     ]
    }
   ],
   "source": [
    "A = np.zeros((5, 5))\n",
    "# choiceが重複のない選択をできる\n",
    "np.put(A, np.random.choice(25, p, replace=False), 1)\n",
    "print(A)"
   ]
  },
  {
   "cell_type": "code",
   "execution_count": 114,
   "id": "26da2081",
   "metadata": {},
   "outputs": [
    {
     "name": "stdout",
     "output_type": "stream",
     "text": [
      "# Author: Divakar\n",
      "\n",
      "n = 10\n",
      "p = 3\n",
      "Z = np.zeros((n,n))\n",
      "np.put(Z, np.random.choice(range(n*n), p, replace=False),1)\n",
      "print(Z)\n"
     ]
    }
   ],
   "source": [
    "answer(57)"
   ]
  },
  {
   "cell_type": "markdown",
   "id": "b9ac42fc",
   "metadata": {},
   "source": [
    "#### 58. Subtract the mean of each row of a matrix (★★☆)"
   ]
  },
  {
   "cell_type": "code",
   "execution_count": 115,
   "id": "0cac0138",
   "metadata": {},
   "outputs": [
    {
     "name": "stdout",
     "output_type": "stream",
     "text": [
      "[[ 3.2  2.2  3.2 -2.8 -5.8]\n",
      " [-2.  -4.  -2.   4.   4. ]\n",
      " [-1.2 -4.2  2.8  1.8  0.8]\n",
      " [ 3.2 -1.8 -1.8  3.2 -2.8]\n",
      " [ 1.4 -1.6  3.4 -0.6 -2.6]\n",
      " [-0.6 -4.6 -0.6  3.4  2.4]\n",
      " [ 2.8 -0.2  2.8 -5.2 -0.2]\n",
      " [-0.6  0.4 -2.6  4.4 -1.6]\n",
      " [-1.2  0.8  1.8  0.8 -2.2]\n",
      " [-1.4  0.6  2.6  0.6 -2.4]]\n"
     ]
    }
   ],
   "source": [
    "A = np.random.randint(0, 10, (10, 5)).astype(np.float64)\n",
    "# keepdimsをしないとテンソルとして残らないため\n",
    "A[:] -= np.mean(A, axis=1, keepdims=True)\n",
    "print(A)"
   ]
  },
  {
   "cell_type": "markdown",
   "id": "f2c2e314",
   "metadata": {},
   "source": [
    "#### 59. How to sort an array by the nth column? (★★☆)"
   ]
  },
  {
   "cell_type": "code",
   "execution_count": 116,
   "id": "61739197",
   "metadata": {},
   "outputs": [
    {
     "name": "stdout",
     "output_type": "stream",
     "text": [
      "[[9 7 3 0 9]\n",
      " [7 2 2 1 6]\n",
      " [3 1 0 1 2]\n",
      " [5 3 9 6 3]\n",
      " [7 8 8 9 4]]\n"
     ]
    },
    {
     "data": {
      "text/plain": [
       "array([[3, 1, 0, 1, 2],\n",
       "       [7, 2, 2, 1, 6],\n",
       "       [5, 3, 9, 6, 3],\n",
       "       [9, 7, 3, 0, 9],\n",
       "       [7, 8, 8, 9, 4]])"
      ]
     },
     "execution_count": 116,
     "metadata": {},
     "output_type": "execute_result"
    }
   ],
   "source": [
    "A = np.random.randint(0, 10, (5, 5))\n",
    "print(A)\n",
    "A.argsort()\n",
    "A[A[:, 1].argsort()]"
   ]
  },
  {
   "cell_type": "code",
   "execution_count": 117,
   "id": "436605e6",
   "metadata": {},
   "outputs": [
    {
     "name": "stdout",
     "output_type": "stream",
     "text": [
      "[[7 0 6 9 1]\n",
      " [9 9 1 2 4]\n",
      " [5 9 5 3 7]\n",
      " [6 0 3 1 3]\n",
      " [1 1 2 7 8]]\n"
     ]
    },
    {
     "data": {
      "text/html": [
       "<div>\n",
       "<style scoped>\n",
       "    .dataframe tbody tr th:only-of-type {\n",
       "        vertical-align: middle;\n",
       "    }\n",
       "\n",
       "    .dataframe tbody tr th {\n",
       "        vertical-align: top;\n",
       "    }\n",
       "\n",
       "    .dataframe thead th {\n",
       "        text-align: right;\n",
       "    }\n",
       "</style>\n",
       "<table border=\"1\" class=\"dataframe\">\n",
       "  <thead>\n",
       "    <tr style=\"text-align: right;\">\n",
       "      <th></th>\n",
       "      <th>2</th>\n",
       "      <th>3</th>\n",
       "      <th>4</th>\n",
       "      <th>0</th>\n",
       "      <th>1</th>\n",
       "    </tr>\n",
       "  </thead>\n",
       "  <tbody>\n",
       "    <tr>\n",
       "      <th>0</th>\n",
       "      <td>6</td>\n",
       "      <td>9</td>\n",
       "      <td>1</td>\n",
       "      <td>7</td>\n",
       "      <td>0</td>\n",
       "    </tr>\n",
       "    <tr>\n",
       "      <th>1</th>\n",
       "      <td>1</td>\n",
       "      <td>2</td>\n",
       "      <td>4</td>\n",
       "      <td>9</td>\n",
       "      <td>9</td>\n",
       "    </tr>\n",
       "    <tr>\n",
       "      <th>2</th>\n",
       "      <td>5</td>\n",
       "      <td>3</td>\n",
       "      <td>7</td>\n",
       "      <td>5</td>\n",
       "      <td>9</td>\n",
       "    </tr>\n",
       "    <tr>\n",
       "      <th>3</th>\n",
       "      <td>3</td>\n",
       "      <td>1</td>\n",
       "      <td>3</td>\n",
       "      <td>6</td>\n",
       "      <td>0</td>\n",
       "    </tr>\n",
       "    <tr>\n",
       "      <th>4</th>\n",
       "      <td>2</td>\n",
       "      <td>7</td>\n",
       "      <td>8</td>\n",
       "      <td>1</td>\n",
       "      <td>1</td>\n",
       "    </tr>\n",
       "  </tbody>\n",
       "</table>\n",
       "</div>"
      ],
      "text/plain": [
       "   2  3  4  0  1\n",
       "0  6  9  1  7  0\n",
       "1  1  2  4  9  9\n",
       "2  5  3  7  5  9\n",
       "3  3  1  3  6  0\n",
       "4  2  7  8  1  1"
      ]
     },
     "execution_count": 117,
     "metadata": {},
     "output_type": "execute_result"
    }
   ],
   "source": [
    "A = np.random.randint(0, 10, (5, 5))\n",
    "print(A)\n",
    "A = pd.DataFrame(A)\n",
    "A.sort_values(by=1, axis=1)"
   ]
  },
  {
   "cell_type": "code",
   "execution_count": 118,
   "id": "eb0f87d7",
   "metadata": {},
   "outputs": [
    {
     "name": "stdout",
     "output_type": "stream",
     "text": [
      "# Author: Steve Tjoa\n",
      "\n",
      "Z = np.random.randint(0,10,(3,3))\n",
      "print(Z)\n",
      "print(Z[Z[:,1].argsort()])\n"
     ]
    }
   ],
   "source": [
    "answer(59)"
   ]
  },
  {
   "cell_type": "markdown",
   "id": "e8311ecb",
   "metadata": {},
   "source": [
    "#### 60. How to tell if a given 2D array has null columns? (★★☆)"
   ]
  },
  {
   "cell_type": "code",
   "execution_count": 119,
   "id": "a3fd8a79",
   "metadata": {},
   "outputs": [
    {
     "name": "stdout",
     "output_type": "stream",
     "text": [
      "hint: any, ~\n"
     ]
    }
   ],
   "source": [
    "hint(60)"
   ]
  },
  {
   "cell_type": "code",
   "execution_count": 120,
   "id": "829d4da4",
   "metadata": {},
   "outputs": [
    {
     "name": "stdout",
     "output_type": "stream",
     "text": [
      "# Author: Warren Weckesser\n",
      "\n",
      "# null : 0 \n",
      "Z = np.random.randint(0,3,(3,10))\n",
      "print((~Z.any(axis=0)).any())\n",
      "\n",
      "# null : np.nan\n",
      "Z=np.array([\n",
      "    [0,1,np.nan],\n",
      "    [1,2,np.nan],\n",
      "    [4,5,np.nan]\n",
      "])\n",
      "print(np.isnan(Z).all(axis=0))\n"
     ]
    }
   ],
   "source": [
    "answer(60)"
   ]
  },
  {
   "cell_type": "code",
   "execution_count": 121,
   "id": "2c429362",
   "metadata": {},
   "outputs": [
    {
     "name": "stdout",
     "output_type": "stream",
     "text": [
      "[False False  True]\n",
      "[[ 0.  1. nan]\n",
      " [ 1.  2. nan]\n",
      " [ 4.  5. nan]]\n"
     ]
    }
   ],
   "source": [
    "Z=np.array([\n",
    "    [0,1,np.nan],\n",
    "    [1,2,np.nan],\n",
    "    [4,5,np.nan]\n",
    "])\n",
    "print(np.isnan(Z).all(axis=0))\n",
    "print(Z)"
   ]
  },
  {
   "cell_type": "code",
   "execution_count": 122,
   "id": "b7af0179",
   "metadata": {},
   "outputs": [
    {
     "data": {
      "text/plain": [
       "0    False\n",
       "1    False\n",
       "2     True\n",
       "dtype: bool"
      ]
     },
     "execution_count": 122,
     "metadata": {},
     "output_type": "execute_result"
    }
   ],
   "source": [
    "Z = pd.DataFrame(Z)\n",
    "# axis=Noneとすればdf全体で見てくれる\n",
    "Z.isna().any(axis=0)\n"
   ]
  },
  {
   "cell_type": "markdown",
   "id": "e9617f44",
   "metadata": {},
   "source": [
    "#### 61. Find the nearest value from a given value in an array (★★☆)"
   ]
  },
  {
   "cell_type": "code",
   "execution_count": 123,
   "id": "2fb40d45",
   "metadata": {},
   "outputs": [
    {
     "ename": "IndexError",
     "evalue": "index 3 is out of bounds for axis 0 with size 3",
     "output_type": "error",
     "traceback": [
      "\u001b[31m---------------------------------------------------------------------------\u001b[39m",
      "\u001b[31mIndexError\u001b[39m                                Traceback (most recent call last)",
      "\u001b[36mCell\u001b[39m\u001b[36m \u001b[39m\u001b[32mIn[123]\u001b[39m\u001b[32m, line 4\u001b[39m\n\u001b[32m      2\u001b[39m v = \u001b[32m7\u001b[39m\n\u001b[32m      3\u001b[39m idx = np.abs(A - v).argmin()\n\u001b[32m----> \u001b[39m\u001b[32m4\u001b[39m \u001b[43mA\u001b[49m\u001b[43m[\u001b[49m\u001b[43midx\u001b[49m\u001b[43m]\u001b[49m\n",
      "\u001b[31mIndexError\u001b[39m: index 3 is out of bounds for axis 0 with size 3"
     ]
    }
   ],
   "source": [
    "A = np.random.rand(3, 3)\n",
    "v = 7\n",
    "idx = np.abs(A - v).argmin()\n",
    "A[idx]"
   ]
  },
  {
   "cell_type": "code",
   "execution_count": null,
   "id": "e7daa169",
   "metadata": {},
   "outputs": [
    {
     "data": {
      "text/html": [
       "<div>\n",
       "<style scoped>\n",
       "    .dataframe tbody tr th:only-of-type {\n",
       "        vertical-align: middle;\n",
       "    }\n",
       "\n",
       "    .dataframe tbody tr th {\n",
       "        vertical-align: top;\n",
       "    }\n",
       "\n",
       "    .dataframe thead th {\n",
       "        text-align: right;\n",
       "    }\n",
       "</style>\n",
       "<table border=\"1\" class=\"dataframe\">\n",
       "  <thead>\n",
       "    <tr style=\"text-align: right;\">\n",
       "      <th></th>\n",
       "      <th>0</th>\n",
       "      <th>1</th>\n",
       "      <th>2</th>\n",
       "    </tr>\n",
       "  </thead>\n",
       "  <tbody>\n",
       "    <tr>\n",
       "      <th>0</th>\n",
       "      <td>0.996294</td>\n",
       "      <td>0.222368</td>\n",
       "      <td>0.455866</td>\n",
       "    </tr>\n",
       "    <tr>\n",
       "      <th>2</th>\n",
       "      <td>0.516767</td>\n",
       "      <td>0.576151</td>\n",
       "      <td>0.129285</td>\n",
       "    </tr>\n",
       "    <tr>\n",
       "      <th>0</th>\n",
       "      <td>0.996294</td>\n",
       "      <td>0.222368</td>\n",
       "      <td>0.455866</td>\n",
       "    </tr>\n",
       "  </tbody>\n",
       "</table>\n",
       "</div>"
      ],
      "text/plain": [
       "          0         1         2\n",
       "0  0.996294  0.222368  0.455866\n",
       "2  0.516767  0.576151  0.129285\n",
       "0  0.996294  0.222368  0.455866"
      ]
     },
     "execution_count": 367,
     "metadata": {},
     "output_type": "execute_result"
    }
   ],
   "source": [
    "A = pd.DataFrame(np.random.rand(3, 3))\n",
    "v = 7\n",
    "A.iloc[(A - v).abs().idxmin()]"
   ]
  },
  {
   "cell_type": "code",
   "execution_count": null,
   "id": "c59bea13",
   "metadata": {},
   "outputs": [
    {
     "name": "stdout",
     "output_type": "stream",
     "text": [
      "Z = np.random.uniform(0,1,10)\n",
      "z = 0.5\n",
      "m = Z.flat[np.abs(Z - z).argmin()]\n",
      "print(m)\n"
     ]
    }
   ],
   "source": [
    "answer(61)"
   ]
  },
  {
   "cell_type": "markdown",
   "id": "892813ba",
   "metadata": {},
   "source": [
    "#### 62. Considering two arrays with shape (1,3) and (3,1), how to compute their sum using an iterator? (★★☆)"
   ]
  },
  {
   "cell_type": "code",
   "execution_count": null,
   "id": "0ec3c1ee",
   "metadata": {},
   "outputs": [
    {
     "name": "stdout",
     "output_type": "stream",
     "text": [
      "[[0 1 2]\n",
      " [1 2 3]\n",
      " [2 3 4]]\n"
     ]
    }
   ],
   "source": [
    "A = np.arange(3).reshape(1, 3)\n",
    "B = np.arange(3).reshape(3, 1)\n",
    "\n",
    "it = np.nditer([A, B, None])\n",
    "for x, y, z in it:\n",
    "    z[...] = x + y\n",
    "result = it.operands[2].reshape(3, 3)\n",
    "print(result)"
   ]
  },
  {
   "cell_type": "markdown",
   "id": "467ff234",
   "metadata": {},
   "source": [
    "#### 63. Create an array class that has a name attribute (★★☆)"
   ]
  },
  {
   "cell_type": "code",
   "execution_count": null,
   "id": "43d6ba35",
   "metadata": {},
   "outputs": [
    {
     "name": "stdout",
     "output_type": "stream",
     "text": [
      "range_10\n"
     ]
    }
   ],
   "source": [
    "class NamedArray(np.ndarray):\n",
    "    def __new__(cls, array, name=\"no name\"):\n",
    "        obj = np.asarray(array).view(cls)\n",
    "        obj.name = name\n",
    "        return obj\n",
    "\n",
    "    def __array_finalize__(self, obj):\n",
    "        if obj is None:\n",
    "            return\n",
    "        # objにnameがあればそのままなければno nameを\n",
    "        self.name = getattr(obj, \"name\", \"no name\")\n",
    "\n",
    "A = NamedArray(np.arange(10), \"range_10\")\n",
    "print(A.name)"
   ]
  },
  {
   "cell_type": "code",
   "execution_count": null,
   "id": "f2ddafa3",
   "metadata": {},
   "outputs": [
    {
     "name": "stdout",
     "output_type": "stream",
     "text": [
      "hint: class method\n"
     ]
    }
   ],
   "source": [
    "hint(63)"
   ]
  },
  {
   "cell_type": "code",
   "execution_count": null,
   "id": "763790c8",
   "metadata": {},
   "outputs": [
    {
     "name": "stdout",
     "output_type": "stream",
     "text": [
      "class NamedArray(np.ndarray):\n",
      "    def __new__(cls, array, name=\"no name\"):\n",
      "        obj = np.asarray(array).view(cls)\n",
      "        obj.name = name\n",
      "        return obj\n",
      "    def __array_finalize__(self, obj):\n",
      "        if obj is None: return\n",
      "        self.name = getattr(obj, 'name', \"no name\")\n",
      "\n",
      "Z = NamedArray(np.arange(10), \"range_10\")\n",
      "print (Z.name)\n"
     ]
    }
   ],
   "source": [
    "answer(63)"
   ]
  },
  {
   "cell_type": "markdown",
   "id": "af15b01a",
   "metadata": {},
   "source": [
    "#### 64. Consider a given vector, how to add 1 to each element indexed by a second vector (be careful with repeated indices)? (★★★)"
   ]
  },
  {
   "cell_type": "code",
   "execution_count": null,
   "id": "52d9315d",
   "metadata": {},
   "outputs": [
    {
     "name": "stdout",
     "output_type": "stream",
     "text": [
      "[2 4 3 5 5]\n"
     ]
    }
   ],
   "source": [
    "a = np.array([1, 2, 3, 4, 5])\n",
    "i = np.array([0, 1, 1, 3])\n",
    "np.add.at(a, i, 1)\n",
    "print(a)"
   ]
  },
  {
   "cell_type": "markdown",
   "id": "62d21ba4",
   "metadata": {},
   "source": [
    "#### 65. How to accumulate elements of a vector (X) to an array (F) based on an index list (I)? (★★★)"
   ]
  },
  {
   "cell_type": "code",
   "execution_count": null,
   "id": "56497ebc",
   "metadata": {},
   "outputs": [
    {
     "data": {
      "text/plain": [
       "array([1., 4., 0., 4., 0.])"
      ]
     },
     "execution_count": 374,
     "metadata": {},
     "output_type": "execute_result"
    }
   ],
   "source": [
    "a = np.array([1, 2, 3, 4, 5])\n",
    "i = np.array([0, 1, 1, 3])\n",
    "F = np.zeros(5)\n",
    "np.add.at(F, i, a[i])\n",
    "F"
   ]
  },
  {
   "cell_type": "code",
   "execution_count": null,
   "id": "0a46ab6e",
   "metadata": {},
   "outputs": [
    {
     "name": "stdout",
     "output_type": "stream",
     "text": [
      "[1. 5. 0. 4. 0. 5.]\n"
     ]
    }
   ],
   "source": [
    "X = [1, 2, 3, 4, 5]\n",
    "I = [0, 1, 1, 3, 5]\n",
    "F = np.bincount(I,X)\n",
    "print(F)"
   ]
  },
  {
   "cell_type": "code",
   "execution_count": null,
   "id": "100ae0c2",
   "metadata": {},
   "outputs": [
    {
     "name": "stdout",
     "output_type": "stream",
     "text": [
      "# Author: Alan G Isaac\n",
      "\n",
      "X = [1,2,3,4,5,6]\n",
      "I = [1,3,9,3,4,1]\n",
      "F = np.bincount(I,X)\n",
      "print(F)\n"
     ]
    }
   ],
   "source": [
    "answer(65)"
   ]
  },
  {
   "cell_type": "markdown",
   "id": "fd7e0104",
   "metadata": {},
   "source": [
    "#### 66. Considering a (w,h,3) image of (dtype=ubyte), compute the number of unique colors (★★☆)"
   ]
  },
  {
   "cell_type": "code",
   "execution_count": null,
   "id": "1cf3edec",
   "metadata": {},
   "outputs": [
    {
     "name": "stdout",
     "output_type": "stream",
     "text": [
      "# Author: Fisher Wang\n",
      "\n",
      "w, h = 256, 256\n",
      "I = np.random.randint(0, 4, (h, w, 3)).astype(np.ubyte)\n",
      "colors = np.unique(I.reshape(-1, 3), axis=0)\n",
      "n = len(colors)\n",
      "print(n)\n",
      "\n",
      "# Faster version\n",
      "# Author: Mark Setchell\n",
      "# https://stackoverflow.com/a/59671950/2836621\n",
      "\n",
      "w, h = 256, 256\n",
      "I = np.random.randint(0,4,(h,w,3), dtype=np.uint8)\n",
      "\n",
      "# View each pixel as a single 24-bit integer, rather than three 8-bit bytes\n",
      "I24 = np.dot(I.astype(np.uint32),[1,256,65536])\n",
      "\n",
      "# Count unique colours\n",
      "n = len(np.unique(I24))\n",
      "print(n)\n"
     ]
    }
   ],
   "source": [
    "answer(66)"
   ]
  },
  {
   "cell_type": "code",
   "execution_count": null,
   "id": "5f2d40ec",
   "metadata": {},
   "outputs": [
    {
     "data": {
      "text/plain": [
       "array([[0, 1, 3],\n",
       "       [1, 0, 0]])"
      ]
     },
     "execution_count": 378,
     "metadata": {},
     "output_type": "execute_result"
    }
   ],
   "source": [
    "np.random.randint(0, 4, (2, 3))"
   ]
  },
  {
   "cell_type": "code",
   "execution_count": null,
   "id": "47f705cc",
   "metadata": {},
   "outputs": [
    {
     "name": "stdout",
     "output_type": "stream",
     "text": [
      "(64, 3)\n"
     ]
    }
   ],
   "source": [
    "img = np.random.randint(0, 4, (256, 256, 3)).astype(np.ubyte)\n",
    "# 65536 x 3の2次元テンソルになる\n",
    "colors = np.unique(img.reshape(-1, 3), axis=0)\n",
    "print(colors.shape)"
   ]
  },
  {
   "cell_type": "markdown",
   "id": "dd70e081",
   "metadata": {},
   "source": [
    "#### 67. Considering a four dimensions array, how to get sum over the last two axis at once? (★★★)"
   ]
  },
  {
   "cell_type": "code",
   "execution_count": null,
   "id": "e36af36e",
   "metadata": {},
   "outputs": [
    {
     "data": {
      "text/plain": [
       "(3, 3)"
      ]
     },
     "execution_count": 380,
     "metadata": {},
     "output_type": "execute_result"
    }
   ],
   "source": [
    "A = np.array(np.random.randint(0, 10, (3, 3, 3, 3)))\n",
    "A = A.sum(axis=(-2, -1))\n",
    "A.shape"
   ]
  },
  {
   "cell_type": "code",
   "execution_count": null,
   "id": "83c5bc06",
   "metadata": {},
   "outputs": [
    {
     "name": "stdout",
     "output_type": "stream",
     "text": [
      "A = np.random.randint(0,10,(3,4,3,4))\n",
      "# solution by passing a tuple of axes (introduced in numpy 1.7.0)\n",
      "sum = A.sum(axis=(-2,-1))\n",
      "print(sum)\n",
      "# solution by flattening the last two dimensions into one\n",
      "# (useful for functions that don't accept tuples for axis argument)\n",
      "sum = A.reshape(A.shape[:-2] + (-1,)).sum(axis=-1)\n",
      "print(sum)\n"
     ]
    }
   ],
   "source": [
    "answer(67)"
   ]
  },
  {
   "cell_type": "markdown",
   "id": "58333fa3",
   "metadata": {},
   "source": [
    "#### 68. Considering a one-dimensional vector D, how to compute means of subsets of D using a vector S of same size describing subset  indices? (★★★)"
   ]
  },
  {
   "cell_type": "code",
   "execution_count": null,
   "id": "acfc823e",
   "metadata": {},
   "outputs": [
    {
     "name": "stdout",
     "output_type": "stream",
     "text": [
      "[0.47728775988334543, 0.47231712139565174, 0.5013878957295114, 0.7091819361054713, 0.4482493841810008, 0.7608067033595954, 0.5876007207044067, 0.46210498816823126, 0.6555768444723046, 0.5315289170977262]\n",
      "[0.47728776 0.47231712 0.5013879  0.70918194 0.44824938 0.7608067\n",
      " 0.58760072 0.46210499 0.65557684 0.53152892]\n"
     ]
    },
    {
     "data": {
      "text/html": [
       "<div>\n",
       "<style scoped>\n",
       "    .dataframe tbody tr th:only-of-type {\n",
       "        vertical-align: middle;\n",
       "    }\n",
       "\n",
       "    .dataframe tbody tr th {\n",
       "        vertical-align: top;\n",
       "    }\n",
       "\n",
       "    .dataframe thead th {\n",
       "        text-align: right;\n",
       "    }\n",
       "</style>\n",
       "<table border=\"1\" class=\"dataframe\">\n",
       "  <thead>\n",
       "    <tr style=\"text-align: right;\">\n",
       "      <th></th>\n",
       "      <th>D</th>\n",
       "    </tr>\n",
       "    <tr>\n",
       "      <th>S</th>\n",
       "      <th></th>\n",
       "    </tr>\n",
       "  </thead>\n",
       "  <tbody>\n",
       "    <tr>\n",
       "      <th>0</th>\n",
       "      <td>0.477288</td>\n",
       "    </tr>\n",
       "    <tr>\n",
       "      <th>1</th>\n",
       "      <td>0.472317</td>\n",
       "    </tr>\n",
       "    <tr>\n",
       "      <th>2</th>\n",
       "      <td>0.501388</td>\n",
       "    </tr>\n",
       "    <tr>\n",
       "      <th>3</th>\n",
       "      <td>0.709182</td>\n",
       "    </tr>\n",
       "    <tr>\n",
       "      <th>4</th>\n",
       "      <td>0.448249</td>\n",
       "    </tr>\n",
       "    <tr>\n",
       "      <th>5</th>\n",
       "      <td>0.760807</td>\n",
       "    </tr>\n",
       "    <tr>\n",
       "      <th>6</th>\n",
       "      <td>0.587601</td>\n",
       "    </tr>\n",
       "    <tr>\n",
       "      <th>7</th>\n",
       "      <td>0.462105</td>\n",
       "    </tr>\n",
       "    <tr>\n",
       "      <th>8</th>\n",
       "      <td>0.655577</td>\n",
       "    </tr>\n",
       "    <tr>\n",
       "      <th>9</th>\n",
       "      <td>0.531529</td>\n",
       "    </tr>\n",
       "  </tbody>\n",
       "</table>\n",
       "</div>"
      ],
      "text/plain": [
       "          D\n",
       "S          \n",
       "0  0.477288\n",
       "1  0.472317\n",
       "2  0.501388\n",
       "3  0.709182\n",
       "4  0.448249\n",
       "5  0.760807\n",
       "6  0.587601\n",
       "7  0.462105\n",
       "8  0.655577\n",
       "9  0.531529"
      ]
     },
     "execution_count": 382,
     "metadata": {},
     "output_type": "execute_result"
    }
   ],
   "source": [
    "D = np.random.uniform(0,1,100)\n",
    "S = np.random.randint(0,10,100)\n",
    "\n",
    "D_means = []\n",
    "for i in range(10):\n",
    "    S_idx = S == i\n",
    "    D_means.append(D[S_idx].mean())\n",
    "print(D_means)\n",
    "    \n",
    "\n",
    "D_sums = np.bincount(S, weights=D)\n",
    "D_counts = np.bincount(S)\n",
    "D_means = D_sums / D_counts\n",
    "print(D_means)\n",
    "\n",
    "D_S = pd.DataFrame({\"D\": D, \"S\": S})\n",
    "D_S.groupby(\"S\").mean()"
   ]
  },
  {
   "cell_type": "code",
   "execution_count": null,
   "id": "547861ea",
   "metadata": {},
   "outputs": [
    {
     "name": "stdout",
     "output_type": "stream",
     "text": [
      "# Author: Jaime Fernández del Río\n",
      "\n",
      "D = np.random.uniform(0,1,100)\n",
      "S = np.random.randint(0,10,100)\n",
      "D_sums = np.bincount(S, weights=D)\n",
      "D_counts = np.bincount(S)\n",
      "D_means = D_sums / D_counts\n",
      "print(D_means)\n",
      "\n",
      "# Pandas solution as a reference due to more intuitive code\n",
      "import pandas as pd\n",
      "print(pd.Series(D).groupby(S).mean())\n"
     ]
    }
   ],
   "source": [
    "answer(68)"
   ]
  },
  {
   "cell_type": "markdown",
   "id": "afbf2ff8",
   "metadata": {},
   "source": [
    "#### 69. How to get the diagonal of a dot product? (★★★)"
   ]
  },
  {
   "cell_type": "code",
   "execution_count": null,
   "id": "8b44d9cb",
   "metadata": {},
   "outputs": [
    {
     "name": "stdout",
     "output_type": "stream",
     "text": [
      "[[ 30 102  33]\n",
      " [ 11  84  79]\n",
      " [ 30 138  87]]\n",
      "[30 84 87]\n"
     ]
    },
    {
     "data": {
      "text/plain": [
       "array([30, 84, 87])"
      ]
     },
     "execution_count": 384,
     "metadata": {},
     "output_type": "execute_result"
    }
   ],
   "source": [
    "A = np.random.randint(0, 10, (3, 3))\n",
    "B = np.random.randint(0, 10, (3, 3,))\n",
    "\n",
    "C = np.matmul(A, B)\n",
    "print(C)\n",
    "print(C.diagonal())\n",
    "\n",
    "np.sum(A * B.T, axis=1)\n",
    "\n"
   ]
  },
  {
   "cell_type": "code",
   "execution_count": null,
   "id": "3405820b",
   "metadata": {},
   "outputs": [
    {
     "name": "stdout",
     "output_type": "stream",
     "text": [
      "# Author: Mathieu Blondel\n",
      "\n",
      "A = np.random.uniform(0,1,(5,5))\n",
      "B = np.random.uniform(0,1,(5,5))\n",
      "\n",
      "# Slow version\n",
      "np.diag(np.dot(A, B))\n",
      "\n",
      "# Fast version\n",
      "np.sum(A * B.T, axis=1)\n",
      "\n",
      "# Faster version\n",
      "np.einsum(\"ij,ji->i\", A, B)\n"
     ]
    }
   ],
   "source": [
    "answer(69)"
   ]
  },
  {
   "cell_type": "markdown",
   "id": "01a1aeea",
   "metadata": {},
   "source": [
    "#### 70. Consider the vector [1, 2, 3, 4, 5], how to build a new vector with 3 consecutive zeros interleaved between each value? (★★★)"
   ]
  },
  {
   "cell_type": "code",
   "execution_count": null,
   "id": "2105434f",
   "metadata": {},
   "outputs": [
    {
     "name": "stdout",
     "output_type": "stream",
     "text": [
      "[1, 0, 0, 0, 2, 0, 0, 0, 3, 0, 0, 0, 4, 0, 0, 0, 5, 0, 0, 0]\n"
     ]
    }
   ],
   "source": [
    "A = np.array([1, 2, 3, 4, 5])\n",
    "C = []\n",
    "for a in A:\n",
    "    C.append(a)\n",
    "    C.extend([0, 0, 0])\n",
    "print(C)"
   ]
  },
  {
   "cell_type": "code",
   "execution_count": null,
   "id": "f8e8ad73",
   "metadata": {},
   "outputs": [
    {
     "name": "stdout",
     "output_type": "stream",
     "text": [
      "[1 0 0 0 2 0 0 0 3 0 0 0 4 0 0 0 5 0 0 0]\n"
     ]
    }
   ],
   "source": [
    "C = np.zeros(len(A) * 4, dtype=int)\n",
    "C[::4] = A\n",
    "print(C)"
   ]
  },
  {
   "cell_type": "code",
   "execution_count": null,
   "id": "803c2bf6",
   "metadata": {},
   "outputs": [
    {
     "name": "stdout",
     "output_type": "stream",
     "text": [
      "# Author: Warren Weckesser\n",
      "\n",
      "Z = np.array([1,2,3,4,5])\n",
      "nz = 3\n",
      "Z0 = np.zeros(len(Z) + (len(Z)-1)*(nz))\n",
      "Z0[::nz+1] = Z\n",
      "print(Z0)\n"
     ]
    }
   ],
   "source": [
    "answer(70)"
   ]
  },
  {
   "cell_type": "markdown",
   "id": "1da61b2c",
   "metadata": {},
   "source": [
    "#### 71. Consider an array of dimension (5,5,3), how to multiply it by an array with dimensions (5,5)? (★★★)"
   ]
  },
  {
   "cell_type": "code",
   "execution_count": null,
   "id": "0f257760",
   "metadata": {},
   "outputs": [
    {
     "name": "stdout",
     "output_type": "stream",
     "text": [
      "(5, 5, 3)\n"
     ]
    }
   ],
   "source": [
    "A = np.random.randint(0, 10, [5, 5, 3])\n",
    "B = np.random.randint(0, 10, [5, 5])\n",
    "C = A * B[:, :, np.newaxis]\n",
    "print(C.shape)"
   ]
  },
  {
   "cell_type": "code",
   "execution_count": null,
   "id": "9363d8d4",
   "metadata": {},
   "outputs": [
    {
     "name": "stdout",
     "output_type": "stream",
     "text": [
      "A = np.ones((5,5,3))\n",
      "B = 2*np.ones((5,5))\n",
      "print(A * B[:,:,None])\n"
     ]
    }
   ],
   "source": [
    "answer(71)"
   ]
  },
  {
   "cell_type": "markdown",
   "id": "d465a23a",
   "metadata": {},
   "source": [
    "#### 72. How to swap two rows of an array? (★★★)"
   ]
  },
  {
   "cell_type": "code",
   "execution_count": null,
   "id": "85dbac4a",
   "metadata": {},
   "outputs": [
    {
     "data": {
      "text/plain": [
       "array([[4, 5, 6, 7],\n",
       "       [0, 1, 2, 3]])"
      ]
     },
     "execution_count": 391,
     "metadata": {},
     "output_type": "execute_result"
    }
   ],
   "source": [
    "A = np.arange(8).reshape(2, 4)\n",
    "A[[0, 1]] = A[[1, 0]]\n",
    "A\n"
   ]
  },
  {
   "cell_type": "markdown",
   "id": "64916675",
   "metadata": {},
   "source": [
    "#### 73. Consider a set of 10 triplets describing 10 triangles (with shared vertices), find the set of unique line segments composing all the  triangles (★★★)"
   ]
  },
  {
   "cell_type": "code",
   "execution_count": null,
   "id": "f4b78b30",
   "metadata": {},
   "outputs": [
    {
     "name": "stdout",
     "output_type": "stream",
     "text": [
      "(30, 2)\n",
      "(30,)\n"
     ]
    }
   ],
   "source": [
    "A = np.random.randint(0, 100, (10, 3))\n",
    "F = np.roll(A.repeat(2, axis=1), -1, axis=1)\n",
    "F = F.reshape(-1, 2)\n",
    "F = np.sort(F, axis=1)\n",
    "G = F.view(dtype=[(\"p0\", F.dtype), (\"p1\", F.dtype)])\n",
    "G = np.unique(G)\n",
    "F = np.unique(F, axis=0)\n",
    "# F = np.unique(F, axis=1)\n",
    "print(F.shape)\n",
    "print(G.shape)\n"
   ]
  },
  {
   "cell_type": "code",
   "execution_count": null,
   "id": "22cf4ff6",
   "metadata": {},
   "outputs": [
    {
     "name": "stdout",
     "output_type": "stream",
     "text": [
      "# Author: Nicolas P. Rougier\n",
      "\n",
      "faces = np.random.randint(0,100,(10,3))\n",
      "F = np.roll(faces.repeat(2,axis=1),-1,axis=1)\n",
      "F = F.reshape(len(F)*3,2)\n",
      "F = np.sort(F,axis=1)\n",
      "G = F.view( dtype=[('p0',F.dtype),('p1',F.dtype)] )\n",
      "G = np.unique(G)\n",
      "print(G)\n"
     ]
    }
   ],
   "source": [
    "answer(73)"
   ]
  },
  {
   "cell_type": "markdown",
   "id": "5ac69993",
   "metadata": {},
   "source": [
    "#### 74. Given a sorted array C that corresponds to a bincount, how to produce an array A such that np.bincount(A) == C? (★★★)"
   ]
  },
  {
   "cell_type": "code",
   "execution_count": null,
   "id": "6e2b4a3b",
   "metadata": {},
   "outputs": [
    {
     "name": "stdout",
     "output_type": "stream",
     "text": [
      "hint: np.repeat\n"
     ]
    }
   ],
   "source": [
    "hint(74)"
   ]
  },
  {
   "cell_type": "code",
   "execution_count": null,
   "id": "8c16b4a5",
   "metadata": {},
   "outputs": [
    {
     "data": {
      "text/plain": [
       "array([1, 1, 2, 3, 4, 4, 6])"
      ]
     },
     "execution_count": 395,
     "metadata": {},
     "output_type": "execute_result"
    }
   ],
   "source": [
    "C = np.bincount([1,1,2,3,4,4,6])\n",
    "A = np.repeat(np.arange(len(C)), C)\n",
    "A"
   ]
  },
  {
   "cell_type": "code",
   "execution_count": null,
   "id": "75417e2a",
   "metadata": {},
   "outputs": [
    {
     "name": "stdout",
     "output_type": "stream",
     "text": [
      "# Author: Jaime Fernández del Río\n",
      "\n",
      "C = np.bincount([1,1,2,3,4,4,6])\n",
      "A = np.repeat(np.arange(len(C)), C)\n",
      "print(A)\n"
     ]
    }
   ],
   "source": [
    "answer(74)"
   ]
  },
  {
   "cell_type": "markdown",
   "id": "41ae2500",
   "metadata": {},
   "source": [
    "#### 75. How to compute averages using a sliding window over an array? (★★★)"
   ]
  },
  {
   "cell_type": "code",
   "execution_count": null,
   "id": "460cdb46",
   "metadata": {},
   "outputs": [
    {
     "name": "stdout",
     "output_type": "stream",
     "text": [
      "[[0 1 2]\n",
      " [1 2 3]\n",
      " [2 3 4]\n",
      " [3 4 5]\n",
      " [4 5 6]]\n",
      "[1. 2. 3. 4. 5.]\n"
     ]
    }
   ],
   "source": [
    "A = np.arange(7)\n",
    "windows = np.lib.stride_tricks.sliding_window_view(A, window_shape=3)\n",
    "windows_avg = windows.mean(axis=1)\n",
    "print(windows)\n",
    "print(windows_avg)"
   ]
  },
  {
   "cell_type": "code",
   "execution_count": null,
   "id": "f19ee9d6",
   "metadata": {},
   "outputs": [
    {
     "name": "stdout",
     "output_type": "stream",
     "text": [
      "# Author: Jaime Fernández del Río\n",
      "\n",
      "def moving_average(a, n=3) :\n",
      "    ret = np.cumsum(a, dtype=float)\n",
      "    ret[n:] = ret[n:] - ret[:-n]\n",
      "    return ret[n - 1:] / n\n",
      "Z = np.arange(20)\n",
      "print(moving_average(Z, n=3))\n",
      "\n",
      "# Author: Jeff Luo (@Jeff1999)\n",
      "# make sure your NumPy >= 1.20.0\n",
      "\n",
      "from numpy.lib.stride_tricks import sliding_window_view\n",
      "\n",
      "Z = np.arange(20)\n",
      "print(sliding_window_view(Z, window_shape=3).mean(axis=-1))\n"
     ]
    }
   ],
   "source": [
    "answer(75)"
   ]
  },
  {
   "cell_type": "markdown",
   "id": "8a968a39",
   "metadata": {},
   "source": [
    "#### 76. Consider a one-dimensional array Z, build a two-dimensional array whose first row is (Z[0],Z[1],Z[2]) and each subsequent row is  shifted by 1 (last row should be (Z[-3],Z[-2],Z[-1]) (★★★)"
   ]
  },
  {
   "cell_type": "code",
   "execution_count": null,
   "id": "5d37d9b3",
   "metadata": {},
   "outputs": [
    {
     "name": "stdout",
     "output_type": "stream",
     "text": [
      "[[ 0  1  2]\n",
      " [ 1  2  3]\n",
      " [ 2  3  4]\n",
      " [ 3  4  5]\n",
      " [ 4  5  6]\n",
      " [ 5  6  7]\n",
      " [ 6  7  8]\n",
      " [ 7  8  9]\n",
      " [ 8  9 10]\n",
      " [ 9 10 11]\n",
      " [10 11 12]\n",
      " [11 12 13]\n",
      " [12 13 14]\n",
      " [13 14 15]\n",
      " [14 15 16]\n",
      " [15 16 17]\n",
      " [16 17 18]\n",
      " [17 18 19]\n",
      " [18 19 20]\n",
      " [19 20 21]\n",
      " [20 21 22]\n",
      " [21 22 23]\n",
      " [22 23 24]\n",
      " [23 24 25]\n",
      " [24 25 26]\n",
      " [25 26 27]\n",
      " [26 27 28]\n",
      " [27 28 29]]\n"
     ]
    }
   ],
   "source": [
    "A = np.arange(30)\n",
    "A = np.lib.stride_tricks.sliding_window_view(A, 3)\n",
    "print(A)"
   ]
  },
  {
   "cell_type": "code",
   "execution_count": null,
   "id": "9628bdeb",
   "metadata": {},
   "outputs": [
    {
     "name": "stdout",
     "output_type": "stream",
     "text": [
      "# Author: Joe Kington / Erik Rigtorp\n",
      "from numpy.lib import stride_tricks\n",
      "\n",
      "def rolling(a, window):\n",
      "    shape = (a.size - window + 1, window)\n",
      "    strides = (a.strides[0], a.strides[0])\n",
      "    return stride_tricks.as_strided(a, shape=shape, strides=strides)\n",
      "Z = rolling(np.arange(10), 3)\n",
      "print(Z)\n",
      "\n",
      "# Author: Jeff Luo (@Jeff1999)\n",
      "\n",
      "Z = np.arange(10)\n",
      "print(sliding_window_view(Z, window_shape=3))\n"
     ]
    }
   ],
   "source": [
    "answer(76)"
   ]
  },
  {
   "cell_type": "markdown",
   "id": "d8c056da",
   "metadata": {},
   "source": [
    "#### 77. How to negate a boolean, or to change the sign of a float inplace? (★★★)"
   ]
  },
  {
   "cell_type": "code",
   "execution_count": null,
   "id": "3a0ba740",
   "metadata": {},
   "outputs": [
    {
     "name": "stdout",
     "output_type": "stream",
     "text": [
      "[False  True  True False  True]\n",
      "[-0.83712563  0.35241629  0.77192229  0.05988866 -0.61954755]\n"
     ]
    }
   ],
   "source": [
    "A = np.random.randint(0, 2, 5).astype(bool)\n",
    "np.logical_not(A, out=A)\n",
    "print(A)\n",
    "\n",
    "A = np.random.uniform(-1.0, 1.0, 5)\n",
    "np.negative(A, out=A)\n",
    "print(A)"
   ]
  },
  {
   "cell_type": "code",
   "execution_count": null,
   "id": "5498bae4",
   "metadata": {},
   "outputs": [
    {
     "name": "stdout",
     "output_type": "stream",
     "text": [
      "# Author: Nathaniel J. Smith\n",
      "\n",
      "Z = np.random.randint(0,2,100)\n",
      "np.logical_not(Z, out=Z)\n",
      "\n",
      "Z = np.random.uniform(-1.0,1.0,100)\n",
      "np.negative(Z, out=Z)\n"
     ]
    }
   ],
   "source": [
    "answer(77)"
   ]
  },
  {
   "cell_type": "markdown",
   "id": "6a2632c8",
   "metadata": {},
   "source": [
    "#### 78. Consider 2 sets of points P0,P1 describing lines (2d) and a point p, how to compute distance from p to each line i (P0[i],P1[i])? (★★★)"
   ]
  },
  {
   "cell_type": "code",
   "execution_count": null,
   "id": "8da38ee2",
   "metadata": {},
   "outputs": [],
   "source": [
    "import numpy as np"
   ]
  },
  {
   "cell_type": "code",
   "execution_count": null,
   "id": "cce12b75",
   "metadata": {},
   "outputs": [
    {
     "name": "stdout",
     "output_type": "stream",
     "text": [
      "[ 1.02526696  4.8205729   7.39484057 12.35508469 10.65471886 10.53677457\n",
      "  5.45557083 12.07359738  0.38984915  4.45133712]\n",
      "[ 0.18812267  3.51849438  7.39484057 11.32699056 10.65471886  2.23519821\n",
      "  4.0334612   6.51239731  0.38984915  4.45133712]\n"
     ]
    }
   ],
   "source": [
    "P0 = np.random.uniform(-10, 10, (10, 2))\n",
    "\n",
    "P1 = np.random.uniform(-10, 10, (10, 2))\n",
    "\n",
    "p = np.random.uniform(-10, 10, (1, 2))\n",
    "\n",
    "\n",
    "# dx = B[\"x\"] - A[\"x\"]\n",
    "# dy = B[\"y\"] - A[\"y\"]\n",
    "# dydx = P1 - P0\n",
    "# m = dydx[:, 0] / dydx[:, 1]\n",
    "# L = np.abs(m * p[0, 0] - p[0, 1] - m * P0[:, 0] + P0[:, 1]) / np.sqrt(m ** 2 + 1)\n",
    "# print(L)\n",
    "\n",
    "\n",
    "a = P1 - P0\n",
    "b = p - P0\n",
    "# vector a の2乗\n",
    "A = (a**2).sum(axis=1)\n",
    "U = np.sum(a * b, axis=1) / A\n",
    "H = U[:, np.newaxis] * a\n",
    "\n",
    "dist_on = np.linalg.norm(p - (P0 + H), axis=1)\n",
    "# 始点側\n",
    "dist_start = np.linalg.norm(p - P0, axis=1)\n",
    "# 終点側\n",
    "dist_end = np.linalg.norm(p - P1, axis=1)\n",
    "\n",
    "# 距離を場合分けで選択\n",
    "distance = np.where(U < 0, dist_start,\n",
    "            np.where(U > 1, dist_end, dist_on))\n",
    "print(distance)\n",
    "\n",
    "\n",
    "def distance(P0, P1, p):\n",
    "    T = P1 - P0\n",
    "    L = (T**2).sum(axis=1)\n",
    "    U = -((P0[:,0]-p[...,0])*T[:,0] + (P0[:,1]-p[...,1])*T[:,1]) / L\n",
    "    U = U.reshape(len(U),1)\n",
    "    D = P0 + U*T - p\n",
    "    return np.sqrt((D**2).sum(axis=1))\n",
    "\n",
    "\n",
    "print(distance(P0, P1, p))"
   ]
  },
  {
   "cell_type": "code",
   "execution_count": null,
   "id": "8f6cb87e",
   "metadata": {},
   "outputs": [
    {
     "name": "stdout",
     "output_type": "stream",
     "text": [
      "def distance(P0, P1, p):\n",
      "    T = P1 - P0\n",
      "    L = (T**2).sum(axis=1)\n",
      "    U = -((P0[:,0]-p[...,0])*T[:,0] + (P0[:,1]-p[...,1])*T[:,1]) / L\n",
      "    U = U.reshape(len(U),1)\n",
      "    D = P0 + U*T - p\n",
      "    return np.sqrt((D**2).sum(axis=1))\n",
      "\n",
      "P0 = np.random.uniform(-10,10,(10,2))\n",
      "P1 = np.random.uniform(-10,10,(10,2))\n",
      "p  = np.random.uniform(-10,10,( 1,2))\n",
      "print(distance(P0, P1, p))\n"
     ]
    }
   ],
   "source": [
    "answer(78)"
   ]
  },
  {
   "cell_type": "markdown",
   "id": "0eaf1033",
   "metadata": {},
   "source": [
    "#### 78. Consider 2 sets of points P0,P1 describing lines (2d) and a point p, how to compute distance from p to each line i (P0[i],P1[i])? (★★★)"
   ]
  },
  {
   "cell_type": "markdown",
   "id": "7cba6ae9",
   "metadata": {},
   "source": [
    "#### 79. Consider 2 sets of points P0,P1 describing lines (2d) and a set of points P, how to compute distance from each point j (P[j]) to each line i (P0[i],P1[i])? (★★★)"
   ]
  },
  {
   "cell_type": "code",
   "execution_count": null,
   "id": "576c542d",
   "metadata": {},
   "outputs": [
    {
     "name": "stdout",
     "output_type": "stream",
     "text": [
      "[[19.74586383 18.39392072 11.66317014 11.10821982 15.09707961 14.69617749\n",
      "  12.96068101  5.82101105  2.72992454  7.19073775]\n",
      " [15.77161332 14.09624233  7.73408107  6.77152027 10.8393119  13.8989931\n",
      "   9.80107975  3.06234643  0.13708207  3.46828548]\n",
      " [13.75260675  9.92202968 13.12663559  6.48785875  2.97908782 18.20366037\n",
      "   6.70812549  9.65619833  7.86787253  8.64289007]\n",
      " [ 1.51661847  4.83679375  6.43981238  5.94006873 12.44079777  2.90766306\n",
      "   4.84600614  6.39090647 14.26716674 11.11814116]\n",
      " [ 4.13408903  6.79530968 12.1342682  11.63461892 15.27598942  0.52307228\n",
      "   9.87458294  9.23068534 18.66912977 16.6064226 ]]\n"
     ]
    }
   ],
   "source": [
    "P0 = np.random.uniform(-10, 10, (10, 2))\n",
    "\n",
    "P1 = np.random.uniform(-10, 10, (10, 2))\n",
    "\n",
    "p = np.random.uniform(-10, 10, (5 , 2))\n",
    "\n",
    "\n",
    "# dx = B[\"x\"] - A[\"x\"]\n",
    "# dy = B[\"y\"] - A[\"y\"]\n",
    "# dydx = P1 - P0\n",
    "# m = dydx[:, 0] / dydx[:, 1]\n",
    "# L = np.abs(m * p[0, 0] - p[0, 1] - m * P0[:, 0] + P0[:, 1]) / np.sqrt(m ** 2 + 1)\n",
    "# print(L)\n",
    "\n",
    "\n",
    "a = P1 - P0\n",
    "# (10, 2) -> (1, 10, 2)\n",
    "a = a[np.newaxis, :, :]\n",
    "# (5, 1, 2) - (1, 10, 2) = (5, 10, 2)\n",
    "b = p[:, np.newaxis, :] - P0[np.newaxis, :, :]\n",
    "\n",
    "# vector a の2乗\n",
    "# (1, 10, 2) -> (1, 10)\n",
    "A = (a**2).sum(axis=2)\n",
    "# (5, 10, 2) -> (5, 10)\n",
    "U = np.sum(a * b, axis=2) / A\n",
    "# (5, 10, 1) * (1, 10, 2) = (5, 10, 2)\n",
    "H = U[:, :, np.newaxis] * a\n",
    "\n",
    "# (5, 1, 2) - (1, 10, 2) - (5, 10, 2) = (5, 10, 2) -> (5, 10)\n",
    "dist_on = np.linalg.norm(p[:, np.newaxis, :] - (P0[np.newaxis, :, :] + H), axis=2)\n",
    "# 始点側\n",
    "# (5, 1, 2) - (1, 10, 2) = (5, 10, 2) -> (5, 10)\n",
    "dist_start = np.linalg.norm(p[:, np.newaxis,: ] - P0[np.newaxis, :, :], axis=2)\n",
    "# 終点側\n",
    "# (5, 1, 2) - (1, 10, 2) = (5, 10, 2) -> (5, 10)\n",
    "dist_end = np.linalg.norm(p[:, np.newaxis] - P1[np.newaxis, :, :], axis=2)\n",
    "\n",
    "# 距離を場合分けで選択\n",
    "distance = np.where(U < 0, dist_start,\n",
    "            np.where(U > 1, dist_end, dist_on))\n",
    "print(distance)\n"
   ]
  },
  {
   "cell_type": "markdown",
   "id": "1402e9db",
   "metadata": {},
   "source": [
    "#### 80. Consider an arbitrary array, write a function that extracts a subpart with a fixed shape and centered on a given element (pad with a `fill` value when necessary) (★★★)"
   ]
  },
  {
   "cell_type": "code",
   "execution_count": null,
   "id": "39de62cb",
   "metadata": {},
   "outputs": [
    {
     "name": "stdout",
     "output_type": "stream",
     "text": [
      "# Author: Nicolas Rougier\n",
      "\n",
      "Z = np.random.randint(0,10,(10,10))\n",
      "shape = (5,5)\n",
      "fill  = 0\n",
      "position = (1,1)\n",
      "\n",
      "R = np.ones(shape, dtype=Z.dtype)*fill\n",
      "P  = np.array(list(position)).astype(int)\n",
      "Rs = np.array(list(R.shape)).astype(int)\n",
      "Zs = np.array(list(Z.shape)).astype(int)\n",
      "\n",
      "R_start = np.zeros((len(shape),)).astype(int)\n",
      "R_stop  = np.array(list(shape)).astype(int)\n",
      "Z_start = (P-Rs//2)\n",
      "Z_stop  = (P+Rs//2)+Rs%2\n",
      "\n",
      "R_start = (R_start - np.minimum(Z_start,0)).tolist()\n",
      "Z_start = (np.maximum(Z_start,0)).tolist()\n",
      "R_stop = np.maximum(R_start, (R_stop - np.maximum(Z_stop-Zs,0))).tolist()\n",
      "Z_stop = (np.minimum(Z_stop,Zs)).tolist()\n",
      "\n",
      "r = [slice(start,stop) for start,stop in zip(R_start,R_stop)]\n",
      "z = [slice(start,stop) for start,stop in zip(Z_start,Z_stop)]\n",
      "R[r] = Z[z]\n",
      "print(Z)\n",
      "print(R)\n"
     ]
    }
   ],
   "source": [
    "answer(80)"
   ]
  },
  {
   "cell_type": "code",
   "execution_count": null,
   "id": "8aa89c72",
   "metadata": {},
   "outputs": [
    {
     "name": "stdout",
     "output_type": "stream",
     "text": [
      "[[-1. -1. -1.]\n",
      " [-1.  0.  1.]\n",
      " [-1.  4.  5.]]\n"
     ]
    }
   ],
   "source": [
    "\n",
    "def pad(array, N, i, j, fill=-1):\n",
    "    out = np.zeros([N, N])\n",
    "    (row, column) = array.shape\n",
    "    for a in range(N):\n",
    "        for b in range(N):\n",
    "            aa = i - N // 2 + a\n",
    "            bb = j - N // 2 + b\n",
    "            if 0 <= aa < row and 0 <= bb < column:\n",
    "                out[a, b] = array[aa, bb]\n",
    "            else:\n",
    "                out[a, b] = fill\n",
    "    print(out)\n",
    "            \n",
    "a = np.arange(16).reshape(4,4)           \n",
    "pad(a, 3, 0, 0)"
   ]
  },
  {
   "cell_type": "code",
   "execution_count": null,
   "id": "430aee9d",
   "metadata": {},
   "outputs": [
    {
     "name": "stdout",
     "output_type": "stream",
     "text": [
      "[[-1 -1 -1]\n",
      " [-1  0  1]\n",
      " [-1  4  5]]\n"
     ]
    }
   ],
   "source": [
    "def get_extract(arr, center, shape, fill=-1):\n",
    "    out = np.full(shape, fill_value=fill, dtype=arr.dtype)\n",
    "    arr_shape = np.array(arr.shape)\n",
    "    shape = np.array(shape)\n",
    "    center = np.array(center)\n",
    "\n",
    "    start = center - shape // 2\n",
    "    end = start + shape \n",
    "\n",
    "    arr_start = np.maximum(start, 0)\n",
    "    arr_end = np.minimum(end, arr_shape)\n",
    "\n",
    "    out_start = arr_start - start\n",
    "    out_end = out_start + (arr_end - arr_start)\n",
    "\n",
    "    out_slices = tuple(slice(s, e) for s, e in zip(out_start, out_end))\n",
    "    arr_slices = tuple(slice(s, e) for s, e in zip(arr_start, arr_end))\n",
    "    out[out_slices] = arr[arr_slices]\n",
    "    print(out)\n",
    "\n",
    "\n",
    "A = np.arange(16).reshape(4, 4)\n",
    "\n",
    "get_extract(A, center=(0, 0), shape=(3, 3))"
   ]
  },
  {
   "cell_type": "code",
   "execution_count": null,
   "id": "1ee792c2",
   "metadata": {},
   "outputs": [
    {
     "name": "stdout",
     "output_type": "stream",
     "text": [
      "(slice(0, 3, None), slice(0, 3, None))\n",
      "[[ 0  1  2]\n",
      " [ 4  5  6]\n",
      " [ 8  9 10]]\n"
     ]
    }
   ],
   "source": [
    "import numpy as np\n",
    "\n",
    "def extract_centered_subarray(arr, center, shape, fill=0):\n",
    "    out = np.full(shape, fill, dtype=arr.dtype)\n",
    "    arr_shape = np.array(arr.shape)\n",
    "    shape = np.array(shape)\n",
    "    center = np.array(center)\n",
    "\n",
    "    # 元配列と出力配列のスライス範囲を計算\n",
    "    start = center - shape // 2\n",
    "    end = center + (shape + 1) // 2\n",
    "\n",
    "    # 元配列側の有効範囲\n",
    "    arr_start = np.maximum(start, 0)\n",
    "    arr_end = np.minimum(end, arr_shape)\n",
    "\n",
    "    # 出力配列側の有効範囲\n",
    "    out_start = arr_start - start\n",
    "    out_end = out_start + (arr_end - arr_start)\n",
    "\n",
    "    # スライスしてコピー\n",
    "    out_slices = tuple(slice(s, e) for s, e in zip(out_start, out_end))\n",
    "    arr_slices = tuple(slice(s, e) for s, e in zip(arr_start, arr_end))\n",
    "    out[out_start[0]:out_end[0], out_start[1]:out_end[1]] = \\\n",
    "        arr[arr_start[0]:arr_end[0], arr_start[1]:arr_end[1]]\n",
    "    print(out_slices)\n",
    "    return out\n",
    "\n",
    "# 例\n",
    "a = np.arange(16).reshape(4,4)\n",
    "print(extract_centered_subarray(a, center=(1, 1), shape=(3, 3), fill=-1))\n"
   ]
  },
  {
   "cell_type": "code",
   "execution_count": null,
   "id": "eef784c1",
   "metadata": {},
   "outputs": [],
   "source": []
  },
  {
   "cell_type": "markdown",
   "id": "159a6dff",
   "metadata": {},
   "source": [
    "#### 81. Consider an array Z = [1,2,3,4,5,6,7,8,9,10,11,12,13,14], how to generate an array R = [[1,2,3,4], [2,3,4,5], [3,4,5,6], ..., [11,12,13,14]]? (★★★)"
   ]
  },
  {
   "cell_type": "code",
   "execution_count": null,
   "id": "ce160b57",
   "metadata": {},
   "outputs": [
    {
     "data": {
      "text/plain": [
       "array([[ 1,  2,  3,  4],\n",
       "       [ 2,  3,  4,  5],\n",
       "       [ 3,  4,  5,  6],\n",
       "       [ 4,  5,  6,  7],\n",
       "       [ 5,  6,  7,  8],\n",
       "       [ 6,  7,  8,  9],\n",
       "       [ 7,  8,  9, 10],\n",
       "       [ 8,  9, 10, 11],\n",
       "       [ 9, 10, 11, 12],\n",
       "       [10, 11, 12, 13],\n",
       "       [11, 12, 13, 14]])"
      ]
     },
     "execution_count": 182,
     "metadata": {},
     "output_type": "execute_result"
    }
   ],
   "source": [
    "Z = np.arange(1, 15)\n",
    "Z = np.lib.stride_tricks.sliding_window_view(Z, 4)\n",
    "Z"
   ]
  },
  {
   "cell_type": "code",
   "execution_count": null,
   "id": "9788c919",
   "metadata": {},
   "outputs": [
    {
     "name": "stdout",
     "output_type": "stream",
     "text": [
      "# Author: Stefan van der Walt\n",
      "\n",
      "Z = np.arange(1,15,dtype=np.uint32)\n",
      "R = stride_tricks.as_strided(Z,(11,4),(4,4))\n",
      "print(R)\n",
      "\n",
      "# Author: Jeff Luo (@Jeff1999)\n",
      "\n",
      "Z = np.arange(1, 15, dtype=np.uint32)\n",
      "print(sliding_window_view(Z, window_shape=4))\n"
     ]
    }
   ],
   "source": [
    "answer(81)"
   ]
  },
  {
   "cell_type": "markdown",
   "id": "9479f684",
   "metadata": {},
   "source": [
    "#### 82. Compute a matrix rank (★★★)"
   ]
  },
  {
   "cell_type": "code",
   "execution_count": null,
   "id": "9a6e088c",
   "metadata": {},
   "outputs": [
    {
     "name": "stdout",
     "output_type": "stream",
     "text": [
      "1\n"
     ]
    }
   ],
   "source": [
    "A = np.array([[1, 2], [2, 4]])\n",
    "print(np.linalg.matrix_rank(A))"
   ]
  },
  {
   "cell_type": "code",
   "execution_count": null,
   "id": "9353e2ef",
   "metadata": {},
   "outputs": [
    {
     "name": "stdout",
     "output_type": "stream",
     "text": [
      "# Author: Stefan van der Walt\n",
      "\n",
      "Z = np.random.uniform(0,1,(10,10))\n",
      "U, S, V = np.linalg.svd(Z) # Singular Value Decomposition\n",
      "rank = np.sum(S > 1e-10)\n",
      "print(rank)\n",
      "\n",
      "# alternative solution:\n",
      "# Author: Jeff Luo (@Jeff1999)\n",
      "\n",
      "rank = np.linalg.matrix_rank(Z)\n",
      "print(rank)\n"
     ]
    }
   ],
   "source": [
    "answer(82)"
   ]
  },
  {
   "cell_type": "markdown",
   "id": "5b6a81c5",
   "metadata": {},
   "source": [
    "#### 83. How to find the most frequent value in an array?"
   ]
  },
  {
   "cell_type": "code",
   "execution_count": null,
   "id": "cf1864ba",
   "metadata": {},
   "outputs": [
    {
     "data": {
      "text/html": [
       "<div>\n",
       "<style scoped>\n",
       "    .dataframe tbody tr th:only-of-type {\n",
       "        vertical-align: middle;\n",
       "    }\n",
       "\n",
       "    .dataframe tbody tr th {\n",
       "        vertical-align: top;\n",
       "    }\n",
       "\n",
       "    .dataframe thead th {\n",
       "        text-align: right;\n",
       "    }\n",
       "</style>\n",
       "<table border=\"1\" class=\"dataframe\">\n",
       "  <thead>\n",
       "    <tr style=\"text-align: right;\">\n",
       "      <th></th>\n",
       "      <th>0</th>\n",
       "      <th>count</th>\n",
       "    </tr>\n",
       "  </thead>\n",
       "  <tbody>\n",
       "    <tr>\n",
       "      <th>0</th>\n",
       "      <td>0</td>\n",
       "      <td>3</td>\n",
       "    </tr>\n",
       "    <tr>\n",
       "      <th>1</th>\n",
       "      <td>2</td>\n",
       "      <td>3</td>\n",
       "    </tr>\n",
       "    <tr>\n",
       "      <th>2</th>\n",
       "      <td>5</td>\n",
       "      <td>3</td>\n",
       "    </tr>\n",
       "    <tr>\n",
       "      <th>3</th>\n",
       "      <td>9</td>\n",
       "      <td>3</td>\n",
       "    </tr>\n",
       "    <tr>\n",
       "      <th>4</th>\n",
       "      <td>1</td>\n",
       "      <td>2</td>\n",
       "    </tr>\n",
       "    <tr>\n",
       "      <th>5</th>\n",
       "      <td>3</td>\n",
       "      <td>2</td>\n",
       "    </tr>\n",
       "    <tr>\n",
       "      <th>6</th>\n",
       "      <td>7</td>\n",
       "      <td>2</td>\n",
       "    </tr>\n",
       "    <tr>\n",
       "      <th>7</th>\n",
       "      <td>4</td>\n",
       "      <td>1</td>\n",
       "    </tr>\n",
       "    <tr>\n",
       "      <th>8</th>\n",
       "      <td>6</td>\n",
       "      <td>1</td>\n",
       "    </tr>\n",
       "  </tbody>\n",
       "</table>\n",
       "</div>"
      ],
      "text/plain": [
       "   0  count\n",
       "0  0      3\n",
       "1  2      3\n",
       "2  5      3\n",
       "3  9      3\n",
       "4  1      2\n",
       "5  3      2\n",
       "6  7      2\n",
       "7  4      1\n",
       "8  6      1"
      ]
     },
     "execution_count": 201,
     "metadata": {},
     "output_type": "execute_result"
    }
   ],
   "source": [
    "import pandas as pd\n",
    "A = np.random.randint(0, 10, 20)\n",
    "A = pd.DataFrame(A)\n",
    "A.value_counts().reset_index()"
   ]
  },
  {
   "cell_type": "code",
   "execution_count": null,
   "id": "45a7fced",
   "metadata": {},
   "outputs": [
    {
     "name": "stdout",
     "output_type": "stream",
     "text": [
      "[0 2 1 5 1 4 5 0 1 1]\n"
     ]
    }
   ],
   "source": [
    "Z = np.random.randint(0, 10, 20)\n",
    "# 出現しない値は0としてカウントされる\n",
    "print(np.bincount(Z))"
   ]
  },
  {
   "cell_type": "code",
   "execution_count": null,
   "id": "dea67f2b",
   "metadata": {},
   "outputs": [
    {
     "name": "stdout",
     "output_type": "stream",
     "text": [
      "Z = np.random.randint(0,10,50)\n",
      "print(np.bincount(Z).argmax())\n"
     ]
    }
   ],
   "source": [
    "answer(83)"
   ]
  },
  {
   "cell_type": "markdown",
   "id": "8142c362",
   "metadata": {},
   "source": [
    "#### 84. Extract all the contiguous 3x3 blocks from a random 10x10 matrix (★★★)"
   ]
  },
  {
   "cell_type": "code",
   "execution_count": 132,
   "id": "18b475ed",
   "metadata": {},
   "outputs": [
    {
     "data": {
      "text/plain": [
       "array([[[[ 0,  1,  2],\n",
       "         [10, 11, 12],\n",
       "         [20, 21, 22]],\n",
       "\n",
       "        [[ 1,  2,  3],\n",
       "         [11, 12, 13],\n",
       "         [21, 22, 23]],\n",
       "\n",
       "        [[ 2,  3,  4],\n",
       "         [12, 13, 14],\n",
       "         [22, 23, 24]],\n",
       "\n",
       "        [[ 3,  4,  5],\n",
       "         [13, 14, 15],\n",
       "         [23, 24, 25]],\n",
       "\n",
       "        [[ 4,  5,  6],\n",
       "         [14, 15, 16],\n",
       "         [24, 25, 26]],\n",
       "\n",
       "        [[ 5,  6,  7],\n",
       "         [15, 16, 17],\n",
       "         [25, 26, 27]],\n",
       "\n",
       "        [[ 6,  7,  8],\n",
       "         [16, 17, 18],\n",
       "         [26, 27, 28]],\n",
       "\n",
       "        [[ 7,  8,  9],\n",
       "         [17, 18, 19],\n",
       "         [27, 28, 29]]],\n",
       "\n",
       "\n",
       "       [[[10, 11, 12],\n",
       "         [20, 21, 22],\n",
       "         [30, 31, 32]],\n",
       "\n",
       "        [[11, 12, 13],\n",
       "         [21, 22, 23],\n",
       "         [31, 32, 33]],\n",
       "\n",
       "        [[12, 13, 14],\n",
       "         [22, 23, 24],\n",
       "         [32, 33, 34]],\n",
       "\n",
       "        [[13, 14, 15],\n",
       "         [23, 24, 25],\n",
       "         [33, 34, 35]],\n",
       "\n",
       "        [[14, 15, 16],\n",
       "         [24, 25, 26],\n",
       "         [34, 35, 36]],\n",
       "\n",
       "        [[15, 16, 17],\n",
       "         [25, 26, 27],\n",
       "         [35, 36, 37]],\n",
       "\n",
       "        [[16, 17, 18],\n",
       "         [26, 27, 28],\n",
       "         [36, 37, 38]],\n",
       "\n",
       "        [[17, 18, 19],\n",
       "         [27, 28, 29],\n",
       "         [37, 38, 39]]],\n",
       "\n",
       "\n",
       "       [[[20, 21, 22],\n",
       "         [30, 31, 32],\n",
       "         [40, 41, 42]],\n",
       "\n",
       "        [[21, 22, 23],\n",
       "         [31, 32, 33],\n",
       "         [41, 42, 43]],\n",
       "\n",
       "        [[22, 23, 24],\n",
       "         [32, 33, 34],\n",
       "         [42, 43, 44]],\n",
       "\n",
       "        [[23, 24, 25],\n",
       "         [33, 34, 35],\n",
       "         [43, 44, 45]],\n",
       "\n",
       "        [[24, 25, 26],\n",
       "         [34, 35, 36],\n",
       "         [44, 45, 46]],\n",
       "\n",
       "        [[25, 26, 27],\n",
       "         [35, 36, 37],\n",
       "         [45, 46, 47]],\n",
       "\n",
       "        [[26, 27, 28],\n",
       "         [36, 37, 38],\n",
       "         [46, 47, 48]],\n",
       "\n",
       "        [[27, 28, 29],\n",
       "         [37, 38, 39],\n",
       "         [47, 48, 49]]],\n",
       "\n",
       "\n",
       "       [[[30, 31, 32],\n",
       "         [40, 41, 42],\n",
       "         [50, 51, 52]],\n",
       "\n",
       "        [[31, 32, 33],\n",
       "         [41, 42, 43],\n",
       "         [51, 52, 53]],\n",
       "\n",
       "        [[32, 33, 34],\n",
       "         [42, 43, 44],\n",
       "         [52, 53, 54]],\n",
       "\n",
       "        [[33, 34, 35],\n",
       "         [43, 44, 45],\n",
       "         [53, 54, 55]],\n",
       "\n",
       "        [[34, 35, 36],\n",
       "         [44, 45, 46],\n",
       "         [54, 55, 56]],\n",
       "\n",
       "        [[35, 36, 37],\n",
       "         [45, 46, 47],\n",
       "         [55, 56, 57]],\n",
       "\n",
       "        [[36, 37, 38],\n",
       "         [46, 47, 48],\n",
       "         [56, 57, 58]],\n",
       "\n",
       "        [[37, 38, 39],\n",
       "         [47, 48, 49],\n",
       "         [57, 58, 59]]],\n",
       "\n",
       "\n",
       "       [[[40, 41, 42],\n",
       "         [50, 51, 52],\n",
       "         [60, 61, 62]],\n",
       "\n",
       "        [[41, 42, 43],\n",
       "         [51, 52, 53],\n",
       "         [61, 62, 63]],\n",
       "\n",
       "        [[42, 43, 44],\n",
       "         [52, 53, 54],\n",
       "         [62, 63, 64]],\n",
       "\n",
       "        [[43, 44, 45],\n",
       "         [53, 54, 55],\n",
       "         [63, 64, 65]],\n",
       "\n",
       "        [[44, 45, 46],\n",
       "         [54, 55, 56],\n",
       "         [64, 65, 66]],\n",
       "\n",
       "        [[45, 46, 47],\n",
       "         [55, 56, 57],\n",
       "         [65, 66, 67]],\n",
       "\n",
       "        [[46, 47, 48],\n",
       "         [56, 57, 58],\n",
       "         [66, 67, 68]],\n",
       "\n",
       "        [[47, 48, 49],\n",
       "         [57, 58, 59],\n",
       "         [67, 68, 69]]],\n",
       "\n",
       "\n",
       "       [[[50, 51, 52],\n",
       "         [60, 61, 62],\n",
       "         [70, 71, 72]],\n",
       "\n",
       "        [[51, 52, 53],\n",
       "         [61, 62, 63],\n",
       "         [71, 72, 73]],\n",
       "\n",
       "        [[52, 53, 54],\n",
       "         [62, 63, 64],\n",
       "         [72, 73, 74]],\n",
       "\n",
       "        [[53, 54, 55],\n",
       "         [63, 64, 65],\n",
       "         [73, 74, 75]],\n",
       "\n",
       "        [[54, 55, 56],\n",
       "         [64, 65, 66],\n",
       "         [74, 75, 76]],\n",
       "\n",
       "        [[55, 56, 57],\n",
       "         [65, 66, 67],\n",
       "         [75, 76, 77]],\n",
       "\n",
       "        [[56, 57, 58],\n",
       "         [66, 67, 68],\n",
       "         [76, 77, 78]],\n",
       "\n",
       "        [[57, 58, 59],\n",
       "         [67, 68, 69],\n",
       "         [77, 78, 79]]],\n",
       "\n",
       "\n",
       "       [[[60, 61, 62],\n",
       "         [70, 71, 72],\n",
       "         [80, 81, 82]],\n",
       "\n",
       "        [[61, 62, 63],\n",
       "         [71, 72, 73],\n",
       "         [81, 82, 83]],\n",
       "\n",
       "        [[62, 63, 64],\n",
       "         [72, 73, 74],\n",
       "         [82, 83, 84]],\n",
       "\n",
       "        [[63, 64, 65],\n",
       "         [73, 74, 75],\n",
       "         [83, 84, 85]],\n",
       "\n",
       "        [[64, 65, 66],\n",
       "         [74, 75, 76],\n",
       "         [84, 85, 86]],\n",
       "\n",
       "        [[65, 66, 67],\n",
       "         [75, 76, 77],\n",
       "         [85, 86, 87]],\n",
       "\n",
       "        [[66, 67, 68],\n",
       "         [76, 77, 78],\n",
       "         [86, 87, 88]],\n",
       "\n",
       "        [[67, 68, 69],\n",
       "         [77, 78, 79],\n",
       "         [87, 88, 89]]],\n",
       "\n",
       "\n",
       "       [[[70, 71, 72],\n",
       "         [80, 81, 82],\n",
       "         [90, 91, 92]],\n",
       "\n",
       "        [[71, 72, 73],\n",
       "         [81, 82, 83],\n",
       "         [91, 92, 93]],\n",
       "\n",
       "        [[72, 73, 74],\n",
       "         [82, 83, 84],\n",
       "         [92, 93, 94]],\n",
       "\n",
       "        [[73, 74, 75],\n",
       "         [83, 84, 85],\n",
       "         [93, 94, 95]],\n",
       "\n",
       "        [[74, 75, 76],\n",
       "         [84, 85, 86],\n",
       "         [94, 95, 96]],\n",
       "\n",
       "        [[75, 76, 77],\n",
       "         [85, 86, 87],\n",
       "         [95, 96, 97]],\n",
       "\n",
       "        [[76, 77, 78],\n",
       "         [86, 87, 88],\n",
       "         [96, 97, 98]],\n",
       "\n",
       "        [[77, 78, 79],\n",
       "         [87, 88, 89],\n",
       "         [97, 98, 99]]]])"
      ]
     },
     "execution_count": 132,
     "metadata": {},
     "output_type": "execute_result"
    }
   ],
   "source": [
    "A = np.arange(0, 100).reshape(10, 10)\n",
    "A = np.lib.stride_tricks.sliding_window_view(A, (3, 3))\n",
    "A"
   ]
  },
  {
   "cell_type": "code",
   "execution_count": 133,
   "id": "cd4eb18e",
   "metadata": {},
   "outputs": [
    {
     "name": "stdout",
     "output_type": "stream",
     "text": [
      "# Author: Chris Barker\n",
      "\n",
      "Z = np.random.randint(0,5,(10,10))\n",
      "n = 3\n",
      "i = 1 + (Z.shape[0]-3)\n",
      "j = 1 + (Z.shape[1]-3)\n",
      "C = stride_tricks.as_strided(Z, shape=(i, j, n, n), strides=Z.strides + Z.strides)\n",
      "print(C)\n",
      "\n",
      "# Author: Jeff Luo (@Jeff1999)\n",
      "\n",
      "Z = np.random.randint(0,5,(10,10))\n",
      "print(sliding_window_view(Z, window_shape=(3, 3)))\n"
     ]
    }
   ],
   "source": [
    "answer(84)"
   ]
  },
  {
   "cell_type": "markdown",
   "id": "6870a477",
   "metadata": {},
   "source": [
    "#### 85. Create a 2D array subclass such that Z[i,j] == Z[j,i] (★★★)"
   ]
  },
  {
   "cell_type": "code",
   "execution_count": null,
   "id": "13de2582",
   "metadata": {},
   "outputs": [],
   "source": []
  },
  {
   "cell_type": "markdown",
   "id": "502a6bb6",
   "metadata": {},
   "source": [
    "#### 86. Consider a set of p matrices with shape (n,n) and a set of p vectors with shape (n,1). How to compute the sum of of the p matrix products at once? (result has shape (n,1)) (★★★)"
   ]
  },
  {
   "cell_type": "code",
   "execution_count": null,
   "id": "5f575c8e",
   "metadata": {},
   "outputs": [],
   "source": []
  },
  {
   "cell_type": "markdown",
   "id": "b974e01e",
   "metadata": {},
   "source": [
    "#### 87. Consider a 16x16 array, how to get the block-sum (block size is 4x4)? (★★★)"
   ]
  },
  {
   "cell_type": "code",
   "execution_count": null,
   "id": "6e691289",
   "metadata": {},
   "outputs": [],
   "source": []
  },
  {
   "cell_type": "markdown",
   "id": "0b8c10c7",
   "metadata": {},
   "source": [
    "#### 88. How to implement the Game of Life using numpy arrays? (★★★)"
   ]
  },
  {
   "cell_type": "code",
   "execution_count": null,
   "id": "cd02f7f3",
   "metadata": {},
   "outputs": [],
   "source": []
  },
  {
   "cell_type": "markdown",
   "id": "e3f82541",
   "metadata": {},
   "source": [
    "#### 89. How to get the n largest values of an array (★★★)"
   ]
  },
  {
   "cell_type": "code",
   "execution_count": null,
   "id": "4fbd0146",
   "metadata": {},
   "outputs": [],
   "source": []
  },
  {
   "cell_type": "markdown",
   "id": "a7539391",
   "metadata": {},
   "source": [
    "#### 90. Given an arbitrary number of vectors, build the cartesian product (every combination of every item) (★★★)"
   ]
  },
  {
   "cell_type": "code",
   "execution_count": null,
   "id": "c6981e30",
   "metadata": {},
   "outputs": [],
   "source": []
  },
  {
   "cell_type": "markdown",
   "id": "faf28eb3",
   "metadata": {},
   "source": [
    "#### 91. How to create a record array from a regular array? (★★★)"
   ]
  },
  {
   "cell_type": "code",
   "execution_count": null,
   "id": "bf3c36e8",
   "metadata": {},
   "outputs": [],
   "source": []
  },
  {
   "cell_type": "markdown",
   "id": "bd45d52b",
   "metadata": {},
   "source": [
    "#### 92. Consider a large vector Z, compute Z to the power of 3 using 3 different methods (★★★)"
   ]
  },
  {
   "cell_type": "code",
   "execution_count": null,
   "id": "57add736",
   "metadata": {},
   "outputs": [],
   "source": []
  },
  {
   "cell_type": "markdown",
   "id": "6403bb1e",
   "metadata": {},
   "source": [
    "#### 93. Consider two arrays A and B of shape (8,3) and (2,2). How to find rows of A that contain elements of each row of B regardless of the order of the elements in B? (★★★)"
   ]
  },
  {
   "cell_type": "code",
   "execution_count": null,
   "id": "5e99e376",
   "metadata": {},
   "outputs": [],
   "source": []
  },
  {
   "cell_type": "markdown",
   "id": "2b1a4d2d",
   "metadata": {},
   "source": [
    "#### 94. Considering a 10x3 matrix, extract rows with unequal values (e.g. [2,2,3]) (★★★)"
   ]
  },
  {
   "cell_type": "code",
   "execution_count": null,
   "id": "9d12a8cd",
   "metadata": {},
   "outputs": [],
   "source": []
  },
  {
   "cell_type": "markdown",
   "id": "523fbb20",
   "metadata": {},
   "source": [
    "#### 95. Convert a vector of ints into a matrix binary representation (★★★)"
   ]
  },
  {
   "cell_type": "code",
   "execution_count": null,
   "id": "b17c2ce8",
   "metadata": {},
   "outputs": [],
   "source": []
  },
  {
   "cell_type": "markdown",
   "id": "3eb5ef69",
   "metadata": {},
   "source": [
    "#### 96. Given a two dimensional array, how to extract unique rows? (★★★)"
   ]
  },
  {
   "cell_type": "code",
   "execution_count": null,
   "id": "092c2c20",
   "metadata": {},
   "outputs": [],
   "source": []
  },
  {
   "cell_type": "markdown",
   "id": "c0e13fe1",
   "metadata": {},
   "source": [
    "#### 97. Considering 2 vectors A & B, write the einsum equivalent of inner, outer, sum, and mul function (★★★)"
   ]
  },
  {
   "cell_type": "code",
   "execution_count": null,
   "id": "b7b697cd",
   "metadata": {},
   "outputs": [],
   "source": []
  },
  {
   "cell_type": "markdown",
   "id": "cc071dbe",
   "metadata": {},
   "source": [
    "#### 98. Considering a path described by two vectors (X,Y), how to sample it using equidistant samples (★★★)?"
   ]
  },
  {
   "cell_type": "code",
   "execution_count": null,
   "id": "fec9fe86",
   "metadata": {},
   "outputs": [],
   "source": []
  },
  {
   "cell_type": "markdown",
   "id": "972f9dc3",
   "metadata": {},
   "source": [
    "#### 99. Given an integer n and a 2D array X, select from X the rows which can be interpreted as draws from a multinomial distribution with n degrees, i.e., the rows which only contain integers and which sum to n. (★★★)"
   ]
  },
  {
   "cell_type": "code",
   "execution_count": null,
   "id": "5b284c86",
   "metadata": {},
   "outputs": [],
   "source": []
  },
  {
   "cell_type": "markdown",
   "id": "afad9d6e",
   "metadata": {},
   "source": [
    "#### 100. Compute bootstrapped 95% confidence intervals for the mean of a 1D array X (i.e., resample the elements of an array with replacement N times, compute the mean of each sample, and then compute percentiles over the means). (★★★)"
   ]
  },
  {
   "cell_type": "code",
   "execution_count": null,
   "id": "f1885c64",
   "metadata": {},
   "outputs": [],
   "source": []
  }
 ],
 "metadata": {
  "kernelspec": {
   "display_name": "Python 3",
   "language": "python",
   "name": "python3"
  },
  "language_info": {
   "codemirror_mode": {
    "name": "ipython",
    "version": 3
   },
   "file_extension": ".py",
   "mimetype": "text/x-python",
   "name": "python",
   "nbconvert_exporter": "python",
   "pygments_lexer": "ipython3",
   "version": "3.12.9"
  }
 },
 "nbformat": 4,
 "nbformat_minor": 5
}
